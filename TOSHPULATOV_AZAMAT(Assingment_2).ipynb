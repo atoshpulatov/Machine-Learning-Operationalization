{
  "nbformat": 4,
  "nbformat_minor": 0,
  "metadata": {
    "colab": {
      "name": "TOSHPULATOV AZAMAT(Assingment_2).ipynb",
      "provenance": [],
      "collapsed_sections": [],
      "authorship_tag": "ABX9TyMoAzU9cQd4418mzab9Jv/r",
      "include_colab_link": true
    },
    "kernelspec": {
      "name": "python3",
      "display_name": "Python 3"
    },
    "language_info": {
      "name": "python"
    },
    "accelerator": "GPU"
  },
  "cells": [
    {
      "cell_type": "markdown",
      "metadata": {
        "id": "view-in-github",
        "colab_type": "text"
      },
      "source": [
        "<a href=\"https://colab.research.google.com/github/atoshpulatov/Machine-Learning-Operationalization/blob/master/TOSHPULATOV_AZAMAT(Assingment_2).ipynb\" target=\"_parent\"><img src=\"https://colab.research.google.com/assets/colab-badge.svg\" alt=\"Open In Colab\"/></a>"
      ]
    },
    {
      "cell_type": "code",
      "execution_count": null,
      "metadata": {
        "id": "DKMCLf3vU3Et"
      },
      "outputs": [],
      "source": [
        "# we need to download important libraries first\n",
        "import pandas as pd\n",
        "import numpy as np\n",
        "import sklearn"
      ]
    },
    {
      "cell_type": "code",
      "source": [
        "%ls"
      ],
      "metadata": {
        "colab": {
          "base_uri": "https://localhost:8080/"
        },
        "id": "E9SQ-lWPVQdW",
        "outputId": "60f08898-3a98-4aa5-cc7d-3884c82ed036"
      },
      "execution_count": null,
      "outputs": [
        {
          "output_type": "stream",
          "name": "stdout",
          "text": [
            "\u001b[0m\u001b[01;34msample_data\u001b[0m/  vertebral_column.csv\n"
          ]
        }
      ]
    },
    {
      "cell_type": "code",
      "source": [
        "# fetch dataset from pandas read_csv  function.\n",
        "dataset = pd.read_csv('vertebral_column.csv')"
      ],
      "metadata": {
        "id": "l0b-zCbnVRbm"
      },
      "execution_count": null,
      "outputs": []
    },
    {
      "cell_type": "code",
      "source": [
        "# we can check the dataset observations, columns and samples\n",
        "dataset.head()"
      ],
      "metadata": {
        "colab": {
          "base_uri": "https://localhost:8080/",
          "height": 206
        },
        "id": "pWnYi_p8VRkt",
        "outputId": "2e47639f-53bc-4076-9299-f03659426012"
      },
      "execution_count": null,
      "outputs": [
        {
          "output_type": "execute_result",
          "data": {
            "text/plain": [
              "   pelvic_incidence  pelvic_tilt  lumbar_angle  sacral_slope  pelvic_radius  \\\n",
              "0             63.03        22.55         39.61         40.48          98.67   \n",
              "1             39.06        10.06         25.02         29.00         114.41   \n",
              "2             68.83        22.22         50.09         46.61         105.99   \n",
              "3             69.30        24.65         44.31         44.64         101.87   \n",
              "4             49.71         9.65         28.32         40.06         108.17   \n",
              "\n",
              "   spondylolisthesis_grade  class  \n",
              "0                    -0.25      1  \n",
              "1                     4.56      1  \n",
              "2                    -3.53      1  \n",
              "3                    11.21      1  \n",
              "4                     7.92      1  "
            ],
            "text/html": [
              "\n",
              "  <div id=\"df-a831b954-1514-4b71-bb1e-27ad62d35dbf\">\n",
              "    <div class=\"colab-df-container\">\n",
              "      <div>\n",
              "<style scoped>\n",
              "    .dataframe tbody tr th:only-of-type {\n",
              "        vertical-align: middle;\n",
              "    }\n",
              "\n",
              "    .dataframe tbody tr th {\n",
              "        vertical-align: top;\n",
              "    }\n",
              "\n",
              "    .dataframe thead th {\n",
              "        text-align: right;\n",
              "    }\n",
              "</style>\n",
              "<table border=\"1\" class=\"dataframe\">\n",
              "  <thead>\n",
              "    <tr style=\"text-align: right;\">\n",
              "      <th></th>\n",
              "      <th>pelvic_incidence</th>\n",
              "      <th>pelvic_tilt</th>\n",
              "      <th>lumbar_angle</th>\n",
              "      <th>sacral_slope</th>\n",
              "      <th>pelvic_radius</th>\n",
              "      <th>spondylolisthesis_grade</th>\n",
              "      <th>class</th>\n",
              "    </tr>\n",
              "  </thead>\n",
              "  <tbody>\n",
              "    <tr>\n",
              "      <th>0</th>\n",
              "      <td>63.03</td>\n",
              "      <td>22.55</td>\n",
              "      <td>39.61</td>\n",
              "      <td>40.48</td>\n",
              "      <td>98.67</td>\n",
              "      <td>-0.25</td>\n",
              "      <td>1</td>\n",
              "    </tr>\n",
              "    <tr>\n",
              "      <th>1</th>\n",
              "      <td>39.06</td>\n",
              "      <td>10.06</td>\n",
              "      <td>25.02</td>\n",
              "      <td>29.00</td>\n",
              "      <td>114.41</td>\n",
              "      <td>4.56</td>\n",
              "      <td>1</td>\n",
              "    </tr>\n",
              "    <tr>\n",
              "      <th>2</th>\n",
              "      <td>68.83</td>\n",
              "      <td>22.22</td>\n",
              "      <td>50.09</td>\n",
              "      <td>46.61</td>\n",
              "      <td>105.99</td>\n",
              "      <td>-3.53</td>\n",
              "      <td>1</td>\n",
              "    </tr>\n",
              "    <tr>\n",
              "      <th>3</th>\n",
              "      <td>69.30</td>\n",
              "      <td>24.65</td>\n",
              "      <td>44.31</td>\n",
              "      <td>44.64</td>\n",
              "      <td>101.87</td>\n",
              "      <td>11.21</td>\n",
              "      <td>1</td>\n",
              "    </tr>\n",
              "    <tr>\n",
              "      <th>4</th>\n",
              "      <td>49.71</td>\n",
              "      <td>9.65</td>\n",
              "      <td>28.32</td>\n",
              "      <td>40.06</td>\n",
              "      <td>108.17</td>\n",
              "      <td>7.92</td>\n",
              "      <td>1</td>\n",
              "    </tr>\n",
              "  </tbody>\n",
              "</table>\n",
              "</div>\n",
              "      <button class=\"colab-df-convert\" onclick=\"convertToInteractive('df-a831b954-1514-4b71-bb1e-27ad62d35dbf')\"\n",
              "              title=\"Convert this dataframe to an interactive table.\"\n",
              "              style=\"display:none;\">\n",
              "        \n",
              "  <svg xmlns=\"http://www.w3.org/2000/svg\" height=\"24px\"viewBox=\"0 0 24 24\"\n",
              "       width=\"24px\">\n",
              "    <path d=\"M0 0h24v24H0V0z\" fill=\"none\"/>\n",
              "    <path d=\"M18.56 5.44l.94 2.06.94-2.06 2.06-.94-2.06-.94-.94-2.06-.94 2.06-2.06.94zm-11 1L8.5 8.5l.94-2.06 2.06-.94-2.06-.94L8.5 2.5l-.94 2.06-2.06.94zm10 10l.94 2.06.94-2.06 2.06-.94-2.06-.94-.94-2.06-.94 2.06-2.06.94z\"/><path d=\"M17.41 7.96l-1.37-1.37c-.4-.4-.92-.59-1.43-.59-.52 0-1.04.2-1.43.59L10.3 9.45l-7.72 7.72c-.78.78-.78 2.05 0 2.83L4 21.41c.39.39.9.59 1.41.59.51 0 1.02-.2 1.41-.59l7.78-7.78 2.81-2.81c.8-.78.8-2.07 0-2.86zM5.41 20L4 18.59l7.72-7.72 1.47 1.35L5.41 20z\"/>\n",
              "  </svg>\n",
              "      </button>\n",
              "      \n",
              "  <style>\n",
              "    .colab-df-container {\n",
              "      display:flex;\n",
              "      flex-wrap:wrap;\n",
              "      gap: 12px;\n",
              "    }\n",
              "\n",
              "    .colab-df-convert {\n",
              "      background-color: #E8F0FE;\n",
              "      border: none;\n",
              "      border-radius: 50%;\n",
              "      cursor: pointer;\n",
              "      display: none;\n",
              "      fill: #1967D2;\n",
              "      height: 32px;\n",
              "      padding: 0 0 0 0;\n",
              "      width: 32px;\n",
              "    }\n",
              "\n",
              "    .colab-df-convert:hover {\n",
              "      background-color: #E2EBFA;\n",
              "      box-shadow: 0px 1px 2px rgba(60, 64, 67, 0.3), 0px 1px 3px 1px rgba(60, 64, 67, 0.15);\n",
              "      fill: #174EA6;\n",
              "    }\n",
              "\n",
              "    [theme=dark] .colab-df-convert {\n",
              "      background-color: #3B4455;\n",
              "      fill: #D2E3FC;\n",
              "    }\n",
              "\n",
              "    [theme=dark] .colab-df-convert:hover {\n",
              "      background-color: #434B5C;\n",
              "      box-shadow: 0px 1px 3px 1px rgba(0, 0, 0, 0.15);\n",
              "      filter: drop-shadow(0px 1px 2px rgba(0, 0, 0, 0.3));\n",
              "      fill: #FFFFFF;\n",
              "    }\n",
              "  </style>\n",
              "\n",
              "      <script>\n",
              "        const buttonEl =\n",
              "          document.querySelector('#df-a831b954-1514-4b71-bb1e-27ad62d35dbf button.colab-df-convert');\n",
              "        buttonEl.style.display =\n",
              "          google.colab.kernel.accessAllowed ? 'block' : 'none';\n",
              "\n",
              "        async function convertToInteractive(key) {\n",
              "          const element = document.querySelector('#df-a831b954-1514-4b71-bb1e-27ad62d35dbf');\n",
              "          const dataTable =\n",
              "            await google.colab.kernel.invokeFunction('convertToInteractive',\n",
              "                                                     [key], {});\n",
              "          if (!dataTable) return;\n",
              "\n",
              "          const docLinkHtml = 'Like what you see? Visit the ' +\n",
              "            '<a target=\"_blank\" href=https://colab.research.google.com/notebooks/data_table.ipynb>data table notebook</a>'\n",
              "            + ' to learn more about interactive tables.';\n",
              "          element.innerHTML = '';\n",
              "          dataTable['output_type'] = 'display_data';\n",
              "          await google.colab.output.renderOutput(dataTable, element);\n",
              "          const docLink = document.createElement('div');\n",
              "          docLink.innerHTML = docLinkHtml;\n",
              "          element.appendChild(docLink);\n",
              "        }\n",
              "      </script>\n",
              "    </div>\n",
              "  </div>\n",
              "  "
            ]
          },
          "metadata": {},
          "execution_count": 4
        }
      ]
    },
    {
      "cell_type": "code",
      "source": [
        "# if we need to know about more dataset we are going to deal. use describe() function\n",
        "dataset.describe()"
      ],
      "metadata": {
        "colab": {
          "base_uri": "https://localhost:8080/",
          "height": 300
        },
        "id": "-13DHcbuVRsE",
        "outputId": "c165f1e8-2e63-46ca-8782-153ca98a4cf3"
      },
      "execution_count": null,
      "outputs": [
        {
          "output_type": "execute_result",
          "data": {
            "text/plain": [
              "       pelvic_incidence  pelvic_tilt  lumbar_angle  sacral_slope  \\\n",
              "count        310.000000   310.000000    310.000000    310.000000   \n",
              "mean          60.496484    17.542903     51.930710     42.953871   \n",
              "std           17.236109    10.008140     18.553766     13.422748   \n",
              "min           26.150000    -6.550000     14.000000     13.370000   \n",
              "25%           46.432500    10.667500     37.000000     33.347500   \n",
              "50%           58.690000    16.360000     49.565000     42.405000   \n",
              "75%           72.880000    22.120000     63.000000     52.692500   \n",
              "max          129.830000    49.430000    125.740000    121.430000   \n",
              "\n",
              "       pelvic_radius  spondylolisthesis_grade       class  \n",
              "count     310.000000               310.000000  310.000000  \n",
              "mean      117.920548                26.296742    0.677419  \n",
              "std        13.317629                37.558883    0.468220  \n",
              "min        70.080000               -11.060000    0.000000  \n",
              "25%       110.710000                 1.600000    0.000000  \n",
              "50%       118.265000                11.765000    1.000000  \n",
              "75%       125.467500                41.285000    1.000000  \n",
              "max       163.070000               418.540000    1.000000  "
            ],
            "text/html": [
              "\n",
              "  <div id=\"df-5b8377dc-313b-4733-824e-d720d2e8918b\">\n",
              "    <div class=\"colab-df-container\">\n",
              "      <div>\n",
              "<style scoped>\n",
              "    .dataframe tbody tr th:only-of-type {\n",
              "        vertical-align: middle;\n",
              "    }\n",
              "\n",
              "    .dataframe tbody tr th {\n",
              "        vertical-align: top;\n",
              "    }\n",
              "\n",
              "    .dataframe thead th {\n",
              "        text-align: right;\n",
              "    }\n",
              "</style>\n",
              "<table border=\"1\" class=\"dataframe\">\n",
              "  <thead>\n",
              "    <tr style=\"text-align: right;\">\n",
              "      <th></th>\n",
              "      <th>pelvic_incidence</th>\n",
              "      <th>pelvic_tilt</th>\n",
              "      <th>lumbar_angle</th>\n",
              "      <th>sacral_slope</th>\n",
              "      <th>pelvic_radius</th>\n",
              "      <th>spondylolisthesis_grade</th>\n",
              "      <th>class</th>\n",
              "    </tr>\n",
              "  </thead>\n",
              "  <tbody>\n",
              "    <tr>\n",
              "      <th>count</th>\n",
              "      <td>310.000000</td>\n",
              "      <td>310.000000</td>\n",
              "      <td>310.000000</td>\n",
              "      <td>310.000000</td>\n",
              "      <td>310.000000</td>\n",
              "      <td>310.000000</td>\n",
              "      <td>310.000000</td>\n",
              "    </tr>\n",
              "    <tr>\n",
              "      <th>mean</th>\n",
              "      <td>60.496484</td>\n",
              "      <td>17.542903</td>\n",
              "      <td>51.930710</td>\n",
              "      <td>42.953871</td>\n",
              "      <td>117.920548</td>\n",
              "      <td>26.296742</td>\n",
              "      <td>0.677419</td>\n",
              "    </tr>\n",
              "    <tr>\n",
              "      <th>std</th>\n",
              "      <td>17.236109</td>\n",
              "      <td>10.008140</td>\n",
              "      <td>18.553766</td>\n",
              "      <td>13.422748</td>\n",
              "      <td>13.317629</td>\n",
              "      <td>37.558883</td>\n",
              "      <td>0.468220</td>\n",
              "    </tr>\n",
              "    <tr>\n",
              "      <th>min</th>\n",
              "      <td>26.150000</td>\n",
              "      <td>-6.550000</td>\n",
              "      <td>14.000000</td>\n",
              "      <td>13.370000</td>\n",
              "      <td>70.080000</td>\n",
              "      <td>-11.060000</td>\n",
              "      <td>0.000000</td>\n",
              "    </tr>\n",
              "    <tr>\n",
              "      <th>25%</th>\n",
              "      <td>46.432500</td>\n",
              "      <td>10.667500</td>\n",
              "      <td>37.000000</td>\n",
              "      <td>33.347500</td>\n",
              "      <td>110.710000</td>\n",
              "      <td>1.600000</td>\n",
              "      <td>0.000000</td>\n",
              "    </tr>\n",
              "    <tr>\n",
              "      <th>50%</th>\n",
              "      <td>58.690000</td>\n",
              "      <td>16.360000</td>\n",
              "      <td>49.565000</td>\n",
              "      <td>42.405000</td>\n",
              "      <td>118.265000</td>\n",
              "      <td>11.765000</td>\n",
              "      <td>1.000000</td>\n",
              "    </tr>\n",
              "    <tr>\n",
              "      <th>75%</th>\n",
              "      <td>72.880000</td>\n",
              "      <td>22.120000</td>\n",
              "      <td>63.000000</td>\n",
              "      <td>52.692500</td>\n",
              "      <td>125.467500</td>\n",
              "      <td>41.285000</td>\n",
              "      <td>1.000000</td>\n",
              "    </tr>\n",
              "    <tr>\n",
              "      <th>max</th>\n",
              "      <td>129.830000</td>\n",
              "      <td>49.430000</td>\n",
              "      <td>125.740000</td>\n",
              "      <td>121.430000</td>\n",
              "      <td>163.070000</td>\n",
              "      <td>418.540000</td>\n",
              "      <td>1.000000</td>\n",
              "    </tr>\n",
              "  </tbody>\n",
              "</table>\n",
              "</div>\n",
              "      <button class=\"colab-df-convert\" onclick=\"convertToInteractive('df-5b8377dc-313b-4733-824e-d720d2e8918b')\"\n",
              "              title=\"Convert this dataframe to an interactive table.\"\n",
              "              style=\"display:none;\">\n",
              "        \n",
              "  <svg xmlns=\"http://www.w3.org/2000/svg\" height=\"24px\"viewBox=\"0 0 24 24\"\n",
              "       width=\"24px\">\n",
              "    <path d=\"M0 0h24v24H0V0z\" fill=\"none\"/>\n",
              "    <path d=\"M18.56 5.44l.94 2.06.94-2.06 2.06-.94-2.06-.94-.94-2.06-.94 2.06-2.06.94zm-11 1L8.5 8.5l.94-2.06 2.06-.94-2.06-.94L8.5 2.5l-.94 2.06-2.06.94zm10 10l.94 2.06.94-2.06 2.06-.94-2.06-.94-.94-2.06-.94 2.06-2.06.94z\"/><path d=\"M17.41 7.96l-1.37-1.37c-.4-.4-.92-.59-1.43-.59-.52 0-1.04.2-1.43.59L10.3 9.45l-7.72 7.72c-.78.78-.78 2.05 0 2.83L4 21.41c.39.39.9.59 1.41.59.51 0 1.02-.2 1.41-.59l7.78-7.78 2.81-2.81c.8-.78.8-2.07 0-2.86zM5.41 20L4 18.59l7.72-7.72 1.47 1.35L5.41 20z\"/>\n",
              "  </svg>\n",
              "      </button>\n",
              "      \n",
              "  <style>\n",
              "    .colab-df-container {\n",
              "      display:flex;\n",
              "      flex-wrap:wrap;\n",
              "      gap: 12px;\n",
              "    }\n",
              "\n",
              "    .colab-df-convert {\n",
              "      background-color: #E8F0FE;\n",
              "      border: none;\n",
              "      border-radius: 50%;\n",
              "      cursor: pointer;\n",
              "      display: none;\n",
              "      fill: #1967D2;\n",
              "      height: 32px;\n",
              "      padding: 0 0 0 0;\n",
              "      width: 32px;\n",
              "    }\n",
              "\n",
              "    .colab-df-convert:hover {\n",
              "      background-color: #E2EBFA;\n",
              "      box-shadow: 0px 1px 2px rgba(60, 64, 67, 0.3), 0px 1px 3px 1px rgba(60, 64, 67, 0.15);\n",
              "      fill: #174EA6;\n",
              "    }\n",
              "\n",
              "    [theme=dark] .colab-df-convert {\n",
              "      background-color: #3B4455;\n",
              "      fill: #D2E3FC;\n",
              "    }\n",
              "\n",
              "    [theme=dark] .colab-df-convert:hover {\n",
              "      background-color: #434B5C;\n",
              "      box-shadow: 0px 1px 3px 1px rgba(0, 0, 0, 0.15);\n",
              "      filter: drop-shadow(0px 1px 2px rgba(0, 0, 0, 0.3));\n",
              "      fill: #FFFFFF;\n",
              "    }\n",
              "  </style>\n",
              "\n",
              "      <script>\n",
              "        const buttonEl =\n",
              "          document.querySelector('#df-5b8377dc-313b-4733-824e-d720d2e8918b button.colab-df-convert');\n",
              "        buttonEl.style.display =\n",
              "          google.colab.kernel.accessAllowed ? 'block' : 'none';\n",
              "\n",
              "        async function convertToInteractive(key) {\n",
              "          const element = document.querySelector('#df-5b8377dc-313b-4733-824e-d720d2e8918b');\n",
              "          const dataTable =\n",
              "            await google.colab.kernel.invokeFunction('convertToInteractive',\n",
              "                                                     [key], {});\n",
              "          if (!dataTable) return;\n",
              "\n",
              "          const docLinkHtml = 'Like what you see? Visit the ' +\n",
              "            '<a target=\"_blank\" href=https://colab.research.google.com/notebooks/data_table.ipynb>data table notebook</a>'\n",
              "            + ' to learn more about interactive tables.';\n",
              "          element.innerHTML = '';\n",
              "          dataTable['output_type'] = 'display_data';\n",
              "          await google.colab.output.renderOutput(dataTable, element);\n",
              "          const docLink = document.createElement('div');\n",
              "          docLink.innerHTML = docLinkHtml;\n",
              "          element.appendChild(docLink);\n",
              "        }\n",
              "      </script>\n",
              "    </div>\n",
              "  </div>\n",
              "  "
            ]
          },
          "metadata": {},
          "execution_count": 5
        }
      ]
    },
    {
      "cell_type": "code",
      "source": [
        "# we can know dataset's how many instance and how many features there are by using shape function \n",
        "dataset.shape"
      ],
      "metadata": {
        "colab": {
          "base_uri": "https://localhost:8080/"
        },
        "id": "mLC0NcAnqQ64",
        "outputId": "e4e02bc7-b884-45e0-ec9c-8f34480a96b8"
      },
      "execution_count": null,
      "outputs": [
        {
          "output_type": "execute_result",
          "data": {
            "text/plain": [
              "(310, 7)"
            ]
          },
          "metadata": {},
          "execution_count": 6
        }
      ]
    },
    {
      "cell_type": "code",
      "source": [
        "# we can also use ndim function to know the dimensions of our dataset we are going to deal \n",
        "dataset.ndim"
      ],
      "metadata": {
        "id": "4OnAyNktdFRi",
        "outputId": "28ef2156-f48e-4fcf-8354-cc1d5f8ec3aa",
        "colab": {
          "base_uri": "https://localhost:8080/"
        }
      },
      "execution_count": null,
      "outputs": [
        {
          "output_type": "execute_result",
          "data": {
            "text/plain": [
              "2"
            ]
          },
          "metadata": {},
          "execution_count": 7
        }
      ]
    },
    {
      "cell_type": "code",
      "source": [
        "# we should drop \"class\" feature of the dataset as a target  \n",
        "X = dataset.drop('class', axis = 'columns')\n",
        "y = dataset['class']"
      ],
      "metadata": {
        "id": "VrRPX6HtVRz9"
      },
      "execution_count": null,
      "outputs": []
    },
    {
      "cell_type": "code",
      "source": [
        "# we can know the shape of our predictors and target variables\n",
        "print(X.shape)\n",
        "print(y.shape)"
      ],
      "metadata": {
        "colab": {
          "base_uri": "https://localhost:8080/"
        },
        "id": "GJ1kLWyoVR8J",
        "outputId": "6ca59c07-fa12-41c0-9d7d-194635c19efc"
      },
      "execution_count": null,
      "outputs": [
        {
          "output_type": "stream",
          "name": "stdout",
          "text": [
            "(310, 6)\n",
            "(310,)\n"
          ]
        }
      ]
    },
    {
      "cell_type": "code",
      "source": [
        "# now we need to split our dataset into training and test set bu using train_test_split function from sklearn.model_selection\n",
        "from sklearn.model_selection import train_test_split\n",
        "X_train, X_test, y_train, y_test  = train_test_split(X, y, test_size =0.2, random_state = 42) # we are using 20% of dataset as testset and 80 % percent as training set"
      ],
      "metadata": {
        "id": "S_O02D4RVSDN"
      },
      "execution_count": null,
      "outputs": []
    },
    {
      "cell_type": "code",
      "source": [
        "# Now we can check out training and testing sets' shape as well as theirs labels' shape\n",
        "print(\"This is train size:\", X_train.shape,  \"train label size:\", y_train.shape)\n",
        "print(\"This is test size:\", X_test.shape,  \"test label size:\", y_test.shape)\n"
      ],
      "metadata": {
        "colab": {
          "base_uri": "https://localhost:8080/"
        },
        "id": "I6ipQ4dvVSK9",
        "outputId": "c53915d6-4990-4c0e-c8bd-779d6672f10f"
      },
      "execution_count": null,
      "outputs": [
        {
          "output_type": "stream",
          "name": "stdout",
          "text": [
            "This is train size: (248, 6) train label size: (248,)\n",
            "This is test size: (62, 6) test label size: (62,)\n"
          ]
        }
      ]
    },
    {
      "cell_type": "markdown",
      "source": [
        "## 1.LOGISTIC REGRESSION MODEL"
      ],
      "metadata": {
        "id": "yByN_EtOhRhU"
      }
    },
    {
      "cell_type": "code",
      "source": [
        "# we are going to fit Logistic Regression model to our dataset. we get it from sklearn.linear_model \n",
        "from sklearn.linear_model import LogisticRegression\n",
        "logistic_regression = LogisticRegression()"
      ],
      "metadata": {
        "id": "oDrXWUjjYBx2"
      },
      "execution_count": null,
      "outputs": []
    },
    {
      "cell_type": "code",
      "source": [
        "# fit our training set as well as its labels to logistic regression\n",
        "logistic_regression.fit(X_train, y_train)"
      ],
      "metadata": {
        "colab": {
          "base_uri": "https://localhost:8080/"
        },
        "id": "Y7pxfmb_bALk",
        "outputId": "ef03ab15-2543-40ae-8ddd-c9fceca1aec4"
      },
      "execution_count": null,
      "outputs": [
        {
          "output_type": "execute_result",
          "data": {
            "text/plain": [
              "LogisticRegression()"
            ]
          },
          "metadata": {},
          "execution_count": 13
        }
      ]
    },
    {
      "cell_type": "code",
      "source": [
        "# we can know our linear model' intercept and coefficients\n",
        "logistic_regression.intercept_, logistic_regression.coef_"
      ],
      "metadata": {
        "colab": {
          "base_uri": "https://localhost:8080/"
        },
        "id": "lV86WlOoig38",
        "outputId": "7293f66e-5c81-4893-9125-359013b5c6d0"
      },
      "execution_count": null,
      "outputs": [
        {
          "output_type": "execute_result",
          "data": {
            "text/plain": [
              "(array([13.9667934]),\n",
              " array([[-0.01549455,  0.11257518, -0.02690973, -0.06936384, -0.10044234,\n",
              "          0.16958415]]))"
            ]
          },
          "metadata": {},
          "execution_count": 14
        }
      ]
    },
    {
      "cell_type": "code",
      "source": [
        "# now we can predict out X_test by using accuracy_score from sklearn.metrics, check the accuracy of our model in unseen-dataset (X_test)\n",
        "from sklearn.metrics import accuracy_score \n",
        "y_pred_lr= logistic_regression.predict(X_test)\n",
        "print(\"Accuracy\", accuracy_score(y_test, y_pred_lr))"
      ],
      "metadata": {
        "colab": {
          "base_uri": "https://localhost:8080/"
        },
        "id": "uUyjBxhXbCsm",
        "outputId": "063fb73d-30a5-451d-9418-27fdec9509cb"
      },
      "execution_count": null,
      "outputs": [
        {
          "output_type": "stream",
          "name": "stdout",
          "text": [
            "Accuracy 0.8548387096774194\n"
          ]
        }
      ]
    },
    {
      "cell_type": "code",
      "source": [
        "# we can plot the our models performance by AUC-ROC curve which is plotted with TPR against the FPR\n",
        "from sklearn import metrics\n",
        "import matplotlib.pyplot as plt\n",
        "\n",
        "y_pred_prob_lr = logistic_regression.predict_proba(X_test)[::, 1]\n",
        "FPR, TPR , _ = metrics.roc_curve(y_test, y_pred_prob_lr)\n",
        "AUC = metrics.roc_auc_score(y_test, y_pred_prob_lr)\n",
        "lw = 1.5\n",
        "plt.plot(FPR,TPR,  color=\"darkorange\", lw=lw, label = \"LR without scaling, AUC= %0.5f\" % AUC)\n",
        "plt.plot([0,1], [0,1], color=\"navy\", lw=lw,linestyle=\"--\")\n",
        "plt.xlabel(\"False Positive Rate\")\n",
        "plt.ylabel(\"True Postive Rate\")\n",
        "plt.title(\"Receiver Operating Characteristic Curve\")\n",
        "plt.legend(loc = 4)\n",
        "plt.show()"
      ],
      "metadata": {
        "colab": {
          "base_uri": "https://localhost:8080/",
          "height": 295
        },
        "id": "pxNN1YAnbCz3",
        "outputId": "29bcff11-7389-4a73-ff14-3dd8d6c8880f"
      },
      "execution_count": null,
      "outputs": [
        {
          "output_type": "display_data",
          "data": {
            "text/plain": [
              "<Figure size 432x288 with 1 Axes>"
            ],
            "image/png": "[encoded data removed]"
          },
          "metadata": {
            "needs_background": "light"
          }
        }
      ]
    },
    {
      "cell_type": "code",
      "source": [
        "import seaborn as sn\n",
        "import pandas as pd\n",
        "import matplotlib.pyplot as plt"
      ],
      "metadata": {
        "id": "vYWckGINP3nh"
      },
      "execution_count": null,
      "outputs": []
    },
    {
      "cell_type": "code",
      "source": [
        "from sklearn.metrics import plot_confusion_matrix\n",
        "plot_confusion_matrix(logistic_regression, X_test, y_test)\n",
        "plt.show()\n"
      ],
      "metadata": {
        "colab": {
          "base_uri": "https://localhost:8080/",
          "height": 338
        },
        "id": "t02QptWDP_f2",
        "outputId": "7689397f-5504-4638-e23f-0fe3d3877e41"
      },
      "execution_count": null,
      "outputs": [
        {
          "output_type": "stream",
          "name": "stderr",
          "text": [
            "/usr/local/lib/python3.7/dist-packages/sklearn/utils/deprecation.py:87: FutureWarning: Function plot_confusion_matrix is deprecated; Function `plot_confusion_matrix` is deprecated in 1.0 and will be removed in 1.2. Use one of the class methods: ConfusionMatrixDisplay.from_predictions or ConfusionMatrixDisplay.from_estimator.\n",
            "  warnings.warn(msg, category=FutureWarning)\n"
          ]
        },
        {
          "output_type": "display_data",
          "data": {
            "text/plain": [
              "<Figure size 432x288 with 2 Axes>"
            ],
            "image/png": "[encoded data removed]"
          },
          "metadata": {
            "needs_background": "light"
          }
        }
      ]
    },
    {
      "cell_type": "markdown",
      "source": [
        "THE SCALING WITH STANDARDIZATION"
      ],
      "metadata": {
        "id": "A-dpTK_jezE6"
      }
    },
    {
      "cell_type": "code",
      "source": [
        "# standardScaler function from skelear.preprocessing the mean of observed values is 0 and the standard deviation is 1 \n",
        "from sklearn.preprocessing import StandardScaler\n",
        "std_scaler = StandardScaler()\n",
        "std_scaler.fit(X_train) # we need to fit and transform normalization in the training dataset\n",
        "X_train_std_scaled = std_scaler.transform(X_train)\n",
        "X_test_std_scaled = std_scaler.transform(X_test) # in the test dataset we need only transform"
      ],
      "metadata": {
        "id": "DmQsq033bC79"
      },
      "execution_count": null,
      "outputs": []
    },
    {
      "cell_type": "code",
      "source": [
        "logistic_regression_scaled = LogisticRegression()\n",
        "logistic_regression_scaled.fit(X_train_std_scaled, y_train)"
      ],
      "metadata": {
        "colab": {
          "base_uri": "https://localhost:8080/"
        },
        "id": "A0kvYJpRbDCh",
        "outputId": "d4b21df2-515f-42ac-a71c-c30850e33534"
      },
      "execution_count": null,
      "outputs": [
        {
          "output_type": "execute_result",
          "data": {
            "text/plain": [
              "LogisticRegression()"
            ]
          },
          "metadata": {},
          "execution_count": 20
        }
      ]
    },
    {
      "cell_type": "code",
      "source": [
        "y_pred_sc_lr = logistic_regression_scaled.predict(X_test_std_scaled)  # predict() is used to predict the actual class \n",
        "print(\"Accuracy\", accuracy_score(y_test, y_pred_sc_lr))  # data scaling improves linear regression model for sure"
      ],
      "metadata": {
        "colab": {
          "base_uri": "https://localhost:8080/"
        },
        "id": "XIsV_fBKbDNW",
        "outputId": "a6068420-8197-4cee-ab64-bc3eb26be350"
      },
      "execution_count": null,
      "outputs": [
        {
          "output_type": "stream",
          "name": "stdout",
          "text": [
            "Accuracy 0.8709677419354839\n"
          ]
        }
      ]
    },
    {
      "cell_type": "code",
      "source": [
        "# we can plot our model when the dataset is scaled by AUC-ROC curve\n",
        "y_pred_prob_sc_lr= logistic_regression_scaled.predict_proba(X_test_std_scaled)[::, 1]  # predict_proba() is used to predict the class probabilities\n",
        "FPR, TPR , _ = metrics.roc_curve(y_test, y_pred_prob_sc_lr)\n",
        "AUC = metrics.roc_auc_score(y_test, y_pred_prob_sc_lr)\n",
        "lw = 1.5\n",
        "plt.plot(FPR,TPR,  color=\"darkorange\", lw=lw, label = \"LR with scaling AUC= %0.5f\" % AUC)\n",
        "plt.plot([0,1], [0,1], color=\"navy\", lw=lw,linestyle=\"--\")\n",
        "plt.xlabel(\"False Positive Rate\")\n",
        "plt.ylabel(\"True Postive Rate\")\n",
        "plt.title(\"Receiver Operating Characteristic Curve\")\n",
        "plt.legend(loc = 4)\n",
        "plt.show()"
      ],
      "metadata": {
        "colab": {
          "base_uri": "https://localhost:8080/",
          "height": 295
        },
        "id": "4xw35eUIgcBT",
        "outputId": "1d80ff6b-bb0d-463b-d651-db4e65b60221"
      },
      "execution_count": null,
      "outputs": [
        {
          "output_type": "display_data",
          "data": {
            "text/plain": [
              "<Figure size 432x288 with 1 Axes>"
            ],
            "image/png": "[encoded data removed]"
          },
          "metadata": {
            "needs_background": "light"
          }
        }
      ]
    },
    {
      "cell_type": "code",
      "source": [
        "from sklearn.metrics import f1_score\n",
        "f1_score(y_test, y_pred_sc_lr)"
      ],
      "metadata": {
        "colab": {
          "base_uri": "https://localhost:8080/"
        },
        "id": "nO9T8GRH5SyA",
        "outputId": "1310efe4-ad8b-4c2b-85c9-a3e435736fbc"
      },
      "execution_count": null,
      "outputs": [
        {
          "output_type": "execute_result",
          "data": {
            "text/plain": [
              "0.9090909090909091"
            ]
          },
          "metadata": {},
          "execution_count": 23
        }
      ]
    },
    {
      "cell_type": "code",
      "source": [
        "plot_confusion_matrix(logistic_regression_scaled, X_test_std_scaled, y_test)\n",
        "plt.show()"
      ],
      "metadata": {
        "colab": {
          "base_uri": "https://localhost:8080/",
          "height": 338
        },
        "id": "k5TGIGnKQreS",
        "outputId": "80b1e8d4-7ae9-499c-d525-b08c5bae0637"
      },
      "execution_count": null,
      "outputs": [
        {
          "output_type": "stream",
          "name": "stderr",
          "text": [
            "/usr/local/lib/python3.7/dist-packages/sklearn/utils/deprecation.py:87: FutureWarning: Function plot_confusion_matrix is deprecated; Function `plot_confusion_matrix` is deprecated in 1.0 and will be removed in 1.2. Use one of the class methods: ConfusionMatrixDisplay.from_predictions or ConfusionMatrixDisplay.from_estimator.\n",
            "  warnings.warn(msg, category=FutureWarning)\n"
          ]
        },
        {
          "output_type": "display_data",
          "data": {
            "text/plain": [
              "<Figure size 432x288 with 2 Axes>"
            ],
            "image/png": "[encoded data removed]"
          },
          "metadata": {
            "needs_background": "light"
          }
        }
      ]
    },
    {
      "cell_type": "code",
      "source": [
        "# why scaling has not helped with AUC curve in logistic regression"
      ],
      "metadata": {
        "id": "5JaO8IJimYPP"
      },
      "execution_count": null,
      "outputs": []
    },
    {
      "cell_type": "markdown",
      "source": [
        "## 2.K-NEAREST NEIGHBOR MODEL\n",
        "\n",
        "\n",
        "\n"
      ],
      "metadata": {
        "id": "Efj_ORtAuZw7"
      }
    },
    {
      "cell_type": "code",
      "source": [
        "from sklearn.neighbors import KNeighborsClassifier\n",
        "neigh = KNeighborsClassifier(n_neighbors=5)\n",
        "neigh.fit(X_train, y_train)\n"
      ],
      "metadata": {
        "colab": {
          "base_uri": "https://localhost:8080/"
        },
        "outputId": "2977231d-0d83-4b07-d4e1-99b9d0bda622",
        "id": "ktlWTwvcuZxW"
      },
      "execution_count": null,
      "outputs": [
        {
          "output_type": "execute_result",
          "data": {
            "text/plain": [
              "KNeighborsClassifier()"
            ]
          },
          "metadata": {},
          "execution_count": 28
        }
      ]
    },
    {
      "cell_type": "code",
      "source": [
        "y_pred_knn = neigh.predict(X_test)\n",
        "print(\"Accuracy\", accuracy_score(y_test, y_pred_knn))"
      ],
      "metadata": {
        "colab": {
          "base_uri": "https://localhost:8080/"
        },
        "outputId": "e97693fd-0131-430f-c87a-df08004f9fc1",
        "id": "yhVBqmtNuZxX"
      },
      "execution_count": null,
      "outputs": [
        {
          "output_type": "stream",
          "name": "stdout",
          "text": [
            "Accuracy 0.8387096774193549\n"
          ]
        }
      ]
    },
    {
      "cell_type": "code",
      "source": [
        "y_pred_prob_knn = neigh.predict_proba(X_test)[::, 1]\n",
        "FPR, TPR , _ = metrics.roc_curve(y_test, y_pred_prob_knn)\n",
        "AUC = metrics.roc_auc_score(y_test, y_pred_prob_knn)\n",
        "lw = 1.5\n",
        "plt.plot(FPR,TPR,  color=\"darkorange\", lw=lw, label = \"KNN without scaling : AUC= %0.5f\" % AUC)\n",
        "plt.plot([0,1], [0,1], color=\"navy\", lw=lw,linestyle=\"--\")\n",
        "plt.xlabel(\"False Positive Rate\")\n",
        "plt.ylabel(\"True Postive Rate\")\n",
        "plt.title(\"Receiver Operating Characteristic Curve\")\n",
        "plt.legend(loc = 4)\n",
        "plt.show()"
      ],
      "metadata": {
        "colab": {
          "base_uri": "https://localhost:8080/",
          "height": 295
        },
        "outputId": "68a353db-4d36-4f0f-bf1f-14a8ce0c05e0",
        "id": "h9Uo-j27uZxY"
      },
      "execution_count": null,
      "outputs": [
        {
          "output_type": "display_data",
          "data": {
            "text/plain": [
              "<Figure size 432x288 with 1 Axes>"
            ],
            "image/png": "[encoded data removed]"
          },
          "metadata": {
            "needs_background": "light"
          }
        }
      ]
    },
    {
      "cell_type": "code",
      "source": [
        "neigh_scaled = KNeighborsClassifier(n_neighbors=5)\n",
        "neigh_scaled.fit(X_train_std_scaled,  y_train)\n"
      ],
      "metadata": {
        "colab": {
          "base_uri": "https://localhost:8080/"
        },
        "outputId": "230f1c73-4f58-49bd-cffe-8bab4d57166e",
        "id": "3wDHgctYuZxY"
      },
      "execution_count": null,
      "outputs": [
        {
          "output_type": "execute_result",
          "data": {
            "text/plain": [
              "KNeighborsClassifier()"
            ]
          },
          "metadata": {},
          "execution_count": 32
        }
      ]
    },
    {
      "cell_type": "code",
      "source": [
        "y_pred_sc_knn= neigh_scaled.predict(X_test_std_scaled)\n",
        "print(\"Accuracy\", accuracy_score(y_test, y_pred_sc_knn))"
      ],
      "metadata": {
        "colab": {
          "base_uri": "https://localhost:8080/"
        },
        "outputId": "22cadb74-9f90-4b0d-9ed2-6ad804060766",
        "id": "856wbispuZxY"
      },
      "execution_count": null,
      "outputs": [
        {
          "output_type": "stream",
          "name": "stdout",
          "text": [
            "Accuracy 0.8225806451612904\n"
          ]
        }
      ]
    },
    {
      "cell_type": "code",
      "source": [
        "y_pred_prob_sc_knn= neigh_scaled.predict_proba(X_test_std_scaled)[::, 1]\n",
        "FPR, TPR , _ = metrics.roc_curve(y_test, y_pred_prob_sc_knn)\n",
        "AUC = metrics.roc_auc_score(y_test, y_pred_prob_sc_knn)\n",
        "lw = 1.5\n",
        "plt.plot(FPR,TPR,  color=\"darkorange\", lw=lw, label = \"KNN with scaling : AUC= %0.5f\" % AUC)\n",
        "plt.plot([0,1], [0,1], color=\"navy\", lw=lw,linestyle=\"--\")\n",
        "plt.xlabel(\"False Positive Rate\")\n",
        "plt.ylabel(\"True Postive Rate\")\n",
        "plt.title(\"Receiver Operating Characteristic Curve\")\n",
        "plt.legend(loc = 4)\n",
        "plt.show()"
      ],
      "metadata": {
        "colab": {
          "base_uri": "https://localhost:8080/",
          "height": 295
        },
        "outputId": "4f0d2489-923b-4bde-84a7-ea159c0e240a",
        "id": "5NOoZqcZuZxZ"
      },
      "execution_count": null,
      "outputs": [
        {
          "output_type": "display_data",
          "data": {
            "text/plain": [
              "<Figure size 432x288 with 1 Axes>"
            ],
            "image/png": "[encoded data removed]"
          },
          "metadata": {
            "needs_background": "light"
          }
        }
      ]
    },
    {
      "cell_type": "code",
      "source": [
        "#why scaling do not improve the K-Nearest Neighbor classifier"
      ],
      "metadata": {
        "id": "_EqWJCFg09W6"
      },
      "execution_count": null,
      "outputs": []
    },
    {
      "cell_type": "code",
      "source": [
        "from sklearn.metrics import f1_score\n",
        "f1_score(y_test, y_pred_sc_knn)"
      ],
      "metadata": {
        "colab": {
          "base_uri": "https://localhost:8080/"
        },
        "id": "N3VxtUxg6VCb",
        "outputId": "ca266e7f-2a07-4907-bde1-71a9946c2c1c"
      },
      "execution_count": null,
      "outputs": [
        {
          "output_type": "execute_result",
          "data": {
            "text/plain": [
              "0.8735632183908046"
            ]
          },
          "metadata": {},
          "execution_count": 90
        }
      ]
    },
    {
      "cell_type": "markdown",
      "source": [
        "## 3.SUPPORT VECTOR MACHINE"
      ],
      "metadata": {
        "id": "dCPOvpfwqKL8"
      }
    },
    {
      "cell_type": "code",
      "source": [
        "from sklearn.svm import SVC\n",
        "model = SVC(kernel = 'linear', random_state = 42 )\n",
        "model.fit(X_train, y_train)"
      ],
      "metadata": {
        "id": "6snpsyN7mYYN",
        "colab": {
          "base_uri": "https://localhost:8080/"
        },
        "outputId": "125053a8-59bb-42b2-9d61-1d76b69c1b8a"
      },
      "execution_count": null,
      "outputs": [
        {
          "output_type": "execute_result",
          "data": {
            "text/plain": [
              "SVC(kernel='linear', random_state=42)"
            ]
          },
          "metadata": {},
          "execution_count": 36
        }
      ]
    },
    {
      "cell_type": "code",
      "source": [
        "y_pred_svm= model.predict(X_test)\n",
        "print(\"Accuracy\", accuracy_score(y_test, y_pred_svm))"
      ],
      "metadata": {
        "id": "1XEs8asDmYfd",
        "colab": {
          "base_uri": "https://localhost:8080/"
        },
        "outputId": "9c8cdee3-f447-40f8-fc69-e95846d9b37c"
      },
      "execution_count": null,
      "outputs": [
        {
          "output_type": "stream",
          "name": "stdout",
          "text": [
            "Accuracy 0.8548387096774194\n"
          ]
        }
      ]
    },
    {
      "cell_type": "code",
      "source": [
        "from sklearn.metrics._plot.roc_curve import RocCurveDisplay\n",
        "svc_disp = RocCurveDisplay.from_estimator(model, X_test, y_test)\n",
        "plt.show()\n"
      ],
      "metadata": {
        "colab": {
          "base_uri": "https://localhost:8080/",
          "height": 279
        },
        "id": "m4AqWqbGzwOa",
        "outputId": "ef940f4f-26b1-48aa-8e89-dec13154b83d"
      },
      "execution_count": null,
      "outputs": [
        {
          "output_type": "display_data",
          "data": {
            "text/plain": [
              "<Figure size 432x288 with 1 Axes>"
            ],
            "image/png": "[encoded data removed]"
          },
          "metadata": {
            "needs_background": "light"
          }
        }
      ]
    },
    {
      "cell_type": "code",
      "source": [
        "# the ROC Curve accuracy is much more higher than just accuracy of the model "
      ],
      "metadata": {
        "id": "WswVqlTG0MR-"
      },
      "execution_count": null,
      "outputs": []
    },
    {
      "cell_type": "code",
      "source": [
        "from pandas.core.common import random_state\n",
        "model_scl = SVC(kernel = 'linear', random_state = 42)\n",
        "model_scl.fit(X_train_std_scaled, y_train)"
      ],
      "metadata": {
        "colab": {
          "base_uri": "https://localhost:8080/"
        },
        "id": "JrETkg050dPv",
        "outputId": "5649d5c5-e2a5-4d1f-8f2a-ad92927e18ed"
      },
      "execution_count": null,
      "outputs": [
        {
          "output_type": "execute_result",
          "data": {
            "text/plain": [
              "SVC(kernel='linear', random_state=42)"
            ]
          },
          "metadata": {},
          "execution_count": 40
        }
      ]
    },
    {
      "cell_type": "code",
      "source": [
        "y_pred_sc_svm= model_scl.predict(X_test_std_scaled)\n",
        "print(\"Accuracy\", accuracy_score(y_test, y_pred_sc_svm))"
      ],
      "metadata": {
        "colab": {
          "base_uri": "https://localhost:8080/"
        },
        "id": "dwTqbBfM0e_K",
        "outputId": "ecccfbc5-7ba9-4e53-f836-367483827f3b"
      },
      "execution_count": null,
      "outputs": [
        {
          "output_type": "stream",
          "name": "stdout",
          "text": [
            "Accuracy 0.8548387096774194\n"
          ]
        }
      ]
    },
    {
      "cell_type": "markdown",
      "source": [
        ""
      ],
      "metadata": {
        "id": "DO0YzdV46jGL"
      }
    },
    {
      "cell_type": "code",
      "source": [
        "svc_disp = RocCurveDisplay.from_estimator(model_scl, X_test_std_scaled, y_test)\n",
        "plt.show()"
      ],
      "metadata": {
        "colab": {
          "base_uri": "https://localhost:8080/",
          "height": 279
        },
        "id": "_NmOTKIz0fGU",
        "outputId": "bec66cca-8a22-4d4d-8c73-26bb28825490"
      },
      "execution_count": null,
      "outputs": [
        {
          "output_type": "display_data",
          "data": {
            "text/plain": [
              "<Figure size 432x288 with 1 Axes>"
            ],
            "image/png": "[encoded data removed]"
          },
          "metadata": {
            "needs_background": "light"
          }
        }
      ]
    },
    {
      "cell_type": "code",
      "source": [
        "# why scaling does not improve at all it is same result in svm model"
      ],
      "metadata": {
        "id": "FbGZxF3BvfmO"
      },
      "execution_count": null,
      "outputs": []
    },
    {
      "cell_type": "code",
      "source": [
        "from sklearn.metrics import f1_score\n",
        "f1_score(y_test, y_pred_sc_svm)"
      ],
      "metadata": {
        "colab": {
          "base_uri": "https://localhost:8080/"
        },
        "id": "hGl7jlGg6cla",
        "outputId": "f60945b6-96c3-4953-b0fe-9efe7fee5459"
      },
      "execution_count": null,
      "outputs": [
        {
          "output_type": "execute_result",
          "data": {
            "text/plain": [
              "0.8988764044943819"
            ]
          },
          "metadata": {},
          "execution_count": 91
        }
      ]
    },
    {
      "cell_type": "markdown",
      "source": [
        "## 4.DECISION TREE MODEL\n",
        "\n",
        "\n"
      ],
      "metadata": {
        "id": "C2ng6sB-3hnH"
      }
    },
    {
      "cell_type": "code",
      "source": [
        "from sklearn.tree import DecisionTreeClassifier\n",
        "tree = DecisionTreeClassifier(max_depth=4, random_state=42)\n",
        "tree.fit(X_train, y_train)"
      ],
      "metadata": {
        "colab": {
          "base_uri": "https://localhost:8080/"
        },
        "id": "w9jPlR_z0fUF",
        "outputId": "f78d09f3-99f5-4edc-984e-6ac7aa5afb69"
      },
      "execution_count": null,
      "outputs": [
        {
          "output_type": "execute_result",
          "data": {
            "text/plain": [
              "DecisionTreeClassifier(max_depth=4, random_state=42)"
            ]
          },
          "metadata": {},
          "execution_count": 88
        }
      ]
    },
    {
      "cell_type": "code",
      "source": [
        "y_pred_dt= tree.predict(X_test)\n",
        "print(\"Accuracy\", accuracy_score(y_test, y_pred_dt))\n"
      ],
      "metadata": {
        "colab": {
          "base_uri": "https://localhost:8080/"
        },
        "id": "UWjtvvDG35JY",
        "outputId": "8768109d-d775-4883-be00-8152e63bc4ee"
      },
      "execution_count": null,
      "outputs": [
        {
          "output_type": "stream",
          "name": "stdout",
          "text": [
            "Accuracy 0.8548387096774194\n"
          ]
        }
      ]
    },
    {
      "cell_type": "code",
      "source": [
        "y_pred_prob_tree= tree.predict_proba(X_test)[::, 1]\n",
        "FPR, TPR , _ = metrics.roc_curve(y_test, y_pred_prob_tree)\n",
        "AUC = metrics.roc_auc_score(y_test, y_pred_prob_tree)\n",
        "lw = 1.5\n",
        "plt.plot(FPR,TPR,  color=\"darkorange\", lw=lw, label = \"DT withiou scaling : AUC= %0.5f\" % AUC)\n",
        "plt.plot([0,1], [0,1], color=\"navy\", lw=lw,linestyle=\"--\")\n",
        "plt.xlabel(\"False Positive Rate\")\n",
        "plt.ylabel(\"True Postive Rate\")\n",
        "plt.title(\"Receiver Operating Characteristic Curve\")\n",
        "plt.legend(loc = 4)\n",
        "plt.show()"
      ],
      "metadata": {
        "colab": {
          "base_uri": "https://localhost:8080/",
          "height": 295
        },
        "id": "nwXLIUw_wMGB",
        "outputId": "82bc005a-f505-478c-a251-55701da5dd45"
      },
      "execution_count": null,
      "outputs": [
        {
          "output_type": "display_data",
          "data": {
            "text/plain": [
              "<Figure size 432x288 with 1 Axes>"
            ],
            "image/png": "[encoded data removed]"
          },
          "metadata": {
            "needs_background": "light"
          }
        }
      ]
    },
    {
      "cell_type": "code",
      "source": [
        "from sklearn.tree import export_graphviz\n",
        "export_graphviz(tree, out_file=\"tree.dot\", filled=True, rounded = True, feature_names = X.columns, class_names = ['0', '1'])\n",
        "import graphviz\n",
        "with open(\"tree.dot\") as f:\n",
        "  dot_graph = f.read()\n",
        "display(graphviz.Source(dot_graph))"
      ],
      "metadata": {
        "colab": {
          "base_uri": "https://localhost:8080/",
          "height": 778
        },
        "id": "IjbOj6xf5FMb",
        "outputId": "ac5b7b5b-63a1-4b8a-bd7a-c8ac921ae201"
      },
      "execution_count": null,
      "outputs": [
        {
          "output_type": "display_data",
          "data": {
            "text/plain": [
              "<graphviz.files.Source at 0x7f5f27b760d0>"
            ],
            "image/svg+xml": "<?xml version=\"1.0\" encoding=\"UTF-8\" standalone=\"no\"?>\n<!DOCTYPE svg PUBLIC \"-//W3C//DTD SVG 1.1//EN\"\n \"http://www.w3.org/Graphics/SVG/1.1/DTD/svg11.dtd\">\n<!-- Generated by graphviz version 2.40.1 (20161225.0304)\n -->\n<!-- Title: Tree Pages: 1 -->\n<svg width=\"1537pt\" height=\"552pt\"\n viewBox=\"0.00 0.00 1537.00 552.00\" xmlns=\"http://www.w3.org/2000/svg\" xmlns:xlink=\"http://www.w3.org/1999/xlink\">\n<g id=\"graph0\" class=\"graph\" transform=\"scale(1 1) rotate(0) translate(4 548)\">\n<title>Tree</title>\n<polygon fill=\"#ffffff\" stroke=\"transparent\" points=\"-4,4 -4,-548 1533,-548 1533,4 -4,4\"/>\n<!-- 0 -->\n<g id=\"node1\" class=\"node\">\n<title>0</title>\n<path fill=\"#9bcdf2\" stroke=\"#000000\" d=\"M982.5,-544C982.5,-544 764.5,-544 764.5,-544 758.5,-544 752.5,-538 752.5,-532 752.5,-532 752.5,-473 752.5,-473 752.5,-467 758.5,-461 764.5,-461 764.5,-461 982.5,-461 982.5,-461 988.5,-461 994.5,-467 994.5,-473 994.5,-473 994.5,-532 994.5,-532 994.5,-538 988.5,-544 982.5,-544\"/>\n<text text-anchor=\"middle\" x=\"873.5\" y=\"-528.8\" font-family=\"Helvetica,sans-Serif\" font-size=\"14.00\" fill=\"#000000\">spondylolisthesis_grade &lt;= 14.855</text>\n<text text-anchor=\"middle\" x=\"873.5\" y=\"-513.8\" font-family=\"Helvetica,sans-Serif\" font-size=\"14.00\" fill=\"#000000\">gini = 0.443</text>\n<text text-anchor=\"middle\" x=\"873.5\" y=\"-498.8\" font-family=\"Helvetica,sans-Serif\" font-size=\"14.00\" fill=\"#000000\">samples = 248</text>\n<text text-anchor=\"middle\" x=\"873.5\" y=\"-483.8\" font-family=\"Helvetica,sans-Serif\" font-size=\"14.00\" fill=\"#000000\">value = [82, 166]</text>\n<text text-anchor=\"middle\" x=\"873.5\" y=\"-468.8\" font-family=\"Helvetica,sans-Serif\" font-size=\"14.00\" fill=\"#000000\">class = 1</text>\n</g>\n<!-- 1 -->\n<g id=\"node2\" class=\"node\">\n<title>1</title>\n<path fill=\"#f6d4bb\" stroke=\"#000000\" d=\"M756,-425C756,-425 617,-425 617,-425 611,-425 605,-419 605,-413 605,-413 605,-354 605,-354 605,-348 611,-342 617,-342 617,-342 756,-342 756,-342 762,-342 768,-348 768,-354 768,-354 768,-413 768,-413 768,-419 762,-425 756,-425\"/>\n<text text-anchor=\"middle\" x=\"686.5\" y=\"-409.8\" font-family=\"Helvetica,sans-Serif\" font-size=\"14.00\" fill=\"#000000\">pelvic_radius &lt;= 125.3</text>\n<text text-anchor=\"middle\" x=\"686.5\" y=\"-394.8\" font-family=\"Helvetica,sans-Serif\" font-size=\"14.00\" fill=\"#000000\">gini = 0.479</text>\n<text text-anchor=\"middle\" x=\"686.5\" y=\"-379.8\" font-family=\"Helvetica,sans-Serif\" font-size=\"14.00\" fill=\"#000000\">samples = 131</text>\n<text text-anchor=\"middle\" x=\"686.5\" y=\"-364.8\" font-family=\"Helvetica,sans-Serif\" font-size=\"14.00\" fill=\"#000000\">value = [79, 52]</text>\n<text text-anchor=\"middle\" x=\"686.5\" y=\"-349.8\" font-family=\"Helvetica,sans-Serif\" font-size=\"14.00\" fill=\"#000000\">class = 0</text>\n</g>\n<!-- 0&#45;&gt;1 -->\n<g id=\"edge1\" class=\"edge\">\n<title>0&#45;&gt;1</title>\n<path fill=\"none\" stroke=\"#000000\" d=\"M808.0965,-460.8796C792.7226,-451.0962 776.2315,-440.6019 760.5098,-430.5971\"/>\n<polygon fill=\"#000000\" stroke=\"#000000\" points=\"762.1823,-427.5129 751.8666,-425.0969 758.4241,-433.4185 762.1823,-427.5129\"/>\n<text text-anchor=\"middle\" x=\"757.2899\" y=\"-445.8016\" font-family=\"Helvetica,sans-Serif\" font-size=\"14.00\" fill=\"#000000\">True</text>\n</g>\n<!-- 16 -->\n<g id=\"node17\" class=\"node\">\n<title>16</title>\n<path fill=\"#3ea0e6\" stroke=\"#000000\" d=\"M1126.5,-425C1126.5,-425 908.5,-425 908.5,-425 902.5,-425 896.5,-419 896.5,-413 896.5,-413 896.5,-354 896.5,-354 896.5,-348 902.5,-342 908.5,-342 908.5,-342 1126.5,-342 1126.5,-342 1132.5,-342 1138.5,-348 1138.5,-354 1138.5,-354 1138.5,-413 1138.5,-413 1138.5,-419 1132.5,-425 1126.5,-425\"/>\n<text text-anchor=\"middle\" x=\"1017.5\" y=\"-409.8\" font-family=\"Helvetica,sans-Serif\" font-size=\"14.00\" fill=\"#000000\">spondylolisthesis_grade &lt;= 20.085</text>\n<text text-anchor=\"middle\" x=\"1017.5\" y=\"-394.8\" font-family=\"Helvetica,sans-Serif\" font-size=\"14.00\" fill=\"#000000\">gini = 0.05</text>\n<text text-anchor=\"middle\" x=\"1017.5\" y=\"-379.8\" font-family=\"Helvetica,sans-Serif\" font-size=\"14.00\" fill=\"#000000\">samples = 117</text>\n<text text-anchor=\"middle\" x=\"1017.5\" y=\"-364.8\" font-family=\"Helvetica,sans-Serif\" font-size=\"14.00\" fill=\"#000000\">value = [3, 114]</text>\n<text text-anchor=\"middle\" x=\"1017.5\" y=\"-349.8\" font-family=\"Helvetica,sans-Serif\" font-size=\"14.00\" fill=\"#000000\">class = 1</text>\n</g>\n<!-- 0&#45;&gt;16 -->\n<g id=\"edge16\" class=\"edge\">\n<title>0&#45;&gt;16</title>\n<path fill=\"none\" stroke=\"#000000\" d=\"M923.8642,-460.8796C935.1985,-451.513 947.3215,-441.4948 958.9581,-431.8784\"/>\n<polygon fill=\"#000000\" stroke=\"#000000\" points=\"961.4419,-434.3663 966.9208,-425.2981 956.9827,-428.9703 961.4419,-434.3663\"/>\n<text text-anchor=\"middle\" x=\"964.5551\" y=\"-446.4859\" font-family=\"Helvetica,sans-Serif\" font-size=\"14.00\" fill=\"#000000\">False</text>\n</g>\n<!-- 2 -->\n<g id=\"node3\" class=\"node\">\n<title>2</title>\n<path fill=\"#f7fbfe\" stroke=\"#000000\" d=\"M448.5,-306C448.5,-306 312.5,-306 312.5,-306 306.5,-306 300.5,-300 300.5,-294 300.5,-294 300.5,-235 300.5,-235 300.5,-229 306.5,-223 312.5,-223 312.5,-223 448.5,-223 448.5,-223 454.5,-223 460.5,-229 460.5,-235 460.5,-235 460.5,-294 460.5,-294 460.5,-300 454.5,-306 448.5,-306\"/>\n<text text-anchor=\"middle\" x=\"380.5\" y=\"-290.8\" font-family=\"Helvetica,sans-Serif\" font-size=\"14.00\" fill=\"#000000\">sacral_slope &lt;= 40.57</text>\n<text text-anchor=\"middle\" x=\"380.5\" y=\"-275.8\" font-family=\"Helvetica,sans-Serif\" font-size=\"14.00\" fill=\"#000000\">gini = 0.5</text>\n<text text-anchor=\"middle\" x=\"380.5\" y=\"-260.8\" font-family=\"Helvetica,sans-Serif\" font-size=\"14.00\" fill=\"#000000\">samples = 94</text>\n<text text-anchor=\"middle\" x=\"380.5\" y=\"-245.8\" font-family=\"Helvetica,sans-Serif\" font-size=\"14.00\" fill=\"#000000\">value = [46, 48]</text>\n<text text-anchor=\"middle\" x=\"380.5\" y=\"-230.8\" font-family=\"Helvetica,sans-Serif\" font-size=\"14.00\" fill=\"#000000\">class = 1</text>\n</g>\n<!-- 1&#45;&gt;2 -->\n<g id=\"edge2\" class=\"edge\">\n<title>1&#45;&gt;2</title>\n<path fill=\"none\" stroke=\"#000000\" d=\"M604.8996,-351.7665C563.3385,-335.6039 512.7166,-315.9176 470.079,-299.3363\"/>\n<polygon fill=\"#000000\" stroke=\"#000000\" points=\"471.1379,-295.9928 460.5493,-295.6303 468.6008,-302.5168 471.1379,-295.9928\"/>\n</g>\n<!-- 9 -->\n<g id=\"node10\" class=\"node\">\n<title>9</title>\n<path fill=\"#e89051\" stroke=\"#000000\" d=\"M754.5,-306C754.5,-306 618.5,-306 618.5,-306 612.5,-306 606.5,-300 606.5,-294 606.5,-294 606.5,-235 606.5,-235 606.5,-229 612.5,-223 618.5,-223 618.5,-223 754.5,-223 754.5,-223 760.5,-223 766.5,-229 766.5,-235 766.5,-235 766.5,-294 766.5,-294 766.5,-300 760.5,-306 754.5,-306\"/>\n<text text-anchor=\"middle\" x=\"686.5\" y=\"-290.8\" font-family=\"Helvetica,sans-Serif\" font-size=\"14.00\" fill=\"#000000\">sacral_slope &lt;= 26.62</text>\n<text text-anchor=\"middle\" x=\"686.5\" y=\"-275.8\" font-family=\"Helvetica,sans-Serif\" font-size=\"14.00\" fill=\"#000000\">gini = 0.193</text>\n<text text-anchor=\"middle\" x=\"686.5\" y=\"-260.8\" font-family=\"Helvetica,sans-Serif\" font-size=\"14.00\" fill=\"#000000\">samples = 37</text>\n<text text-anchor=\"middle\" x=\"686.5\" y=\"-245.8\" font-family=\"Helvetica,sans-Serif\" font-size=\"14.00\" fill=\"#000000\">value = [33, 4]</text>\n<text text-anchor=\"middle\" x=\"686.5\" y=\"-230.8\" font-family=\"Helvetica,sans-Serif\" font-size=\"14.00\" fill=\"#000000\">class = 0</text>\n</g>\n<!-- 1&#45;&gt;9 -->\n<g id=\"edge9\" class=\"edge\">\n<title>1&#45;&gt;9</title>\n<path fill=\"none\" stroke=\"#000000\" d=\"M686.5,-341.8796C686.5,-333.6838 686.5,-324.9891 686.5,-316.5013\"/>\n<polygon fill=\"#000000\" stroke=\"#000000\" points=\"690.0001,-316.298 686.5,-306.2981 683.0001,-316.2981 690.0001,-316.298\"/>\n</g>\n<!-- 3 -->\n<g id=\"node4\" class=\"node\">\n<title>3</title>\n<path fill=\"#a3d2f3\" stroke=\"#000000\" d=\"M258,-187C258,-187 103,-187 103,-187 97,-187 91,-181 91,-175 91,-175 91,-116 91,-116 91,-110 97,-104 103,-104 103,-104 258,-104 258,-104 264,-104 270,-110 270,-116 270,-116 270,-175 270,-175 270,-181 264,-187 258,-187\"/>\n<text text-anchor=\"middle\" x=\"180.5\" y=\"-171.8\" font-family=\"Helvetica,sans-Serif\" font-size=\"14.00\" fill=\"#000000\">pelvic_radius &lt;= 113.525</text>\n<text text-anchor=\"middle\" x=\"180.5\" y=\"-156.8\" font-family=\"Helvetica,sans-Serif\" font-size=\"14.00\" fill=\"#000000\">gini = 0.455</text>\n<text text-anchor=\"middle\" x=\"180.5\" y=\"-141.8\" font-family=\"Helvetica,sans-Serif\" font-size=\"14.00\" fill=\"#000000\">samples = 63</text>\n<text text-anchor=\"middle\" x=\"180.5\" y=\"-126.8\" font-family=\"Helvetica,sans-Serif\" font-size=\"14.00\" fill=\"#000000\">value = [22, 41]</text>\n<text text-anchor=\"middle\" x=\"180.5\" y=\"-111.8\" font-family=\"Helvetica,sans-Serif\" font-size=\"14.00\" fill=\"#000000\">class = 1</text>\n</g>\n<!-- 2&#45;&gt;3 -->\n<g id=\"edge3\" class=\"edge\">\n<title>2&#45;&gt;3</title>\n<path fill=\"none\" stroke=\"#000000\" d=\"M310.5497,-222.8796C293.9548,-213.0056 276.1428,-202.4075 259.188,-192.3193\"/>\n<polygon fill=\"#000000\" stroke=\"#000000\" points=\"260.7943,-189.2025 250.4108,-187.0969 257.215,-195.2181 260.7943,-189.2025\"/>\n</g>\n<!-- 6 -->\n<g id=\"node7\" class=\"node\">\n<title>6</title>\n<path fill=\"#eda673\" stroke=\"#000000\" d=\"M461,-187C461,-187 300,-187 300,-187 294,-187 288,-181 288,-175 288,-175 288,-116 288,-116 288,-110 294,-104 300,-104 300,-104 461,-104 461,-104 467,-104 473,-110 473,-116 473,-116 473,-175 473,-175 473,-181 467,-187 461,-187\"/>\n<text text-anchor=\"middle\" x=\"380.5\" y=\"-171.8\" font-family=\"Helvetica,sans-Serif\" font-size=\"14.00\" fill=\"#000000\">pelvic_incidence &lt;= 63.81</text>\n<text text-anchor=\"middle\" x=\"380.5\" y=\"-156.8\" font-family=\"Helvetica,sans-Serif\" font-size=\"14.00\" fill=\"#000000\">gini = 0.35</text>\n<text text-anchor=\"middle\" x=\"380.5\" y=\"-141.8\" font-family=\"Helvetica,sans-Serif\" font-size=\"14.00\" fill=\"#000000\">samples = 31</text>\n<text text-anchor=\"middle\" x=\"380.5\" y=\"-126.8\" font-family=\"Helvetica,sans-Serif\" font-size=\"14.00\" fill=\"#000000\">value = [24, 7]</text>\n<text text-anchor=\"middle\" x=\"380.5\" y=\"-111.8\" font-family=\"Helvetica,sans-Serif\" font-size=\"14.00\" fill=\"#000000\">class = 0</text>\n</g>\n<!-- 2&#45;&gt;6 -->\n<g id=\"edge6\" class=\"edge\">\n<title>2&#45;&gt;6</title>\n<path fill=\"none\" stroke=\"#000000\" d=\"M380.5,-222.8796C380.5,-214.6838 380.5,-205.9891 380.5,-197.5013\"/>\n<polygon fill=\"#000000\" stroke=\"#000000\" points=\"384.0001,-197.298 380.5,-187.2981 377.0001,-197.2981 384.0001,-197.298\"/>\n</g>\n<!-- 4 -->\n<g id=\"node5\" class=\"node\">\n<title>4</title>\n<path fill=\"#47a4e7\" stroke=\"#000000\" d=\"M95,-68C95,-68 12,-68 12,-68 6,-68 0,-62 0,-56 0,-56 0,-12 0,-12 0,-6 6,0 12,0 12,0 95,0 95,0 101,0 107,-6 107,-12 107,-12 107,-56 107,-56 107,-62 101,-68 95,-68\"/>\n<text text-anchor=\"middle\" x=\"53.5\" y=\"-52.8\" font-family=\"Helvetica,sans-Serif\" font-size=\"14.00\" fill=\"#000000\">gini = 0.124</text>\n<text text-anchor=\"middle\" x=\"53.5\" y=\"-37.8\" font-family=\"Helvetica,sans-Serif\" font-size=\"14.00\" fill=\"#000000\">samples = 15</text>\n<text text-anchor=\"middle\" x=\"53.5\" y=\"-22.8\" font-family=\"Helvetica,sans-Serif\" font-size=\"14.00\" fill=\"#000000\">value = [1, 14]</text>\n<text text-anchor=\"middle\" x=\"53.5\" y=\"-7.8\" font-family=\"Helvetica,sans-Serif\" font-size=\"14.00\" fill=\"#000000\">class = 1</text>\n</g>\n<!-- 3&#45;&gt;4 -->\n<g id=\"edge4\" class=\"edge\">\n<title>3&#45;&gt;4</title>\n<path fill=\"none\" stroke=\"#000000\" d=\"M133.2099,-103.9815C122.4275,-94.5151 110.977,-84.462 100.2187,-75.0168\"/>\n<polygon fill=\"#000000\" stroke=\"#000000\" points=\"102.3507,-72.2311 92.5268,-68.2637 97.7324,-77.4915 102.3507,-72.2311\"/>\n</g>\n<!-- 5 -->\n<g id=\"node6\" class=\"node\">\n<title>5</title>\n<path fill=\"#d3e9f9\" stroke=\"#000000\" d=\"M229.5,-68C229.5,-68 137.5,-68 137.5,-68 131.5,-68 125.5,-62 125.5,-56 125.5,-56 125.5,-12 125.5,-12 125.5,-6 131.5,0 137.5,0 137.5,0 229.5,0 229.5,0 235.5,0 241.5,-6 241.5,-12 241.5,-12 241.5,-56 241.5,-56 241.5,-62 235.5,-68 229.5,-68\"/>\n<text text-anchor=\"middle\" x=\"183.5\" y=\"-52.8\" font-family=\"Helvetica,sans-Serif\" font-size=\"14.00\" fill=\"#000000\">gini = 0.492</text>\n<text text-anchor=\"middle\" x=\"183.5\" y=\"-37.8\" font-family=\"Helvetica,sans-Serif\" font-size=\"14.00\" fill=\"#000000\">samples = 48</text>\n<text text-anchor=\"middle\" x=\"183.5\" y=\"-22.8\" font-family=\"Helvetica,sans-Serif\" font-size=\"14.00\" fill=\"#000000\">value = [21, 27]</text>\n<text text-anchor=\"middle\" x=\"183.5\" y=\"-7.8\" font-family=\"Helvetica,sans-Serif\" font-size=\"14.00\" fill=\"#000000\">class = 1</text>\n</g>\n<!-- 3&#45;&gt;5 -->\n<g id=\"edge5\" class=\"edge\">\n<title>3&#45;&gt;5</title>\n<path fill=\"none\" stroke=\"#000000\" d=\"M181.6171,-103.9815C181.8421,-95.618 182.0795,-86.7965 182.307,-78.3409\"/>\n<polygon fill=\"#000000\" stroke=\"#000000\" points=\"185.8078,-78.3542 182.5781,-68.2637 178.8103,-78.1659 185.8078,-78.3542\"/>\n</g>\n<!-- 7 -->\n<g id=\"node8\" class=\"node\">\n<title>7</title>\n<path fill=\"#e58139\" stroke=\"#000000\" d=\"M377,-68C377,-68 294,-68 294,-68 288,-68 282,-62 282,-56 282,-56 282,-12 282,-12 282,-6 288,0 294,0 294,0 377,0 377,0 383,0 389,-6 389,-12 389,-12 389,-56 389,-56 389,-62 383,-68 377,-68\"/>\n<text text-anchor=\"middle\" x=\"335.5\" y=\"-52.8\" font-family=\"Helvetica,sans-Serif\" font-size=\"14.00\" fill=\"#000000\">gini = 0.0</text>\n<text text-anchor=\"middle\" x=\"335.5\" y=\"-37.8\" font-family=\"Helvetica,sans-Serif\" font-size=\"14.00\" fill=\"#000000\">samples = 16</text>\n<text text-anchor=\"middle\" x=\"335.5\" y=\"-22.8\" font-family=\"Helvetica,sans-Serif\" font-size=\"14.00\" fill=\"#000000\">value = [16, 0]</text>\n<text text-anchor=\"middle\" x=\"335.5\" y=\"-7.8\" font-family=\"Helvetica,sans-Serif\" font-size=\"14.00\" fill=\"#000000\">class = 0</text>\n</g>\n<!-- 6&#45;&gt;7 -->\n<g id=\"edge7\" class=\"edge\">\n<title>6&#45;&gt;7</title>\n<path fill=\"none\" stroke=\"#000000\" d=\"M363.7437,-103.9815C360.2941,-95.4342 356.6514,-86.4086 353.1706,-77.7839\"/>\n<polygon fill=\"#000000\" stroke=\"#000000\" points=\"356.3167,-76.227 349.3284,-68.2637 349.8254,-78.8469 356.3167,-76.227\"/>\n</g>\n<!-- 8 -->\n<g id=\"node9\" class=\"node\">\n<title>8</title>\n<path fill=\"#fcefe6\" stroke=\"#000000\" d=\"M499.5,-68C499.5,-68 419.5,-68 419.5,-68 413.5,-68 407.5,-62 407.5,-56 407.5,-56 407.5,-12 407.5,-12 407.5,-6 413.5,0 419.5,0 419.5,0 499.5,0 499.5,0 505.5,0 511.5,-6 511.5,-12 511.5,-12 511.5,-56 511.5,-56 511.5,-62 505.5,-68 499.5,-68\"/>\n<text text-anchor=\"middle\" x=\"459.5\" y=\"-52.8\" font-family=\"Helvetica,sans-Serif\" font-size=\"14.00\" fill=\"#000000\">gini = 0.498</text>\n<text text-anchor=\"middle\" x=\"459.5\" y=\"-37.8\" font-family=\"Helvetica,sans-Serif\" font-size=\"14.00\" fill=\"#000000\">samples = 15</text>\n<text text-anchor=\"middle\" x=\"459.5\" y=\"-22.8\" font-family=\"Helvetica,sans-Serif\" font-size=\"14.00\" fill=\"#000000\">value = [8, 7]</text>\n<text text-anchor=\"middle\" x=\"459.5\" y=\"-7.8\" font-family=\"Helvetica,sans-Serif\" font-size=\"14.00\" fill=\"#000000\">class = 0</text>\n</g>\n<!-- 6&#45;&gt;8 -->\n<g id=\"edge8\" class=\"edge\">\n<title>6&#45;&gt;8</title>\n<path fill=\"none\" stroke=\"#000000\" d=\"M409.9167,-103.9815C416.2331,-95.0666 422.9182,-85.6313 429.2651,-76.6734\"/>\n<polygon fill=\"#000000\" stroke=\"#000000\" points=\"432.2981,-78.4466 435.2235,-68.2637 426.5864,-74.3998 432.2981,-78.4466\"/>\n</g>\n<!-- 10 -->\n<g id=\"node11\" class=\"node\">\n<title>10</title>\n<path fill=\"#7bbeee\" stroke=\"#000000\" d=\"M718,-187C718,-187 503,-187 503,-187 497,-187 491,-181 491,-175 491,-175 491,-116 491,-116 491,-110 497,-104 503,-104 503,-104 718,-104 718,-104 724,-104 730,-110 730,-116 730,-116 730,-175 730,-175 730,-181 724,-187 718,-187\"/>\n<text text-anchor=\"middle\" x=\"610.5\" y=\"-171.8\" font-family=\"Helvetica,sans-Serif\" font-size=\"14.00\" fill=\"#000000\">spondylolisthesis_grade &lt;= &#45;1.135</text>\n<text text-anchor=\"middle\" x=\"610.5\" y=\"-156.8\" font-family=\"Helvetica,sans-Serif\" font-size=\"14.00\" fill=\"#000000\">gini = 0.375</text>\n<text text-anchor=\"middle\" x=\"610.5\" y=\"-141.8\" font-family=\"Helvetica,sans-Serif\" font-size=\"14.00\" fill=\"#000000\">samples = 4</text>\n<text text-anchor=\"middle\" x=\"610.5\" y=\"-126.8\" font-family=\"Helvetica,sans-Serif\" font-size=\"14.00\" fill=\"#000000\">value = [1, 3]</text>\n<text text-anchor=\"middle\" x=\"610.5\" y=\"-111.8\" font-family=\"Helvetica,sans-Serif\" font-size=\"14.00\" fill=\"#000000\">class = 1</text>\n</g>\n<!-- 9&#45;&gt;10 -->\n<g id=\"edge10\" class=\"edge\">\n<title>9&#45;&gt;10</title>\n<path fill=\"none\" stroke=\"#000000\" d=\"M659.9189,-222.8796C654.3395,-214.1434 648.3981,-204.8404 642.6405,-195.8253\"/>\n<polygon fill=\"#000000\" stroke=\"#000000\" points=\"645.5269,-193.8421 637.1946,-187.2981 639.6274,-197.6098 645.5269,-193.8421\"/>\n</g>\n<!-- 13 -->\n<g id=\"node14\" class=\"node\">\n<title>13</title>\n<path fill=\"#e6853f\" stroke=\"#000000\" d=\"M904.5,-187C904.5,-187 760.5,-187 760.5,-187 754.5,-187 748.5,-181 748.5,-175 748.5,-175 748.5,-116 748.5,-116 748.5,-110 754.5,-104 760.5,-104 760.5,-104 904.5,-104 904.5,-104 910.5,-104 916.5,-110 916.5,-116 916.5,-116 916.5,-175 916.5,-175 916.5,-181 910.5,-187 904.5,-187\"/>\n<text text-anchor=\"middle\" x=\"832.5\" y=\"-171.8\" font-family=\"Helvetica,sans-Serif\" font-size=\"14.00\" fill=\"#000000\">sacral_slope &lt;= 29.925</text>\n<text text-anchor=\"middle\" x=\"832.5\" y=\"-156.8\" font-family=\"Helvetica,sans-Serif\" font-size=\"14.00\" fill=\"#000000\">gini = 0.059</text>\n<text text-anchor=\"middle\" x=\"832.5\" y=\"-141.8\" font-family=\"Helvetica,sans-Serif\" font-size=\"14.00\" fill=\"#000000\">samples = 33</text>\n<text text-anchor=\"middle\" x=\"832.5\" y=\"-126.8\" font-family=\"Helvetica,sans-Serif\" font-size=\"14.00\" fill=\"#000000\">value = [32, 1]</text>\n<text text-anchor=\"middle\" x=\"832.5\" y=\"-111.8\" font-family=\"Helvetica,sans-Serif\" font-size=\"14.00\" fill=\"#000000\">class = 0</text>\n</g>\n<!-- 9&#45;&gt;13 -->\n<g id=\"edge13\" class=\"edge\">\n<title>9&#45;&gt;13</title>\n<path fill=\"none\" stroke=\"#000000\" d=\"M737.5637,-222.8796C749.0555,-213.513 761.3468,-203.4948 773.145,-193.8784\"/>\n<polygon fill=\"#000000\" stroke=\"#000000\" points=\"775.6782,-196.329 781.2183,-187.2981 771.2556,-190.903 775.6782,-196.329\"/>\n</g>\n<!-- 11 -->\n<g id=\"node12\" class=\"node\">\n<title>11</title>\n<path fill=\"#e58139\" stroke=\"#000000\" d=\"M628,-68C628,-68 553,-68 553,-68 547,-68 541,-62 541,-56 541,-56 541,-12 541,-12 541,-6 547,0 553,0 553,0 628,0 628,0 634,0 640,-6 640,-12 640,-12 640,-56 640,-56 640,-62 634,-68 628,-68\"/>\n<text text-anchor=\"middle\" x=\"590.5\" y=\"-52.8\" font-family=\"Helvetica,sans-Serif\" font-size=\"14.00\" fill=\"#000000\">gini = 0.0</text>\n<text text-anchor=\"middle\" x=\"590.5\" y=\"-37.8\" font-family=\"Helvetica,sans-Serif\" font-size=\"14.00\" fill=\"#000000\">samples = 1</text>\n<text text-anchor=\"middle\" x=\"590.5\" y=\"-22.8\" font-family=\"Helvetica,sans-Serif\" font-size=\"14.00\" fill=\"#000000\">value = [1, 0]</text>\n<text text-anchor=\"middle\" x=\"590.5\" y=\"-7.8\" font-family=\"Helvetica,sans-Serif\" font-size=\"14.00\" fill=\"#000000\">class = 0</text>\n</g>\n<!-- 10&#45;&gt;11 -->\n<g id=\"edge11\" class=\"edge\">\n<title>10&#45;&gt;11</title>\n<path fill=\"none\" stroke=\"#000000\" d=\"M603.0527,-103.9815C601.5526,-95.618 599.9702,-86.7965 598.4535,-78.3409\"/>\n<polygon fill=\"#000000\" stroke=\"#000000\" points=\"601.8566,-77.4886 596.646,-68.2637 594.9666,-78.7246 601.8566,-77.4886\"/>\n</g>\n<!-- 12 -->\n<g id=\"node13\" class=\"node\">\n<title>12</title>\n<path fill=\"#399de5\" stroke=\"#000000\" d=\"M745,-68C745,-68 670,-68 670,-68 664,-68 658,-62 658,-56 658,-56 658,-12 658,-12 658,-6 664,0 670,0 670,0 745,0 745,0 751,0 757,-6 757,-12 757,-12 757,-56 757,-56 757,-62 751,-68 745,-68\"/>\n<text text-anchor=\"middle\" x=\"707.5\" y=\"-52.8\" font-family=\"Helvetica,sans-Serif\" font-size=\"14.00\" fill=\"#000000\">gini = 0.0</text>\n<text text-anchor=\"middle\" x=\"707.5\" y=\"-37.8\" font-family=\"Helvetica,sans-Serif\" font-size=\"14.00\" fill=\"#000000\">samples = 3</text>\n<text text-anchor=\"middle\" x=\"707.5\" y=\"-22.8\" font-family=\"Helvetica,sans-Serif\" font-size=\"14.00\" fill=\"#000000\">value = [0, 3]</text>\n<text text-anchor=\"middle\" x=\"707.5\" y=\"-7.8\" font-family=\"Helvetica,sans-Serif\" font-size=\"14.00\" fill=\"#000000\">class = 1</text>\n</g>\n<!-- 10&#45;&gt;12 -->\n<g id=\"edge12\" class=\"edge\">\n<title>10&#45;&gt;12</title>\n<path fill=\"none\" stroke=\"#000000\" d=\"M646.6192,-103.9815C654.6147,-94.7908 663.0913,-85.0472 671.0979,-75.8436\"/>\n<polygon fill=\"#000000\" stroke=\"#000000\" points=\"673.7693,-78.1055 677.6921,-68.2637 668.488,-73.5111 673.7693,-78.1055\"/>\n</g>\n<!-- 14 -->\n<g id=\"node15\" class=\"node\">\n<title>14</title>\n<path fill=\"#eeab7b\" stroke=\"#000000\" d=\"M867,-68C867,-68 792,-68 792,-68 786,-68 780,-62 780,-56 780,-56 780,-12 780,-12 780,-6 786,0 792,0 792,0 867,0 867,0 873,0 879,-6 879,-12 879,-12 879,-56 879,-56 879,-62 873,-68 867,-68\"/>\n<text text-anchor=\"middle\" x=\"829.5\" y=\"-52.8\" font-family=\"Helvetica,sans-Serif\" font-size=\"14.00\" fill=\"#000000\">gini = 0.375</text>\n<text text-anchor=\"middle\" x=\"829.5\" y=\"-37.8\" font-family=\"Helvetica,sans-Serif\" font-size=\"14.00\" fill=\"#000000\">samples = 4</text>\n<text text-anchor=\"middle\" x=\"829.5\" y=\"-22.8\" font-family=\"Helvetica,sans-Serif\" font-size=\"14.00\" fill=\"#000000\">value = [3, 1]</text>\n<text text-anchor=\"middle\" x=\"829.5\" y=\"-7.8\" font-family=\"Helvetica,sans-Serif\" font-size=\"14.00\" fill=\"#000000\">class = 0</text>\n</g>\n<!-- 13&#45;&gt;14 -->\n<g id=\"edge14\" class=\"edge\">\n<title>13&#45;&gt;14</title>\n<path fill=\"none\" stroke=\"#000000\" d=\"M831.3829,-103.9815C831.1579,-95.618 830.9205,-86.7965 830.693,-78.3409\"/>\n<polygon fill=\"#000000\" stroke=\"#000000\" points=\"834.1897,-78.1659 830.4219,-68.2637 827.1922,-78.3542 834.1897,-78.1659\"/>\n</g>\n<!-- 15 -->\n<g id=\"node16\" class=\"node\">\n<title>15</title>\n<path fill=\"#e58139\" stroke=\"#000000\" d=\"M992,-68C992,-68 909,-68 909,-68 903,-68 897,-62 897,-56 897,-56 897,-12 897,-12 897,-6 903,0 909,0 909,0 992,0 992,0 998,0 1004,-6 1004,-12 1004,-12 1004,-56 1004,-56 1004,-62 998,-68 992,-68\"/>\n<text text-anchor=\"middle\" x=\"950.5\" y=\"-52.8\" font-family=\"Helvetica,sans-Serif\" font-size=\"14.00\" fill=\"#000000\">gini = 0.0</text>\n<text text-anchor=\"middle\" x=\"950.5\" y=\"-37.8\" font-family=\"Helvetica,sans-Serif\" font-size=\"14.00\" fill=\"#000000\">samples = 29</text>\n<text text-anchor=\"middle\" x=\"950.5\" y=\"-22.8\" font-family=\"Helvetica,sans-Serif\" font-size=\"14.00\" fill=\"#000000\">value = [29, 0]</text>\n<text text-anchor=\"middle\" x=\"950.5\" y=\"-7.8\" font-family=\"Helvetica,sans-Serif\" font-size=\"14.00\" fill=\"#000000\">class = 0</text>\n</g>\n<!-- 13&#45;&gt;15 -->\n<g id=\"edge15\" class=\"edge\">\n<title>13&#45;&gt;15</title>\n<path fill=\"none\" stroke=\"#000000\" d=\"M876.4388,-103.9815C886.3598,-94.607 896.8897,-84.6572 906.8008,-75.2921\"/>\n<polygon fill=\"#000000\" stroke=\"#000000\" points=\"909.3743,-77.6757 914.2389,-68.2637 904.5666,-72.5878 909.3743,-77.6757\"/>\n</g>\n<!-- 17 -->\n<g id=\"node18\" class=\"node\">\n<title>17</title>\n<path fill=\"#7bbeee\" stroke=\"#000000\" d=\"M1102.5,-306C1102.5,-306 932.5,-306 932.5,-306 926.5,-306 920.5,-300 920.5,-294 920.5,-294 920.5,-235 920.5,-235 920.5,-229 926.5,-223 932.5,-223 932.5,-223 1102.5,-223 1102.5,-223 1108.5,-223 1114.5,-229 1114.5,-235 1114.5,-235 1114.5,-294 1114.5,-294 1114.5,-300 1108.5,-306 1102.5,-306\"/>\n<text text-anchor=\"middle\" x=\"1017.5\" y=\"-290.8\" font-family=\"Helvetica,sans-Serif\" font-size=\"14.00\" fill=\"#000000\">pelvic_incidence &lt;= 55.985</text>\n<text text-anchor=\"middle\" x=\"1017.5\" y=\"-275.8\" font-family=\"Helvetica,sans-Serif\" font-size=\"14.00\" fill=\"#000000\">gini = 0.375</text>\n<text text-anchor=\"middle\" x=\"1017.5\" y=\"-260.8\" font-family=\"Helvetica,sans-Serif\" font-size=\"14.00\" fill=\"#000000\">samples = 4</text>\n<text text-anchor=\"middle\" x=\"1017.5\" y=\"-245.8\" font-family=\"Helvetica,sans-Serif\" font-size=\"14.00\" fill=\"#000000\">value = [1, 3]</text>\n<text text-anchor=\"middle\" x=\"1017.5\" y=\"-230.8\" font-family=\"Helvetica,sans-Serif\" font-size=\"14.00\" fill=\"#000000\">class = 1</text>\n</g>\n<!-- 16&#45;&gt;17 -->\n<g id=\"edge17\" class=\"edge\">\n<title>16&#45;&gt;17</title>\n<path fill=\"none\" stroke=\"#000000\" d=\"M1017.5,-341.8796C1017.5,-333.6838 1017.5,-324.9891 1017.5,-316.5013\"/>\n<polygon fill=\"#000000\" stroke=\"#000000\" points=\"1021.0001,-316.298 1017.5,-306.2981 1014.0001,-316.2981 1021.0001,-316.298\"/>\n</g>\n<!-- 20 -->\n<g id=\"node21\" class=\"node\">\n<title>20</title>\n<path fill=\"#3d9fe5\" stroke=\"#000000\" d=\"M1395.5,-306C1395.5,-306 1177.5,-306 1177.5,-306 1171.5,-306 1165.5,-300 1165.5,-294 1165.5,-294 1165.5,-235 1165.5,-235 1165.5,-229 1171.5,-223 1177.5,-223 1177.5,-223 1395.5,-223 1395.5,-223 1401.5,-223 1407.5,-229 1407.5,-235 1407.5,-235 1407.5,-294 1407.5,-294 1407.5,-300 1401.5,-306 1395.5,-306\"/>\n<text text-anchor=\"middle\" x=\"1286.5\" y=\"-290.8\" font-family=\"Helvetica,sans-Serif\" font-size=\"14.00\" fill=\"#000000\">spondylolisthesis_grade &lt;= 31.375</text>\n<text text-anchor=\"middle\" x=\"1286.5\" y=\"-275.8\" font-family=\"Helvetica,sans-Serif\" font-size=\"14.00\" fill=\"#000000\">gini = 0.035</text>\n<text text-anchor=\"middle\" x=\"1286.5\" y=\"-260.8\" font-family=\"Helvetica,sans-Serif\" font-size=\"14.00\" fill=\"#000000\">samples = 113</text>\n<text text-anchor=\"middle\" x=\"1286.5\" y=\"-245.8\" font-family=\"Helvetica,sans-Serif\" font-size=\"14.00\" fill=\"#000000\">value = [2, 111]</text>\n<text text-anchor=\"middle\" x=\"1286.5\" y=\"-230.8\" font-family=\"Helvetica,sans-Serif\" font-size=\"14.00\" fill=\"#000000\">class = 1</text>\n</g>\n<!-- 16&#45;&gt;20 -->\n<g id=\"edge20\" class=\"edge\">\n<title>16&#45;&gt;20</title>\n<path fill=\"none\" stroke=\"#000000\" d=\"M1111.5831,-341.8796C1134.7224,-331.6433 1159.621,-320.6286 1183.1705,-310.2108\"/>\n<polygon fill=\"#000000\" stroke=\"#000000\" points=\"1184.7408,-313.3434 1192.47,-306.0969 1181.9089,-306.9418 1184.7408,-313.3434\"/>\n</g>\n<!-- 18 -->\n<g id=\"node19\" class=\"node\">\n<title>18</title>\n<path fill=\"#e58139\" stroke=\"#000000\" d=\"M1022,-179.5C1022,-179.5 947,-179.5 947,-179.5 941,-179.5 935,-173.5 935,-167.5 935,-167.5 935,-123.5 935,-123.5 935,-117.5 941,-111.5 947,-111.5 947,-111.5 1022,-111.5 1022,-111.5 1028,-111.5 1034,-117.5 1034,-123.5 1034,-123.5 1034,-167.5 1034,-167.5 1034,-173.5 1028,-179.5 1022,-179.5\"/>\n<text text-anchor=\"middle\" x=\"984.5\" y=\"-164.3\" font-family=\"Helvetica,sans-Serif\" font-size=\"14.00\" fill=\"#000000\">gini = 0.0</text>\n<text text-anchor=\"middle\" x=\"984.5\" y=\"-149.3\" font-family=\"Helvetica,sans-Serif\" font-size=\"14.00\" fill=\"#000000\">samples = 1</text>\n<text text-anchor=\"middle\" x=\"984.5\" y=\"-134.3\" font-family=\"Helvetica,sans-Serif\" font-size=\"14.00\" fill=\"#000000\">value = [1, 0]</text>\n<text text-anchor=\"middle\" x=\"984.5\" y=\"-119.3\" font-family=\"Helvetica,sans-Serif\" font-size=\"14.00\" fill=\"#000000\">class = 0</text>\n</g>\n<!-- 17&#45;&gt;18 -->\n<g id=\"edge18\" class=\"edge\">\n<title>17&#45;&gt;18</title>\n<path fill=\"none\" stroke=\"#000000\" d=\"M1005.9582,-222.8796C1002.9699,-212.1034 999.7423,-200.4647 996.7205,-189.5677\"/>\n<polygon fill=\"#000000\" stroke=\"#000000\" points=\"1000.061,-188.516 994.0159,-179.8149 993.3155,-190.3866 1000.061,-188.516\"/>\n</g>\n<!-- 19 -->\n<g id=\"node20\" class=\"node\">\n<title>19</title>\n<path fill=\"#399de5\" stroke=\"#000000\" d=\"M1139,-179.5C1139,-179.5 1064,-179.5 1064,-179.5 1058,-179.5 1052,-173.5 1052,-167.5 1052,-167.5 1052,-123.5 1052,-123.5 1052,-117.5 1058,-111.5 1064,-111.5 1064,-111.5 1139,-111.5 1139,-111.5 1145,-111.5 1151,-117.5 1151,-123.5 1151,-123.5 1151,-167.5 1151,-167.5 1151,-173.5 1145,-179.5 1139,-179.5\"/>\n<text text-anchor=\"middle\" x=\"1101.5\" y=\"-164.3\" font-family=\"Helvetica,sans-Serif\" font-size=\"14.00\" fill=\"#000000\">gini = 0.0</text>\n<text text-anchor=\"middle\" x=\"1101.5\" y=\"-149.3\" font-family=\"Helvetica,sans-Serif\" font-size=\"14.00\" fill=\"#000000\">samples = 3</text>\n<text text-anchor=\"middle\" x=\"1101.5\" y=\"-134.3\" font-family=\"Helvetica,sans-Serif\" font-size=\"14.00\" fill=\"#000000\">value = [0, 3]</text>\n<text text-anchor=\"middle\" x=\"1101.5\" y=\"-119.3\" font-family=\"Helvetica,sans-Serif\" font-size=\"14.00\" fill=\"#000000\">class = 1</text>\n</g>\n<!-- 17&#45;&gt;19 -->\n<g id=\"edge19\" class=\"edge\">\n<title>17&#45;&gt;19</title>\n<path fill=\"none\" stroke=\"#000000\" d=\"M1046.8791,-222.8796C1054.7963,-211.6636 1063.3731,-199.5131 1071.3325,-188.2372\"/>\n<polygon fill=\"#000000\" stroke=\"#000000\" points=\"1074.3702,-190.003 1077.2777,-179.8149 1068.6514,-185.9662 1074.3702,-190.003\"/>\n</g>\n<!-- 21 -->\n<g id=\"node22\" class=\"node\">\n<title>21</title>\n<path fill=\"#46a4e7\" stroke=\"#000000\" d=\"M1391.5,-187C1391.5,-187 1181.5,-187 1181.5,-187 1175.5,-187 1169.5,-181 1169.5,-175 1169.5,-175 1169.5,-116 1169.5,-116 1169.5,-110 1175.5,-104 1181.5,-104 1181.5,-104 1391.5,-104 1391.5,-104 1397.5,-104 1403.5,-110 1403.5,-116 1403.5,-116 1403.5,-175 1403.5,-175 1403.5,-181 1397.5,-187 1391.5,-187\"/>\n<text text-anchor=\"middle\" x=\"1286.5\" y=\"-171.8\" font-family=\"Helvetica,sans-Serif\" font-size=\"14.00\" fill=\"#000000\">spondylolisthesis_grade &lt;= 30.89</text>\n<text text-anchor=\"middle\" x=\"1286.5\" y=\"-156.8\" font-family=\"Helvetica,sans-Serif\" font-size=\"14.00\" fill=\"#000000\">gini = 0.117</text>\n<text text-anchor=\"middle\" x=\"1286.5\" y=\"-141.8\" font-family=\"Helvetica,sans-Serif\" font-size=\"14.00\" fill=\"#000000\">samples = 32</text>\n<text text-anchor=\"middle\" x=\"1286.5\" y=\"-126.8\" font-family=\"Helvetica,sans-Serif\" font-size=\"14.00\" fill=\"#000000\">value = [2, 30]</text>\n<text text-anchor=\"middle\" x=\"1286.5\" y=\"-111.8\" font-family=\"Helvetica,sans-Serif\" font-size=\"14.00\" fill=\"#000000\">class = 1</text>\n</g>\n<!-- 20&#45;&gt;21 -->\n<g id=\"edge21\" class=\"edge\">\n<title>20&#45;&gt;21</title>\n<path fill=\"none\" stroke=\"#000000\" d=\"M1286.5,-222.8796C1286.5,-214.6838 1286.5,-205.9891 1286.5,-197.5013\"/>\n<polygon fill=\"#000000\" stroke=\"#000000\" points=\"1290.0001,-197.298 1286.5,-187.2981 1283.0001,-197.2981 1290.0001,-197.298\"/>\n</g>\n<!-- 24 -->\n<g id=\"node25\" class=\"node\">\n<title>24</title>\n<path fill=\"#399de5\" stroke=\"#000000\" d=\"M1517,-179.5C1517,-179.5 1434,-179.5 1434,-179.5 1428,-179.5 1422,-173.5 1422,-167.5 1422,-167.5 1422,-123.5 1422,-123.5 1422,-117.5 1428,-111.5 1434,-111.5 1434,-111.5 1517,-111.5 1517,-111.5 1523,-111.5 1529,-117.5 1529,-123.5 1529,-123.5 1529,-167.5 1529,-167.5 1529,-173.5 1523,-179.5 1517,-179.5\"/>\n<text text-anchor=\"middle\" x=\"1475.5\" y=\"-164.3\" font-family=\"Helvetica,sans-Serif\" font-size=\"14.00\" fill=\"#000000\">gini = 0.0</text>\n<text text-anchor=\"middle\" x=\"1475.5\" y=\"-149.3\" font-family=\"Helvetica,sans-Serif\" font-size=\"14.00\" fill=\"#000000\">samples = 81</text>\n<text text-anchor=\"middle\" x=\"1475.5\" y=\"-134.3\" font-family=\"Helvetica,sans-Serif\" font-size=\"14.00\" fill=\"#000000\">value = [0, 81]</text>\n<text text-anchor=\"middle\" x=\"1475.5\" y=\"-119.3\" font-family=\"Helvetica,sans-Serif\" font-size=\"14.00\" fill=\"#000000\">class = 1</text>\n</g>\n<!-- 20&#45;&gt;24 -->\n<g id=\"edge24\" class=\"edge\">\n<title>20&#45;&gt;24</title>\n<path fill=\"none\" stroke=\"#000000\" d=\"M1355.0758,-222.8531C1373.773,-211.3533 1393.9777,-198.7929 1412.5,-187 1413.4391,-186.4021 1414.3853,-185.7981 1415.337,-185.1892\"/>\n<polygon fill=\"#000000\" stroke=\"#000000\" points=\"1417.5001,-187.9593 1424.0131,-179.6028 1413.7104,-182.0738 1417.5001,-187.9593\"/>\n</g>\n<!-- 22 -->\n<g id=\"node23\" class=\"node\">\n<title>22</title>\n<path fill=\"#40a0e6\" stroke=\"#000000\" d=\"M1267,-68C1267,-68 1184,-68 1184,-68 1178,-68 1172,-62 1172,-56 1172,-56 1172,-12 1172,-12 1172,-6 1178,0 1184,0 1184,0 1267,0 1267,0 1273,0 1279,-6 1279,-12 1279,-12 1279,-56 1279,-56 1279,-62 1273,-68 1267,-68\"/>\n<text text-anchor=\"middle\" x=\"1225.5\" y=\"-52.8\" font-family=\"Helvetica,sans-Serif\" font-size=\"14.00\" fill=\"#000000\">gini = 0.062</text>\n<text text-anchor=\"middle\" x=\"1225.5\" y=\"-37.8\" font-family=\"Helvetica,sans-Serif\" font-size=\"14.00\" fill=\"#000000\">samples = 31</text>\n<text text-anchor=\"middle\" x=\"1225.5\" y=\"-22.8\" font-family=\"Helvetica,sans-Serif\" font-size=\"14.00\" fill=\"#000000\">value = [1, 30]</text>\n<text text-anchor=\"middle\" x=\"1225.5\" y=\"-7.8\" font-family=\"Helvetica,sans-Serif\" font-size=\"14.00\" fill=\"#000000\">class = 1</text>\n</g>\n<!-- 21&#45;&gt;22 -->\n<g id=\"edge22\" class=\"edge\">\n<title>21&#45;&gt;22</title>\n<path fill=\"none\" stroke=\"#000000\" d=\"M1263.7859,-103.9815C1259.0092,-95.2504 1253.9595,-86.0202 1249.1494,-77.2281\"/>\n<polygon fill=\"#000000\" stroke=\"#000000\" points=\"1252.1153,-75.3568 1244.2451,-68.2637 1245.9742,-78.7165 1252.1153,-75.3568\"/>\n</g>\n<!-- 23 -->\n<g id=\"node24\" class=\"node\">\n<title>23</title>\n<path fill=\"#e58139\" stroke=\"#000000\" d=\"M1384,-68C1384,-68 1309,-68 1309,-68 1303,-68 1297,-62 1297,-56 1297,-56 1297,-12 1297,-12 1297,-6 1303,0 1309,0 1309,0 1384,0 1384,0 1390,0 1396,-6 1396,-12 1396,-12 1396,-56 1396,-56 1396,-62 1390,-68 1384,-68\"/>\n<text text-anchor=\"middle\" x=\"1346.5\" y=\"-52.8\" font-family=\"Helvetica,sans-Serif\" font-size=\"14.00\" fill=\"#000000\">gini = 0.0</text>\n<text text-anchor=\"middle\" x=\"1346.5\" y=\"-37.8\" font-family=\"Helvetica,sans-Serif\" font-size=\"14.00\" fill=\"#000000\">samples = 1</text>\n<text text-anchor=\"middle\" x=\"1346.5\" y=\"-22.8\" font-family=\"Helvetica,sans-Serif\" font-size=\"14.00\" fill=\"#000000\">value = [1, 0]</text>\n<text text-anchor=\"middle\" x=\"1346.5\" y=\"-7.8\" font-family=\"Helvetica,sans-Serif\" font-size=\"14.00\" fill=\"#000000\">class = 0</text>\n</g>\n<!-- 21&#45;&gt;23 -->\n<g id=\"edge23\" class=\"edge\">\n<title>21&#45;&gt;23</title>\n<path fill=\"none\" stroke=\"#000000\" d=\"M1308.8418,-103.9815C1313.5402,-95.2504 1318.5071,-86.0202 1323.2383,-77.2281\"/>\n<polygon fill=\"#000000\" stroke=\"#000000\" points=\"1326.4056,-78.7282 1328.0621,-68.2637 1320.2414,-75.4111 1326.4056,-78.7282\"/>\n</g>\n</g>\n</svg>\n"
          },
          "metadata": {}
        }
      ]
    },
    {
      "cell_type": "code",
      "source": [
        "def plot_feature_importance(model):\n",
        "  n_features =X.shape[1]\n",
        "  plt.barh(np.arange(n_features), model.feature_importances_, align='center')\n",
        "  plt.yticks(np.arange(n_features), X.columns)\n",
        "  plt.xlabel(\"feature_importance\")\n",
        "  plt.ylabel(\"features\")\n",
        "  plt.ylim(-1, n_features)\n",
        "plot_feature_importance(tree)           "
      ],
      "metadata": {
        "colab": {
          "base_uri": "https://localhost:8080/",
          "height": 280
        },
        "id": "QGMsahaS7HJ1",
        "outputId": "209b6043-3d48-4f7b-e72c-94a34c8ff40f"
      },
      "execution_count": null,
      "outputs": [
        {
          "output_type": "display_data",
          "data": {
            "text/plain": [
              "<Figure size 432x288 with 1 Axes>"
            ],
            "image/png": "[encoded data removed]"
          },
          "metadata": {
            "needs_background": "light"
          }
        }
      ]
    },
    {
      "cell_type": "code",
      "source": [
        ""
      ],
      "metadata": {
        "id": "fG7s_mQmBmTZ"
      },
      "execution_count": null,
      "outputs": []
    },
    {
      "cell_type": "markdown",
      "source": [
        "Decision trees and ensemble methods do not require feature scaling to be performed as they are not sensitive to the the variance in the dataset"
      ],
      "metadata": {
        "id": "AK9RwjewEzCA"
      }
    },
    {
      "cell_type": "markdown",
      "source": [
        "## 5.RANDOM FOREST MODEL"
      ],
      "metadata": {
        "id": "tV9FIip8CEIo"
      }
    },
    {
      "cell_type": "code",
      "source": [
        "from sklearn.ensemble import RandomForestClassifier\n",
        "forest = RandomForestClassifier(n_estimators = 500,max_leaf_nodes = 16, n_jobs=-1, random_state = 42)\n",
        "forest.fit(X_train , y_train)"
      ],
      "metadata": {
        "colab": {
          "base_uri": "https://localhost:8080/"
        },
        "id": "Qx8hyCa7CI_S",
        "outputId": "07655ce0-f136-470d-c71e-2b2ac6e21fb5"
      },
      "execution_count": null,
      "outputs": [
        {
          "output_type": "execute_result",
          "data": {
            "text/plain": [
              "RandomForestClassifier(max_leaf_nodes=16, n_estimators=500, n_jobs=-1,\n",
              "                       random_state=42)"
            ]
          },
          "metadata": {},
          "execution_count": 54
        }
      ]
    },
    {
      "cell_type": "code",
      "source": [
        "y_pred_rf= forest.predict(X_test)\n",
        "print(\"Accuracy\", accuracy_score(y_test, y_pred_rf))"
      ],
      "metadata": {
        "colab": {
          "base_uri": "https://localhost:8080/"
        },
        "id": "oIpvBDzaCdV5",
        "outputId": "942f5b11-f8a0-40a4-d7bb-959882089abb"
      },
      "execution_count": null,
      "outputs": [
        {
          "output_type": "stream",
          "name": "stdout",
          "text": [
            "Accuracy 0.8064516129032258\n"
          ]
        }
      ]
    },
    {
      "cell_type": "code",
      "source": [
        "# why the accuracy of the randome forest is higher than decision tree and n_estimators optimal number"
      ],
      "metadata": {
        "id": "c59ydz1oCs2G"
      },
      "execution_count": null,
      "outputs": []
    },
    {
      "cell_type": "code",
      "source": [
        "rf_disp = RocCurveDisplay.from_estimator(forest, X_test, y_test)\n",
        "plt.show()"
      ],
      "metadata": {
        "colab": {
          "base_uri": "https://localhost:8080/",
          "height": 279
        },
        "id": "5rdAQtzdDIHH",
        "outputId": "d2f9ea6e-e463-414b-81dd-6cb79bbc6e15"
      },
      "execution_count": null,
      "outputs": [
        {
          "output_type": "display_data",
          "data": {
            "text/plain": [
              "<Figure size 432x288 with 1 Axes>"
            ],
            "image/png": "[encoded data removed]"
          },
          "metadata": {
            "needs_background": "light"
          }
        }
      ]
    },
    {
      "cell_type": "code",
      "source": [
        "# feature importance \n",
        "plot_feature_importance(forest)"
      ],
      "metadata": {
        "colab": {
          "base_uri": "https://localhost:8080/",
          "height": 280
        },
        "id": "86bgyBKfDSst",
        "outputId": "ca74caff-ea04-4e9c-8a7c-8cf70a56cbdb"
      },
      "execution_count": null,
      "outputs": [
        {
          "output_type": "display_data",
          "data": {
            "text/plain": [
              "<Figure size 432x288 with 1 Axes>"
            ],
            "image/png": "[encoded data removed]"
          },
          "metadata": {
            "needs_background": "light"
          }
        }
      ]
    },
    {
      "cell_type": "markdown",
      "source": [
        "scaling\n"
      ],
      "metadata": {
        "id": "l__DvhjRDs_-"
      }
    },
    {
      "cell_type": "code",
      "source": [
        "forest_sc = RandomForestClassifier(n_estimators = 100, random_state = 42)\n",
        "forest_sc.fit(X_train_std_scaled , y_train)"
      ],
      "metadata": {
        "colab": {
          "base_uri": "https://localhost:8080/"
        },
        "id": "BA3_EyjxDvPY",
        "outputId": "ce8b2848-d3b0-4a5d-b7d7-ab4b8a2fbcac"
      },
      "execution_count": null,
      "outputs": [
        {
          "output_type": "execute_result",
          "data": {
            "text/plain": [
              "RandomForestClassifier(random_state=42)"
            ]
          },
          "metadata": {},
          "execution_count": 59
        }
      ]
    },
    {
      "cell_type": "code",
      "source": [
        "y_pred_s= forest_sc.predict(X_test_std_scaled)\n",
        "print(\"Accuracy\", accuracy_score(y_test, y_pred_s))"
      ],
      "metadata": {
        "colab": {
          "base_uri": "https://localhost:8080/"
        },
        "id": "iutjuTdaD2mk",
        "outputId": "895a52d8-fdb9-4fe3-e109-06ab986e6282"
      },
      "execution_count": null,
      "outputs": [
        {
          "output_type": "stream",
          "name": "stdout",
          "text": [
            "Accuracy 0.7741935483870968\n"
          ]
        }
      ]
    },
    {
      "cell_type": "code",
      "source": [
        "# Sclaing is not necessary for random forest"
      ],
      "metadata": {
        "id": "MnP7TxIJD_fl"
      },
      "execution_count": null,
      "outputs": []
    },
    {
      "cell_type": "code",
      "source": [
        ""
      ],
      "metadata": {
        "id": "fObOmEN0qJCI"
      },
      "execution_count": null,
      "outputs": []
    },
    {
      "cell_type": "markdown",
      "source": [
        "## CONCLUSION"
      ],
      "metadata": {
        "id": "JX8zp4dnw9Zw"
      }
    },
    {
      "cell_type": "code",
      "source": [
        "print(\"Logistic Regression Accuracy\", accuracy_score(y_test, y_pred_lr))\n",
        "print(\"K-Nearest Neighbor Accuracy\", accuracy_score(y_test, y_pred_knn))\n",
        "print(\"Support Vector Machine Accuracy\", accuracy_score(y_test, y_pred_svm))\n",
        "print(\"Decision Tree Accuracy\", accuracy_score(y_test, y_pred_dt))\n",
        "print(\"Random Forest Accuracy\", accuracy_score(y_test, y_pred_rf))\n"
      ],
      "metadata": {
        "colab": {
          "base_uri": "https://localhost:8080/"
        },
        "outputId": "3bacfef9-1128-4a8a-c0b4-4742b27773f8",
        "id": "eK3qzbFzqJ7m"
      },
      "execution_count": null,
      "outputs": [
        {
          "output_type": "stream",
          "name": "stdout",
          "text": [
            "Logistic Regression Accuracy 0.8548387096774194\n",
            "K-Nearest Neighbor Accuracy 0.8387096774193549\n",
            "Support Vector Machine Accuracy 0.8548387096774194\n",
            "Decision Tree Accuracy 0.8709677419354839\n",
            "Random Forest Accuracy 0.8064516129032258\n"
          ]
        }
      ]
    },
    {
      "cell_type": "code",
      "source": [
        "# among the 5 classifiers i think that Decision Tree has better performance than other models. Random Forest is overfitting a little bit,"
      ],
      "metadata": {
        "id": "oxHktUMd6ylq"
      },
      "execution_count": null,
      "outputs": []
    },
    {
      "cell_type": "markdown",
      "source": [
        "## 6.NEURAL NETWORKS \n"
      ],
      "metadata": {
        "id": "WzfzSzDSuduj"
      }
    },
    {
      "cell_type": "markdown",
      "source": [
        "# Multi Layer Perceptron"
      ],
      "metadata": {
        "id": "U2ie7oFQyYtV"
      }
    },
    {
      "cell_type": "code",
      "source": [
        "from sklearn.neural_network import MLPClassifier\n",
        "mlp = MLPClassifier(hidden_layer_sizes=(10, 10), activation = 'logistic', random_state=42, max_iter = 2000)\n",
        "mlp.fit(X_train_std_scaled, y_train)"
      ],
      "metadata": {
        "colab": {
          "base_uri": "https://localhost:8080/"
        },
        "id": "QdMRf9Nmuogr",
        "outputId": "fe9f31e4-95bf-4818-ad0c-9841ed118ded"
      },
      "execution_count": null,
      "outputs": [
        {
          "output_type": "execute_result",
          "data": {
            "text/plain": [
              "MLPClassifier(activation='logistic', hidden_layer_sizes=(10, 10), max_iter=2000,\n",
              "              random_state=42)"
            ]
          },
          "metadata": {},
          "execution_count": 65
        }
      ]
    },
    {
      "cell_type": "code",
      "source": [
        "y_pred_mlp= mlp.predict(X_test_std_scaled)\n",
        "print(\"Accuracy\", accuracy_score(y_test, y_pred_mlp))"
      ],
      "metadata": {
        "colab": {
          "base_uri": "https://localhost:8080/"
        },
        "id": "GD2koi1Nurxt",
        "outputId": "78ae0794-1e5d-4f3f-b03b-cde4f750056b"
      },
      "execution_count": null,
      "outputs": [
        {
          "output_type": "stream",
          "name": "stdout",
          "text": [
            "Accuracy 0.8548387096774194\n"
          ]
        }
      ]
    },
    {
      "cell_type": "code",
      "source": [
        "y_pred_prob_mlp = mlp.predict_proba(X_test_std_scaled)[::, 1]\n",
        "FPR, TPR , _ = metrics.roc_curve(y_test, y_pred_prob_mlp)\n",
        "AUC = metrics.roc_auc_score(y_test, y_pred_prob_mlp)\n",
        "lw = 1.5\n",
        "plt.plot(FPR,TPR,  color=\"darkorange\", lw=lw, label = \"MPL with scaling : AUC= %0.5f\" % AUC)\n",
        "plt.plot([0,1], [0,1], color=\"navy\", lw=lw,linestyle=\"--\")\n",
        "plt.xlabel(\"False Positive Rate\")\n",
        "plt.ylabel(\"True Postive Rate\")\n",
        "plt.title(\"Receiver Operating Characteristic Curve\")\n",
        "plt.legend(loc = 4)\n",
        "plt.show()"
      ],
      "metadata": {
        "id": "_reNzqCsur5A",
        "colab": {
          "base_uri": "https://localhost:8080/",
          "height": 295
        },
        "outputId": "54057d9b-e904-4df3-c430-f82cb4d9e4ed"
      },
      "execution_count": null,
      "outputs": [
        {
          "output_type": "display_data",
          "data": {
            "text/plain": [
              "<Figure size 432x288 with 1 Axes>"
            ],
            "image/png": "[encoded data removed]"
          },
          "metadata": {
            "needs_background": "light"
          }
        }
      ]
    },
    {
      "cell_type": "code",
      "source": [
        ""
      ],
      "metadata": {
        "id": "-W7CU186ur7f"
      },
      "execution_count": null,
      "outputs": []
    },
    {
      "cell_type": "code",
      "source": [
        ""
      ],
      "metadata": {
        "id": "CBQj0ubrur96"
      },
      "execution_count": null,
      "outputs": []
    }
  ]
}
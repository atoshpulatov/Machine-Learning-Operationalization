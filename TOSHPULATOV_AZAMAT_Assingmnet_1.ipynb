{
  "nbformat": 4,
  "nbformat_minor": 0,
  "metadata": {
    "colab": {
      "name": "TOSHPULATOV AZAMAT_Assingmnet_1.ipynb",
      "provenance": [],
      "collapsed_sections": [],
      "authorship_tag": "ABX9TyPQ5CBRFHg5Rk3E0ZfnJ9Vn",
      "include_colab_link": true
    },
    "kernelspec": {
      "name": "python3",
      "display_name": "Python 3"
    },
    "language_info": {
      "name": "python"
    }
  },
  "cells": [
    {
      "cell_type": "markdown",
      "metadata": {
        "id": "view-in-github",
        "colab_type": "text"
      },
      "source": [
        "<a href=\"https://colab.research.google.com/github/atoshpulatov/Machine-Learning-Operationalization/blob/master/TOSHPULATOV_AZAMAT_Assingmnet_1.ipynb\" target=\"_parent\"><img src=\"https://colab.research.google.com/assets/colab-badge.svg\" alt=\"Open In Colab\"/></a>"
      ]
    },
    {
      "cell_type": "markdown",
      "source": [
        "### Solving Assinment_1 by Class Materials"
      ],
      "metadata": {
        "id": "jh9WfxYsqrjO"
      }
    },
    {
      "cell_type": "code",
      "execution_count": 67,
      "metadata": {
        "id": "5pWOLVZAr-Z7"
      },
      "outputs": [],
      "source": [
        "# import important libraries first\n",
        "import numpy as np \n",
        "import pandas as pd\n",
        "import sklearn"
      ]
    },
    {
      "cell_type": "code",
      "source": [
        "! wget https://raw.githubusercontent.com/sesillim/ai/main/Housing.csv"
      ],
      "metadata": {
        "colab": {
          "base_uri": "https://localhost:8080/"
        },
        "id": "oPh-WCqvJ6Yk",
        "outputId": "70857a55-475f-471e-ece3-ae6941906859"
      },
      "execution_count": 72,
      "outputs": [
        {
          "output_type": "stream",
          "name": "stdout",
          "text": [
            "--2022-05-11 13:57:11--  https://raw.githubusercontent.com/sesillim/ai/main/Housing.csv\n",
            "Resolving raw.githubusercontent.com (raw.githubusercontent.com)... 185.199.111.133, 185.199.108.133, 185.199.110.133, ...\n",
            "Connecting to raw.githubusercontent.com (raw.githubusercontent.com)|185.199.111.133|:443... connected.\n",
            "HTTP request sent, awaiting response... 200 OK\n",
            "Length: 35200 (34K) [text/plain]\n",
            "Saving to: ‘Housing.csv.1’\n",
            "\n",
            "\rHousing.csv.1         0%[                    ]       0  --.-KB/s               \rHousing.csv.1       100%[===================>]  34.38K  --.-KB/s    in 0.003s  \n",
            "\n",
            "2022-05-11 13:57:11 (9.96 MB/s) - ‘Housing.csv.1’ saved [35200/35200]\n",
            "\n"
          ]
        }
      ]
    },
    {
      "cell_type": "code",
      "source": [
        "data= pd.read_csv(\"Housing.csv\")"
      ],
      "metadata": {
        "id": "wMf9DO5aTXYL"
      },
      "execution_count": 80,
      "outputs": []
    },
    {
      "cell_type": "code",
      "source": [
        "data.describe() # or head()"
      ],
      "metadata": {
        "colab": {
          "base_uri": "https://localhost:8080/",
          "height": 300
        },
        "id": "ted1udieKb6q",
        "outputId": "d518c02c-be8a-4c53-8429-de40489a3c2d"
      },
      "execution_count": 137,
      "outputs": [
        {
          "output_type": "execute_result",
          "data": {
            "text/plain": [
              "             CRIM          ZN       INDUS        CHAS         NOX          RM  \\\n",
              "count  506.000000  506.000000  506.000000  506.000000  506.000000  506.000000   \n",
              "mean     3.613524   11.363636   11.136779    0.069170    0.554695    6.284634   \n",
              "std      8.601545   23.322453    6.860353    0.253994    0.115878    0.702617   \n",
              "min      0.006320    0.000000    0.460000    0.000000    0.385000    3.561000   \n",
              "25%      0.082045    0.000000    5.190000    0.000000    0.449000    5.885500   \n",
              "50%      0.256510    0.000000    9.690000    0.000000    0.538000    6.208500   \n",
              "75%      3.677083   12.500000   18.100000    0.000000    0.624000    6.623500   \n",
              "max     88.976200  100.000000   27.740000    1.000000    0.871000    8.780000   \n",
              "\n",
              "              AGE         DIS         RAD         TAS     PTRATIO           B  \\\n",
              "count  506.000000  506.000000  506.000000  506.000000  506.000000  506.000000   \n",
              "mean    68.574901    3.795043    9.549407  408.237154   18.455534  356.674032   \n",
              "std     28.148861    2.105710    8.707259  168.537116    2.164946   91.294864   \n",
              "min      2.900000    1.129600    1.000000  187.000000   12.600000    0.320000   \n",
              "25%     45.025000    2.100175    4.000000  279.000000   17.400000  375.377500   \n",
              "50%     77.500000    3.207450    5.000000  330.000000   19.050000  391.440000   \n",
              "75%     94.075000    5.188425   24.000000  666.000000   20.200000  396.225000   \n",
              "max    100.000000   12.126500   24.000000  711.000000   22.000000  396.900000   \n",
              "\n",
              "            LSTAT        MEDV  \n",
              "count  506.000000  506.000000  \n",
              "mean    12.653063   22.532806  \n",
              "std      7.141062    9.197104  \n",
              "min      1.730000    5.000000  \n",
              "25%      6.950000   17.025000  \n",
              "50%     11.360000   21.200000  \n",
              "75%     16.955000   25.000000  \n",
              "max     37.970000   50.000000  "
            ],
            "text/html": [
              "\n",
              "  <div id=\"df-7632e196-7413-4500-b5ed-3beee2cc542d\">\n",
              "    <div class=\"colab-df-container\">\n",
              "      <div>\n",
              "<style scoped>\n",
              "    .dataframe tbody tr th:only-of-type {\n",
              "        vertical-align: middle;\n",
              "    }\n",
              "\n",
              "    .dataframe tbody tr th {\n",
              "        vertical-align: top;\n",
              "    }\n",
              "\n",
              "    .dataframe thead th {\n",
              "        text-align: right;\n",
              "    }\n",
              "</style>\n",
              "<table border=\"1\" class=\"dataframe\">\n",
              "  <thead>\n",
              "    <tr style=\"text-align: right;\">\n",
              "      <th></th>\n",
              "      <th>CRIM</th>\n",
              "      <th>ZN</th>\n",
              "      <th>INDUS</th>\n",
              "      <th>CHAS</th>\n",
              "      <th>NOX</th>\n",
              "      <th>RM</th>\n",
              "      <th>AGE</th>\n",
              "      <th>DIS</th>\n",
              "      <th>RAD</th>\n",
              "      <th>TAS</th>\n",
              "      <th>PTRATIO</th>\n",
              "      <th>B</th>\n",
              "      <th>LSTAT</th>\n",
              "      <th>MEDV</th>\n",
              "    </tr>\n",
              "  </thead>\n",
              "  <tbody>\n",
              "    <tr>\n",
              "      <th>count</th>\n",
              "      <td>506.000000</td>\n",
              "      <td>506.000000</td>\n",
              "      <td>506.000000</td>\n",
              "      <td>506.000000</td>\n",
              "      <td>506.000000</td>\n",
              "      <td>506.000000</td>\n",
              "      <td>506.000000</td>\n",
              "      <td>506.000000</td>\n",
              "      <td>506.000000</td>\n",
              "      <td>506.000000</td>\n",
              "      <td>506.000000</td>\n",
              "      <td>506.000000</td>\n",
              "      <td>506.000000</td>\n",
              "      <td>506.000000</td>\n",
              "    </tr>\n",
              "    <tr>\n",
              "      <th>mean</th>\n",
              "      <td>3.613524</td>\n",
              "      <td>11.363636</td>\n",
              "      <td>11.136779</td>\n",
              "      <td>0.069170</td>\n",
              "      <td>0.554695</td>\n",
              "      <td>6.284634</td>\n",
              "      <td>68.574901</td>\n",
              "      <td>3.795043</td>\n",
              "      <td>9.549407</td>\n",
              "      <td>408.237154</td>\n",
              "      <td>18.455534</td>\n",
              "      <td>356.674032</td>\n",
              "      <td>12.653063</td>\n",
              "      <td>22.532806</td>\n",
              "    </tr>\n",
              "    <tr>\n",
              "      <th>std</th>\n",
              "      <td>8.601545</td>\n",
              "      <td>23.322453</td>\n",
              "      <td>6.860353</td>\n",
              "      <td>0.253994</td>\n",
              "      <td>0.115878</td>\n",
              "      <td>0.702617</td>\n",
              "      <td>28.148861</td>\n",
              "      <td>2.105710</td>\n",
              "      <td>8.707259</td>\n",
              "      <td>168.537116</td>\n",
              "      <td>2.164946</td>\n",
              "      <td>91.294864</td>\n",
              "      <td>7.141062</td>\n",
              "      <td>9.197104</td>\n",
              "    </tr>\n",
              "    <tr>\n",
              "      <th>min</th>\n",
              "      <td>0.006320</td>\n",
              "      <td>0.000000</td>\n",
              "      <td>0.460000</td>\n",
              "      <td>0.000000</td>\n",
              "      <td>0.385000</td>\n",
              "      <td>3.561000</td>\n",
              "      <td>2.900000</td>\n",
              "      <td>1.129600</td>\n",
              "      <td>1.000000</td>\n",
              "      <td>187.000000</td>\n",
              "      <td>12.600000</td>\n",
              "      <td>0.320000</td>\n",
              "      <td>1.730000</td>\n",
              "      <td>5.000000</td>\n",
              "    </tr>\n",
              "    <tr>\n",
              "      <th>25%</th>\n",
              "      <td>0.082045</td>\n",
              "      <td>0.000000</td>\n",
              "      <td>5.190000</td>\n",
              "      <td>0.000000</td>\n",
              "      <td>0.449000</td>\n",
              "      <td>5.885500</td>\n",
              "      <td>45.025000</td>\n",
              "      <td>2.100175</td>\n",
              "      <td>4.000000</td>\n",
              "      <td>279.000000</td>\n",
              "      <td>17.400000</td>\n",
              "      <td>375.377500</td>\n",
              "      <td>6.950000</td>\n",
              "      <td>17.025000</td>\n",
              "    </tr>\n",
              "    <tr>\n",
              "      <th>50%</th>\n",
              "      <td>0.256510</td>\n",
              "      <td>0.000000</td>\n",
              "      <td>9.690000</td>\n",
              "      <td>0.000000</td>\n",
              "      <td>0.538000</td>\n",
              "      <td>6.208500</td>\n",
              "      <td>77.500000</td>\n",
              "      <td>3.207450</td>\n",
              "      <td>5.000000</td>\n",
              "      <td>330.000000</td>\n",
              "      <td>19.050000</td>\n",
              "      <td>391.440000</td>\n",
              "      <td>11.360000</td>\n",
              "      <td>21.200000</td>\n",
              "    </tr>\n",
              "    <tr>\n",
              "      <th>75%</th>\n",
              "      <td>3.677083</td>\n",
              "      <td>12.500000</td>\n",
              "      <td>18.100000</td>\n",
              "      <td>0.000000</td>\n",
              "      <td>0.624000</td>\n",
              "      <td>6.623500</td>\n",
              "      <td>94.075000</td>\n",
              "      <td>5.188425</td>\n",
              "      <td>24.000000</td>\n",
              "      <td>666.000000</td>\n",
              "      <td>20.200000</td>\n",
              "      <td>396.225000</td>\n",
              "      <td>16.955000</td>\n",
              "      <td>25.000000</td>\n",
              "    </tr>\n",
              "    <tr>\n",
              "      <th>max</th>\n",
              "      <td>88.976200</td>\n",
              "      <td>100.000000</td>\n",
              "      <td>27.740000</td>\n",
              "      <td>1.000000</td>\n",
              "      <td>0.871000</td>\n",
              "      <td>8.780000</td>\n",
              "      <td>100.000000</td>\n",
              "      <td>12.126500</td>\n",
              "      <td>24.000000</td>\n",
              "      <td>711.000000</td>\n",
              "      <td>22.000000</td>\n",
              "      <td>396.900000</td>\n",
              "      <td>37.970000</td>\n",
              "      <td>50.000000</td>\n",
              "    </tr>\n",
              "  </tbody>\n",
              "</table>\n",
              "</div>\n",
              "      <button class=\"colab-df-convert\" onclick=\"convertToInteractive('df-7632e196-7413-4500-b5ed-3beee2cc542d')\"\n",
              "              title=\"Convert this dataframe to an interactive table.\"\n",
              "              style=\"display:none;\">\n",
              "        \n",
              "  <svg xmlns=\"http://www.w3.org/2000/svg\" height=\"24px\"viewBox=\"0 0 24 24\"\n",
              "       width=\"24px\">\n",
              "    <path d=\"M0 0h24v24H0V0z\" fill=\"none\"/>\n",
              "    <path d=\"M18.56 5.44l.94 2.06.94-2.06 2.06-.94-2.06-.94-.94-2.06-.94 2.06-2.06.94zm-11 1L8.5 8.5l.94-2.06 2.06-.94-2.06-.94L8.5 2.5l-.94 2.06-2.06.94zm10 10l.94 2.06.94-2.06 2.06-.94-2.06-.94-.94-2.06-.94 2.06-2.06.94z\"/><path d=\"M17.41 7.96l-1.37-1.37c-.4-.4-.92-.59-1.43-.59-.52 0-1.04.2-1.43.59L10.3 9.45l-7.72 7.72c-.78.78-.78 2.05 0 2.83L4 21.41c.39.39.9.59 1.41.59.51 0 1.02-.2 1.41-.59l7.78-7.78 2.81-2.81c.8-.78.8-2.07 0-2.86zM5.41 20L4 18.59l7.72-7.72 1.47 1.35L5.41 20z\"/>\n",
              "  </svg>\n",
              "      </button>\n",
              "      \n",
              "  <style>\n",
              "    .colab-df-container {\n",
              "      display:flex;\n",
              "      flex-wrap:wrap;\n",
              "      gap: 12px;\n",
              "    }\n",
              "\n",
              "    .colab-df-convert {\n",
              "      background-color: #E8F0FE;\n",
              "      border: none;\n",
              "      border-radius: 50%;\n",
              "      cursor: pointer;\n",
              "      display: none;\n",
              "      fill: #1967D2;\n",
              "      height: 32px;\n",
              "      padding: 0 0 0 0;\n",
              "      width: 32px;\n",
              "    }\n",
              "\n",
              "    .colab-df-convert:hover {\n",
              "      background-color: #E2EBFA;\n",
              "      box-shadow: 0px 1px 2px rgba(60, 64, 67, 0.3), 0px 1px 3px 1px rgba(60, 64, 67, 0.15);\n",
              "      fill: #174EA6;\n",
              "    }\n",
              "\n",
              "    [theme=dark] .colab-df-convert {\n",
              "      background-color: #3B4455;\n",
              "      fill: #D2E3FC;\n",
              "    }\n",
              "\n",
              "    [theme=dark] .colab-df-convert:hover {\n",
              "      background-color: #434B5C;\n",
              "      box-shadow: 0px 1px 3px 1px rgba(0, 0, 0, 0.15);\n",
              "      filter: drop-shadow(0px 1px 2px rgba(0, 0, 0, 0.3));\n",
              "      fill: #FFFFFF;\n",
              "    }\n",
              "  </style>\n",
              "\n",
              "      <script>\n",
              "        const buttonEl =\n",
              "          document.querySelector('#df-7632e196-7413-4500-b5ed-3beee2cc542d button.colab-df-convert');\n",
              "        buttonEl.style.display =\n",
              "          google.colab.kernel.accessAllowed ? 'block' : 'none';\n",
              "\n",
              "        async function convertToInteractive(key) {\n",
              "          const element = document.querySelector('#df-7632e196-7413-4500-b5ed-3beee2cc542d');\n",
              "          const dataTable =\n",
              "            await google.colab.kernel.invokeFunction('convertToInteractive',\n",
              "                                                     [key], {});\n",
              "          if (!dataTable) return;\n",
              "\n",
              "          const docLinkHtml = 'Like what you see? Visit the ' +\n",
              "            '<a target=\"_blank\" href=https://colab.research.google.com/notebooks/data_table.ipynb>data table notebook</a>'\n",
              "            + ' to learn more about interactive tables.';\n",
              "          element.innerHTML = '';\n",
              "          dataTable['output_type'] = 'display_data';\n",
              "          await google.colab.output.renderOutput(dataTable, element);\n",
              "          const docLink = document.createElement('div');\n",
              "          docLink.innerHTML = docLinkHtml;\n",
              "          element.appendChild(docLink);\n",
              "        }\n",
              "      </script>\n",
              "    </div>\n",
              "  </div>\n",
              "  "
            ]
          },
          "metadata": {},
          "execution_count": 137
        }
      ]
    },
    {
      "cell_type": "code",
      "source": [
        "data.shape # original shape of the dataset"
      ],
      "metadata": {
        "colab": {
          "base_uri": "https://localhost:8080/"
        },
        "id": "0zOoRAU5oWlp",
        "outputId": "b00cbc7b-1032-492b-d36d-4702fd93c921"
      },
      "execution_count": 136,
      "outputs": [
        {
          "output_type": "execute_result",
          "data": {
            "text/plain": [
              "(506, 14)"
            ]
          },
          "metadata": {},
          "execution_count": 136
        }
      ]
    },
    {
      "cell_type": "code",
      "source": [
        "data"
      ],
      "metadata": {
        "colab": {
          "base_uri": "https://localhost:8080/",
          "height": 424
        },
        "id": "jHD-o5S3Kdv8",
        "outputId": "b3b60ab1-335a-406b-ca93-e8bb489fdce3"
      },
      "execution_count": 84,
      "outputs": [
        {
          "output_type": "execute_result",
          "data": {
            "text/plain": [
              "        CRIM    ZN  INDUS  CHAS    NOX     RM   AGE     DIS  RAD  TAS  \\\n",
              "0    0.00632  18.0   2.31     0  0.538  6.575  65.2  4.0900    1  296   \n",
              "1    0.02731   0.0   7.07     0  0.469  6.421  78.9  4.9671    2  242   \n",
              "2    0.02729   0.0   7.07     0  0.469  7.185  61.1  4.9671    2  242   \n",
              "3    0.03237   0.0   2.18     0  0.458  6.998  45.8  6.0622    3  222   \n",
              "4    0.06905   0.0   2.18     0  0.458  7.147  54.2  6.0622    3  222   \n",
              "..       ...   ...    ...   ...    ...    ...   ...     ...  ...  ...   \n",
              "501  0.06263   0.0  11.93     0  0.573  6.593  69.1  2.4786    1  273   \n",
              "502  0.04527   0.0  11.93     0  0.573  6.120  76.7  2.2875    1  273   \n",
              "503  0.06076   0.0  11.93     0  0.573  6.976  91.0  2.1675    1  273   \n",
              "504  0.10959   0.0  11.93     0  0.573  6.794  89.3  2.3889    1  273   \n",
              "505  0.04741   0.0  11.93     0  0.573  6.030  80.8  2.5050    1  273   \n",
              "\n",
              "     PTRATIO       B  LSTAT  MEDV  \n",
              "0       15.3  396.90   4.98  24.0  \n",
              "1       17.8  396.90   9.14  21.6  \n",
              "2       17.8  392.83   4.03  34.7  \n",
              "3       18.7  394.63   2.94  33.4  \n",
              "4       18.7  396.90   5.33  36.2  \n",
              "..       ...     ...    ...   ...  \n",
              "501     21.0  391.99   9.67  22.4  \n",
              "502     21.0  396.90   9.08  20.6  \n",
              "503     21.0  396.90   5.64  23.9  \n",
              "504     21.0  393.45   6.48  22.0  \n",
              "505     21.0  396.90   7.88  11.9  \n",
              "\n",
              "[506 rows x 14 columns]"
            ],
            "text/html": [
              "\n",
              "  <div id=\"df-25688d13-5b80-46c0-aaa6-2decf6a6b5eb\">\n",
              "    <div class=\"colab-df-container\">\n",
              "      <div>\n",
              "<style scoped>\n",
              "    .dataframe tbody tr th:only-of-type {\n",
              "        vertical-align: middle;\n",
              "    }\n",
              "\n",
              "    .dataframe tbody tr th {\n",
              "        vertical-align: top;\n",
              "    }\n",
              "\n",
              "    .dataframe thead th {\n",
              "        text-align: right;\n",
              "    }\n",
              "</style>\n",
              "<table border=\"1\" class=\"dataframe\">\n",
              "  <thead>\n",
              "    <tr style=\"text-align: right;\">\n",
              "      <th></th>\n",
              "      <th>CRIM</th>\n",
              "      <th>ZN</th>\n",
              "      <th>INDUS</th>\n",
              "      <th>CHAS</th>\n",
              "      <th>NOX</th>\n",
              "      <th>RM</th>\n",
              "      <th>AGE</th>\n",
              "      <th>DIS</th>\n",
              "      <th>RAD</th>\n",
              "      <th>TAS</th>\n",
              "      <th>PTRATIO</th>\n",
              "      <th>B</th>\n",
              "      <th>LSTAT</th>\n",
              "      <th>MEDV</th>\n",
              "    </tr>\n",
              "  </thead>\n",
              "  <tbody>\n",
              "    <tr>\n",
              "      <th>0</th>\n",
              "      <td>0.00632</td>\n",
              "      <td>18.0</td>\n",
              "      <td>2.31</td>\n",
              "      <td>0</td>\n",
              "      <td>0.538</td>\n",
              "      <td>6.575</td>\n",
              "      <td>65.2</td>\n",
              "      <td>4.0900</td>\n",
              "      <td>1</td>\n",
              "      <td>296</td>\n",
              "      <td>15.3</td>\n",
              "      <td>396.90</td>\n",
              "      <td>4.98</td>\n",
              "      <td>24.0</td>\n",
              "    </tr>\n",
              "    <tr>\n",
              "      <th>1</th>\n",
              "      <td>0.02731</td>\n",
              "      <td>0.0</td>\n",
              "      <td>7.07</td>\n",
              "      <td>0</td>\n",
              "      <td>0.469</td>\n",
              "      <td>6.421</td>\n",
              "      <td>78.9</td>\n",
              "      <td>4.9671</td>\n",
              "      <td>2</td>\n",
              "      <td>242</td>\n",
              "      <td>17.8</td>\n",
              "      <td>396.90</td>\n",
              "      <td>9.14</td>\n",
              "      <td>21.6</td>\n",
              "    </tr>\n",
              "    <tr>\n",
              "      <th>2</th>\n",
              "      <td>0.02729</td>\n",
              "      <td>0.0</td>\n",
              "      <td>7.07</td>\n",
              "      <td>0</td>\n",
              "      <td>0.469</td>\n",
              "      <td>7.185</td>\n",
              "      <td>61.1</td>\n",
              "      <td>4.9671</td>\n",
              "      <td>2</td>\n",
              "      <td>242</td>\n",
              "      <td>17.8</td>\n",
              "      <td>392.83</td>\n",
              "      <td>4.03</td>\n",
              "      <td>34.7</td>\n",
              "    </tr>\n",
              "    <tr>\n",
              "      <th>3</th>\n",
              "      <td>0.03237</td>\n",
              "      <td>0.0</td>\n",
              "      <td>2.18</td>\n",
              "      <td>0</td>\n",
              "      <td>0.458</td>\n",
              "      <td>6.998</td>\n",
              "      <td>45.8</td>\n",
              "      <td>6.0622</td>\n",
              "      <td>3</td>\n",
              "      <td>222</td>\n",
              "      <td>18.7</td>\n",
              "      <td>394.63</td>\n",
              "      <td>2.94</td>\n",
              "      <td>33.4</td>\n",
              "    </tr>\n",
              "    <tr>\n",
              "      <th>4</th>\n",
              "      <td>0.06905</td>\n",
              "      <td>0.0</td>\n",
              "      <td>2.18</td>\n",
              "      <td>0</td>\n",
              "      <td>0.458</td>\n",
              "      <td>7.147</td>\n",
              "      <td>54.2</td>\n",
              "      <td>6.0622</td>\n",
              "      <td>3</td>\n",
              "      <td>222</td>\n",
              "      <td>18.7</td>\n",
              "      <td>396.90</td>\n",
              "      <td>5.33</td>\n",
              "      <td>36.2</td>\n",
              "    </tr>\n",
              "    <tr>\n",
              "      <th>...</th>\n",
              "      <td>...</td>\n",
              "      <td>...</td>\n",
              "      <td>...</td>\n",
              "      <td>...</td>\n",
              "      <td>...</td>\n",
              "      <td>...</td>\n",
              "      <td>...</td>\n",
              "      <td>...</td>\n",
              "      <td>...</td>\n",
              "      <td>...</td>\n",
              "      <td>...</td>\n",
              "      <td>...</td>\n",
              "      <td>...</td>\n",
              "      <td>...</td>\n",
              "    </tr>\n",
              "    <tr>\n",
              "      <th>501</th>\n",
              "      <td>0.06263</td>\n",
              "      <td>0.0</td>\n",
              "      <td>11.93</td>\n",
              "      <td>0</td>\n",
              "      <td>0.573</td>\n",
              "      <td>6.593</td>\n",
              "      <td>69.1</td>\n",
              "      <td>2.4786</td>\n",
              "      <td>1</td>\n",
              "      <td>273</td>\n",
              "      <td>21.0</td>\n",
              "      <td>391.99</td>\n",
              "      <td>9.67</td>\n",
              "      <td>22.4</td>\n",
              "    </tr>\n",
              "    <tr>\n",
              "      <th>502</th>\n",
              "      <td>0.04527</td>\n",
              "      <td>0.0</td>\n",
              "      <td>11.93</td>\n",
              "      <td>0</td>\n",
              "      <td>0.573</td>\n",
              "      <td>6.120</td>\n",
              "      <td>76.7</td>\n",
              "      <td>2.2875</td>\n",
              "      <td>1</td>\n",
              "      <td>273</td>\n",
              "      <td>21.0</td>\n",
              "      <td>396.90</td>\n",
              "      <td>9.08</td>\n",
              "      <td>20.6</td>\n",
              "    </tr>\n",
              "    <tr>\n",
              "      <th>503</th>\n",
              "      <td>0.06076</td>\n",
              "      <td>0.0</td>\n",
              "      <td>11.93</td>\n",
              "      <td>0</td>\n",
              "      <td>0.573</td>\n",
              "      <td>6.976</td>\n",
              "      <td>91.0</td>\n",
              "      <td>2.1675</td>\n",
              "      <td>1</td>\n",
              "      <td>273</td>\n",
              "      <td>21.0</td>\n",
              "      <td>396.90</td>\n",
              "      <td>5.64</td>\n",
              "      <td>23.9</td>\n",
              "    </tr>\n",
              "    <tr>\n",
              "      <th>504</th>\n",
              "      <td>0.10959</td>\n",
              "      <td>0.0</td>\n",
              "      <td>11.93</td>\n",
              "      <td>0</td>\n",
              "      <td>0.573</td>\n",
              "      <td>6.794</td>\n",
              "      <td>89.3</td>\n",
              "      <td>2.3889</td>\n",
              "      <td>1</td>\n",
              "      <td>273</td>\n",
              "      <td>21.0</td>\n",
              "      <td>393.45</td>\n",
              "      <td>6.48</td>\n",
              "      <td>22.0</td>\n",
              "    </tr>\n",
              "    <tr>\n",
              "      <th>505</th>\n",
              "      <td>0.04741</td>\n",
              "      <td>0.0</td>\n",
              "      <td>11.93</td>\n",
              "      <td>0</td>\n",
              "      <td>0.573</td>\n",
              "      <td>6.030</td>\n",
              "      <td>80.8</td>\n",
              "      <td>2.5050</td>\n",
              "      <td>1</td>\n",
              "      <td>273</td>\n",
              "      <td>21.0</td>\n",
              "      <td>396.90</td>\n",
              "      <td>7.88</td>\n",
              "      <td>11.9</td>\n",
              "    </tr>\n",
              "  </tbody>\n",
              "</table>\n",
              "<p>506 rows × 14 columns</p>\n",
              "</div>\n",
              "      <button class=\"colab-df-convert\" onclick=\"convertToInteractive('df-25688d13-5b80-46c0-aaa6-2decf6a6b5eb')\"\n",
              "              title=\"Convert this dataframe to an interactive table.\"\n",
              "              style=\"display:none;\">\n",
              "        \n",
              "  <svg xmlns=\"http://www.w3.org/2000/svg\" height=\"24px\"viewBox=\"0 0 24 24\"\n",
              "       width=\"24px\">\n",
              "    <path d=\"M0 0h24v24H0V0z\" fill=\"none\"/>\n",
              "    <path d=\"M18.56 5.44l.94 2.06.94-2.06 2.06-.94-2.06-.94-.94-2.06-.94 2.06-2.06.94zm-11 1L8.5 8.5l.94-2.06 2.06-.94-2.06-.94L8.5 2.5l-.94 2.06-2.06.94zm10 10l.94 2.06.94-2.06 2.06-.94-2.06-.94-.94-2.06-.94 2.06-2.06.94z\"/><path d=\"M17.41 7.96l-1.37-1.37c-.4-.4-.92-.59-1.43-.59-.52 0-1.04.2-1.43.59L10.3 9.45l-7.72 7.72c-.78.78-.78 2.05 0 2.83L4 21.41c.39.39.9.59 1.41.59.51 0 1.02-.2 1.41-.59l7.78-7.78 2.81-2.81c.8-.78.8-2.07 0-2.86zM5.41 20L4 18.59l7.72-7.72 1.47 1.35L5.41 20z\"/>\n",
              "  </svg>\n",
              "      </button>\n",
              "      \n",
              "  <style>\n",
              "    .colab-df-container {\n",
              "      display:flex;\n",
              "      flex-wrap:wrap;\n",
              "      gap: 12px;\n",
              "    }\n",
              "\n",
              "    .colab-df-convert {\n",
              "      background-color: #E8F0FE;\n",
              "      border: none;\n",
              "      border-radius: 50%;\n",
              "      cursor: pointer;\n",
              "      display: none;\n",
              "      fill: #1967D2;\n",
              "      height: 32px;\n",
              "      padding: 0 0 0 0;\n",
              "      width: 32px;\n",
              "    }\n",
              "\n",
              "    .colab-df-convert:hover {\n",
              "      background-color: #E2EBFA;\n",
              "      box-shadow: 0px 1px 2px rgba(60, 64, 67, 0.3), 0px 1px 3px 1px rgba(60, 64, 67, 0.15);\n",
              "      fill: #174EA6;\n",
              "    }\n",
              "\n",
              "    [theme=dark] .colab-df-convert {\n",
              "      background-color: #3B4455;\n",
              "      fill: #D2E3FC;\n",
              "    }\n",
              "\n",
              "    [theme=dark] .colab-df-convert:hover {\n",
              "      background-color: #434B5C;\n",
              "      box-shadow: 0px 1px 3px 1px rgba(0, 0, 0, 0.15);\n",
              "      filter: drop-shadow(0px 1px 2px rgba(0, 0, 0, 0.3));\n",
              "      fill: #FFFFFF;\n",
              "    }\n",
              "  </style>\n",
              "\n",
              "      <script>\n",
              "        const buttonEl =\n",
              "          document.querySelector('#df-25688d13-5b80-46c0-aaa6-2decf6a6b5eb button.colab-df-convert');\n",
              "        buttonEl.style.display =\n",
              "          google.colab.kernel.accessAllowed ? 'block' : 'none';\n",
              "\n",
              "        async function convertToInteractive(key) {\n",
              "          const element = document.querySelector('#df-25688d13-5b80-46c0-aaa6-2decf6a6b5eb');\n",
              "          const dataTable =\n",
              "            await google.colab.kernel.invokeFunction('convertToInteractive',\n",
              "                                                     [key], {});\n",
              "          if (!dataTable) return;\n",
              "\n",
              "          const docLinkHtml = 'Like what you see? Visit the ' +\n",
              "            '<a target=\"_blank\" href=https://colab.research.google.com/notebooks/data_table.ipynb>data table notebook</a>'\n",
              "            + ' to learn more about interactive tables.';\n",
              "          element.innerHTML = '';\n",
              "          dataTable['output_type'] = 'display_data';\n",
              "          await google.colab.output.renderOutput(dataTable, element);\n",
              "          const docLink = document.createElement('div');\n",
              "          docLink.innerHTML = docLinkHtml;\n",
              "          element.appendChild(docLink);\n",
              "        }\n",
              "      </script>\n",
              "    </div>\n",
              "  </div>\n",
              "  "
            ]
          },
          "metadata": {},
          "execution_count": 84
        }
      ]
    },
    {
      "cell_type": "code",
      "source": [
        "X = data.drop(['MEDV'], axis='columns') # we can "
      ],
      "metadata": {
        "id": "sfPwJVILMm--"
      },
      "execution_count": 88,
      "outputs": []
    },
    {
      "cell_type": "code",
      "source": [
        "X.shape # Shape of the dataset to train "
      ],
      "metadata": {
        "colab": {
          "base_uri": "https://localhost:8080/"
        },
        "id": "Xua87j_jORyH",
        "outputId": "252f4a57-b027-4cbb-d2f9-e471679f0dda"
      },
      "execution_count": 89,
      "outputs": [
        {
          "output_type": "execute_result",
          "data": {
            "text/plain": [
              "(506, 13)"
            ]
          },
          "metadata": {},
          "execution_count": 89
        }
      ]
    },
    {
      "cell_type": "code",
      "source": [
        "y = data['MEDV']  # we are assinging MEDV column as a target"
      ],
      "metadata": {
        "id": "ckknLE4obXSX"
      },
      "execution_count": 99,
      "outputs": []
    },
    {
      "cell_type": "code",
      "source": [
        "y.shape  # target dimention"
      ],
      "metadata": {
        "colab": {
          "base_uri": "https://localhost:8080/"
        },
        "id": "efepz3lNbhoN",
        "outputId": "aa6433d5-1ff9-42bf-e53d-c9095cc83e43"
      },
      "execution_count": 100,
      "outputs": [
        {
          "output_type": "execute_result",
          "data": {
            "text/plain": [
              "(506,)"
            ]
          },
          "metadata": {},
          "execution_count": 100
        }
      ]
    },
    {
      "cell_type": "code",
      "source": [
        "from sklearn.model_selection import train_test_split\n",
        "X_train, X_test, y_train, y_test = train_test_split(X, y, test_size=0.2, random_state=0)"
      ],
      "metadata": {
        "id": "mBLfzWT1bj81"
      },
      "execution_count": 102,
      "outputs": []
    },
    {
      "cell_type": "code",
      "source": [
        "from sklearn.linear_model import LinearRegression\n",
        "lr = LinearRegression()\n",
        "lr.fit(X_train, y_train)"
      ],
      "metadata": {
        "colab": {
          "base_uri": "https://localhost:8080/"
        },
        "id": "_CKvBYVKb1_-",
        "outputId": "e8ac0153-f77c-42ba-f9b4-cfc71a87c409"
      },
      "execution_count": 103,
      "outputs": [
        {
          "output_type": "execute_result",
          "data": {
            "text/plain": [
              "LinearRegression()"
            ]
          },
          "metadata": {},
          "execution_count": 103
        }
      ]
    },
    {
      "cell_type": "code",
      "source": [
        "df = pd.DataFrame(lr.coef_, X.columns, columns=['Coefficient'])\n",
        "print(\"A linear regression with non-scaled data:\")\n",
        "print(df)\n",
        "print(\"R-squared for a training set:\", lr.score(X_train, y_train))\n",
        "print(\"R-squared for a test set:\", lr.score(X_test, y_test))\n",
        "y_pred = lr.predict(X_test)\n",
        "from sklearn import metrics\n",
        "print(\"MAE:\", metrics.mean_absolute_error(y_test, y_pred))\n",
        "print(\"MSE:\", metrics.mean_squared_error(y_test, y_pred))\n",
        "print(\"RMSE:\", np.sqrt(metrics.mean_squared_error(y_test, y_pred)))"
      ],
      "metadata": {
        "colab": {
          "base_uri": "https://localhost:8080/"
        },
        "id": "tJGKDnkOcGSG",
        "outputId": "8cf0f587-1ee1-4dae-ff0d-efead1c26dfb"
      },
      "execution_count": 105,
      "outputs": [
        {
          "output_type": "stream",
          "name": "stdout",
          "text": [
            "A linear regression with non-scaled data:\n",
            "         Coefficient\n",
            "CRIM       -0.119443\n",
            "ZN          0.044780\n",
            "INDUS       0.005485\n",
            "CHAS        2.340804\n",
            "NOX       -16.123604\n",
            "RM          3.708709\n",
            "AGE        -0.003121\n",
            "DIS        -1.386397\n",
            "RAD         0.244178\n",
            "TAS        -0.010990\n",
            "PTRATIO    -1.045921\n",
            "B           0.008110\n",
            "LSTAT      -0.492793\n",
            "R-squared for a training set: 0.7730135569264233\n",
            "R-squared for a test set: 0.5892223849182526\n",
            "MAE: 3.8429092204444997\n",
            "MSE: 33.44897999767638\n",
            "RMSE: 5.783509315085122\n"
          ]
        }
      ]
    },
    {
      "cell_type": "markdown",
      "source": [
        "# L2 Regularization"
      ],
      "metadata": {
        "id": "oABhdHtJrZoG"
      }
    },
    {
      "cell_type": "code",
      "source": [
        "from sklearn.linear_model import Ridge\n",
        "ridge10 = Ridge(alpha=10).fit(X_train, y_train)"
      ],
      "metadata": {
        "id": "6ztuq-abd2PJ"
      },
      "execution_count": 106,
      "outputs": []
    },
    {
      "cell_type": "code",
      "source": [
        "df_ridge10 = pd.DataFrame(ridge10.coef_, X.columns, columns=['Coefficient'])\n",
        "print(\"A ridge regression with lamda 10 and non-scaled data:\")\n",
        "print(df_ridge10)\n",
        "print(\"R-squared for a training set:\", ridge10.score(X_train, y_train))\n",
        "print(\"R-squared for a test set:\", ridge10.score(X_test, y_test))\n",
        "y_pred = ridge10.predict(X_test)\n",
        "from sklearn import metrics\n",
        "print(\"MAE:\", metrics.mean_absolute_error(y_test, y_pred))\n",
        "print(\"MSE:\", metrics.mean_squared_error(y_test, y_pred))\n",
        "print(\"RMSE:\", np.sqrt(metrics.mean_squared_error(y_test, y_pred)))"
      ],
      "metadata": {
        "colab": {
          "base_uri": "https://localhost:8080/"
        },
        "id": "UlbcPOkufNH3",
        "outputId": "345a5e6e-2c5b-4841-d60e-0fd5ee7ceb81"
      },
      "execution_count": 107,
      "outputs": [
        {
          "output_type": "stream",
          "name": "stdout",
          "text": [
            "A ridge regression with lamda 10 and non-scaled data:\n",
            "         Coefficient\n",
            "CRIM       -0.114458\n",
            "ZN          0.048615\n",
            "INDUS      -0.050535\n",
            "CHAS        1.733423\n",
            "NOX        -1.650361\n",
            "RM          3.533532\n",
            "AGE        -0.014881\n",
            "DIS        -1.188341\n",
            "RAD         0.212130\n",
            "TAS        -0.012475\n",
            "PTRATIO    -0.913232\n",
            "B           0.008843\n",
            "LSTAT      -0.523412\n",
            "R-squared for a training set: 0.7654833147221556\n",
            "R-squared for a test set: 0.5637257357223819\n",
            "MAE: 3.9178419900831303\n",
            "MSE: 35.52513234300496\n",
            "RMSE: 5.9602963301336755\n"
          ]
        }
      ]
    },
    {
      "cell_type": "markdown",
      "source": [
        "Scaling the dataset to improve the accuracy:"
      ],
      "metadata": {
        "id": "AhCdk-qKrw7O"
      }
    },
    {
      "cell_type": "code",
      "source": [
        "from sklearn.preprocessing import MinMaxScaler\n",
        "scaler = MinMaxScaler()\n",
        "\n",
        "scaler.fit(X_train)\n",
        "X_train_scaled = scaler.transform(X_train)\n",
        "X_test_scaled = scaler.transform(X_test)"
      ],
      "metadata": {
        "id": "v-6f8dQqft48"
      },
      "execution_count": 108,
      "outputs": []
    },
    {
      "cell_type": "code",
      "source": [
        "from sklearn.preprocessing import StandardScaler\n",
        "scaler = StandardScaler()\n",
        "scaler.fit(X_train)\n",
        "X_train_scaled = scaler.transform(X_train)\n",
        "X_test_scaled = scaler.transform(X_test)\n"
      ],
      "metadata": {
        "id": "ucLwusU1gQoQ"
      },
      "execution_count": 109,
      "outputs": []
    },
    {
      "cell_type": "markdown",
      "source": [
        "LINEAR REGRESSION"
      ],
      "metadata": {
        "id": "RElQqmYSsImu"
      }
    },
    {
      "cell_type": "code",
      "source": [
        "# This is linear regression with scaling \n",
        "lr_scale = LinearRegression()\n",
        "lr_scale.fit(X_train_scaled, y_train)\n",
        "LinearRegression()\n",
        "df_scaled = pd.DataFrame(lr_scale.coef_, X.columns, columns=['Coefficient'])\n",
        "print(\"A linear regression with scaled data:\")\n",
        "print(df_scaled)\n",
        "print(\"R-squared for a training set:\", lr_scale.score(X_train_scaled, y_train))\n",
        "print(\"R-squared for a test set:\", lr_scale.score(X_test_scaled, y_test))\n",
        "y_pred = lr_scale.predict(X_test_scaled)\n",
        "from sklearn import metrics\n",
        "print(\"MAE:\", metrics.mean_absolute_error(y_test, y_pred))\n",
        "print(\"MSE:\", metrics.mean_squared_error(y_test, y_pred))\n",
        "print(\"RMSE:\", np.sqrt(metrics.mean_squared_error(y_test, y_pred)))"
      ],
      "metadata": {
        "colab": {
          "base_uri": "https://localhost:8080/"
        },
        "id": "V3wDuoabgyc7",
        "outputId": "fc4be5a5-b8bf-4e95-b43b-92a3e560e28f"
      },
      "execution_count": 111,
      "outputs": [
        {
          "output_type": "stream",
          "name": "stdout",
          "text": [
            "A linear regression with scaled data:\n",
            "         Coefficient\n",
            "CRIM       -0.970820\n",
            "ZN          1.057149\n",
            "INDUS       0.038311\n",
            "CHAS        0.594506\n",
            "NOX        -1.855148\n",
            "RM          2.573219\n",
            "AGE        -0.087615\n",
            "DIS        -2.880943\n",
            "RAD         2.112245\n",
            "TAS        -1.875331\n",
            "PTRATIO    -2.292767\n",
            "B           0.718179\n",
            "LSTAT      -3.592455\n",
            "R-squared for a training set: 0.7730135569264234\n",
            "R-squared for a test set: 0.589222384918251\n",
            "MAE: 3.8429092204444952\n",
            "MSE: 33.44897999767652\n",
            "RMSE: 5.783509315085134\n"
          ]
        }
      ]
    },
    {
      "cell_type": "code",
      "source": [
        "# This is ridge regression with scaling \n",
        "from sklearn.linear_model import Ridge\n",
        "ridge10_scale = Ridge(alpha=10).fit(X_train_scaled, y_train)\n",
        "\n",
        "df_ridge10_scale = pd.DataFrame(ridge10_scale.coef_, X.columns, columns=['Coefficient'])\n",
        "print(\"A ridge regression with lamda 10 and scaled data:\")\n",
        "print(df_ridge10_scale)\n",
        "print(\"R-squared for a training set:\", ridge10_scale.score(X_train_scaled, y_train))\n",
        "print(\"R-squared for a test set:\", ridge10_scale.score(X_test_scaled, y_test))\n",
        "y_pred = ridge10_scale.predict(X_test_scaled)\n",
        "from sklearn import metrics\n",
        "print(\"MAE:\", metrics.mean_absolute_error(y_test, y_pred))\n",
        "print(\"MSE:\", metrics.mean_squared_error(y_test, y_pred))\n",
        "print(\"RMSE:\", np.sqrt(metrics.mean_squared_error(y_test, y_pred)))"
      ],
      "metadata": {
        "colab": {
          "base_uri": "https://localhost:8080/"
        },
        "id": "29fyg-k4h5oJ",
        "outputId": "b6441532-b008-4e53-a89d-dc3f03005012"
      },
      "execution_count": 121,
      "outputs": [
        {
          "output_type": "stream",
          "name": "stdout",
          "text": [
            "A ridge regression with lamda 10 and scaled data:\n",
            "         Coefficient\n",
            "CRIM       -0.901965\n",
            "ZN          0.926287\n",
            "INDUS      -0.157051\n",
            "CHAS        0.625918\n",
            "NOX        -1.560302\n",
            "RM          2.653906\n",
            "AGE        -0.146581\n",
            "DIS        -2.588020\n",
            "RAD         1.533846\n",
            "TAS        -1.370452\n",
            "PTRATIO    -2.209979\n",
            "B           0.719940\n",
            "LSTAT      -3.444268\n",
            "R-squared for a training set: 0.7720252703788119\n",
            "R-squared for a test set: 0.5791628807875255\n",
            "MAE: 3.8551745247030866\n",
            "MSE: 34.26810971677822\n",
            "RMSE: 5.853896968411575\n"
          ]
        }
      ]
    },
    {
      "cell_type": "code",
      "source": [
        "# This is ridge regression with scale (hyperparameters alpha = 0.001)\n",
        "from sklearn.linear_model import Ridge\n",
        "ridge10_scale = Ridge(alpha=0.001).fit(X_train_scaled, y_train)\n",
        "\n",
        "df_ridge10_scale = pd.DataFrame(ridge10_scale.coef_, X.columns, columns=['Coefficient'])\n",
        "print(\"A ridge regression with lamda 10 and scaled data:\")\n",
        "print(df_ridge10_scale)\n",
        "print(\"R-squared for a training set:\", ridge10_scale.score(X_train_scaled, y_train))\n",
        "print(\"R-squared for a test set:\", ridge10_scale.score(X_test_scaled, y_test))\n",
        "y_pred = ridge10_scale.predict(X_test_scaled)\n",
        "from sklearn import metrics\n",
        "print(\"MAE:\", metrics.mean_absolute_error(y_test, y_pred))\n",
        "print(\"MSE:\", metrics.mean_squared_error(y_test, y_pred))\n",
        "print(\"RMSE:\", np.sqrt(metrics.mean_squared_error(y_test, y_pred)))"
      ],
      "metadata": {
        "colab": {
          "base_uri": "https://localhost:8080/"
        },
        "id": "VWc6_-F_x2eE",
        "outputId": "65d14fad-a7b0-4a34-d7f4-dc4952049423"
      },
      "execution_count": 160,
      "outputs": [
        {
          "output_type": "stream",
          "name": "stdout",
          "text": [
            "A ridge regression with lamda 10 and scaled data:\n",
            "         Coefficient\n",
            "CRIM       -0.970811\n",
            "ZN          1.057132\n",
            "INDUS       0.038283\n",
            "CHAS        0.594511\n",
            "NOX        -1.855112\n",
            "RM          2.573230\n",
            "AGE        -0.087623\n",
            "DIS        -2.880909\n",
            "RAD         2.112167\n",
            "TAS        -1.875259\n",
            "PTRATIO    -2.292758\n",
            "B           0.718180\n",
            "LSTAT      -3.592438\n",
            "R-squared for a training set: 0.7730135569106857\n",
            "R-squared for a test set: 0.589221294505559\n",
            "MAE: 3.8429111882798628\n",
            "MSE: 33.449068788279945\n",
            "RMSE: 5.783516991267506\n"
          ]
        }
      ]
    },
    {
      "cell_type": "code",
      "source": [
        "# This is ridge regression with scale (hyperparameters alpha = 0.01)\n",
        "from sklearn.linear_model import Ridge\n",
        "ridge10_scale = Ridge(alpha=0.01).fit(X_train_scaled, y_train)\n",
        "\n",
        "df_ridge10_scale = pd.DataFrame(ridge10_scale.coef_, X.columns, columns=['Coefficient'])\n",
        "print(\"A ridge regression with lamda 10 and scaled data:\")\n",
        "print(df_ridge10_scale)\n",
        "print(\"R-squared for a training set:\", ridge10_scale.score(X_train_scaled, y_train))\n",
        "print(\"R-squared for a test set:\", ridge10_scale.score(X_test_scaled, y_test))\n",
        "y_pred = ridge10_scale.predict(X_test_scaled)\n",
        "from sklearn import metrics\n",
        "print(\"MAE:\", metrics.mean_absolute_error(y_test, y_pred))\n",
        "print(\"MSE:\", metrics.mean_squared_error(y_test, y_pred))\n",
        "print(\"RMSE:\", np.sqrt(metrics.mean_squared_error(y_test, y_pred)))"
      ],
      "metadata": {
        "colab": {
          "base_uri": "https://localhost:8080/"
        },
        "id": "plnrFibSxfUX",
        "outputId": "8c9b3326-b866-428f-d583-97901ea20458"
      },
      "execution_count": 159,
      "outputs": [
        {
          "output_type": "stream",
          "name": "stdout",
          "text": [
            "A ridge regression with lamda 10 and scaled data:\n",
            "         Coefficient\n",
            "CRIM       -0.970732\n",
            "ZN          1.056981\n",
            "INDUS       0.038034\n",
            "CHAS        0.594550\n",
            "NOX        -1.854790\n",
            "RM          2.573329\n",
            "AGE        -0.087694\n",
            "DIS        -2.880612\n",
            "RAD         2.111458\n",
            "TAS        -1.874610\n",
            "PTRATIO    -2.292670\n",
            "B           0.718181\n",
            "LSTAT      -3.592289\n",
            "R-squared for a training set: 0.7730135553534744\n",
            "R-squared for a test set: 0.5892114815046758\n",
            "MAE: 3.8429288870967704\n",
            "MSE: 33.44986784562439\n",
            "RMSE: 5.783586071428728\n"
          ]
        }
      ]
    },
    {
      "cell_type": "code",
      "source": [
        "# This is ridge regression with scale (hyperparameters alpha = 0.1)\n",
        "from sklearn.linear_model import Ridge\n",
        "ridge10_scale = Ridge(alpha=0.1).fit(X_train_scaled, y_train)\n",
        "\n",
        "df_ridge10_scale = pd.DataFrame(ridge10_scale.coef_, X.columns, columns=['Coefficient'])\n",
        "print(\"A ridge regression with lamda 10 and scaled data:\")\n",
        "print(df_ridge10_scale)\n",
        "print(\"R-squared for a training set:\", ridge10_scale.score(X_train_scaled, y_train))\n",
        "print(\"R-squared for a test set:\", ridge10_scale.score(X_test_scaled, y_test))\n",
        "y_pred = ridge10_scale.predict(X_test_scaled)\n",
        "from sklearn import metrics\n",
        "print(\"MAE:\", metrics.mean_absolute_error(y_test, y_pred))\n",
        "print(\"MSE:\", metrics.mean_squared_error(y_test, y_pred))\n",
        "print(\"RMSE:\", np.sqrt(metrics.mean_squared_error(y_test, y_pred)))"
      ],
      "metadata": {
        "colab": {
          "base_uri": "https://localhost:8080/"
        },
        "id": "gJXlaXQkxbT8",
        "outputId": "f3e24ad9-6481-4036-87f2-ebfde7e11f3c"
      },
      "execution_count": 158,
      "outputs": [
        {
          "output_type": "stream",
          "name": "stdout",
          "text": [
            "A ridge regression with lamda 10 and scaled data:\n",
            "         Coefficient\n",
            "CRIM       -0.969942\n",
            "ZN          1.055479\n",
            "INDUS       0.035549\n",
            "CHAS        0.594942\n",
            "NOX        -1.851578\n",
            "RM          2.574308\n",
            "AGE        -0.088395\n",
            "DIS        -2.877636\n",
            "RAD         2.104394\n",
            "TAS        -1.868146\n",
            "PTRATIO    -2.291793\n",
            "B           0.718191\n",
            "LSTAT      -3.590798\n",
            "R-squared for a training set: 0.7730134004374536\n",
            "R-squared for a test set: 0.5891134222735185\n",
            "MAE: 3.8431047219898757\n",
            "MSE: 33.457852655753136\n",
            "RMSE: 5.784276329477451\n"
          ]
        }
      ]
    },
    {
      "cell_type": "code",
      "source": [
        "# This is ridge regression with scale (hyperparameters alpha = 1)\n",
        "from sklearn.linear_model import Ridge\n",
        "ridge10_scale = Ridge(alpha=1).fit(X_train_scaled, y_train)\n",
        "\n",
        "df_ridge10_scale = pd.DataFrame(ridge10_scale.coef_, X.columns, columns=['Coefficient'])\n",
        "print(\"A ridge regression with lamda 10 and scaled data:\")\n",
        "print(df_ridge10_scale)\n",
        "print(\"R-squared for a training set:\", ridge10_scale.score(X_train_scaled, y_train))\n",
        "print(\"R-squared for a test set:\", ridge10_scale.score(X_test_scaled, y_test))\n",
        "y_pred = ridge10_scale.predict(X_test_scaled)\n",
        "from sklearn import metrics\n",
        "print(\"MAE:\", metrics.mean_absolute_error(y_test, y_pred))\n",
        "print(\"MSE:\", metrics.mean_squared_error(y_test, y_pred))\n",
        "print(\"RMSE:\", np.sqrt(metrics.mean_squared_error(y_test, y_pred)))"
      ],
      "metadata": {
        "colab": {
          "base_uri": "https://localhost:8080/"
        },
        "id": "gfQw44lKjExA",
        "outputId": "33ac1ff1-257e-4245-b574-6ddca2730fd8"
      },
      "execution_count": 138,
      "outputs": [
        {
          "output_type": "stream",
          "name": "stdout",
          "text": [
            "A ridge regression with lamda 10 and scaled data:\n",
            "         Coefficient\n",
            "CRIM       -0.962257\n",
            "ZN          1.040872\n",
            "INDUS       0.011680\n",
            "CHAS        0.598719\n",
            "NOX        -1.820134\n",
            "RM          2.583786\n",
            "AGE        -0.095188\n",
            "DIS        -2.848263\n",
            "RAD         2.036231\n",
            "TAS        -1.806092\n",
            "PTRATIO    -2.283191\n",
            "B           0.718310\n",
            "LSTAT      -3.576073\n",
            "R-squared for a training set: 0.7729986739069824\n",
            "R-squared for a test set: 0.5881400471345533\n",
            "MAE: 3.8447526918478823\n",
            "MSE: 33.53711307394073\n",
            "RMSE: 5.791123645195355\n"
          ]
        }
      ]
    },
    {
      "cell_type": "code",
      "source": [
        "# This is ridge regression with scale (hyperparameters alpha = 10)\n",
        "from sklearn.linear_model import Ridge\n",
        "ridge10_scale = Ridge(alpha=10).fit(X_train_scaled, y_train)\n",
        "\n",
        "df_ridge10_scale = pd.DataFrame(ridge10_scale.coef_, X.columns, columns=['Coefficient'])\n",
        "print(\"A ridge regression with lamda 10 and scaled data:\")\n",
        "print(df_ridge10_scale)\n",
        "print(\"R-squared for a training set:\", ridge10_scale.score(X_train_scaled, y_train))\n",
        "print(\"R-squared for a test set:\", ridge10_scale.score(X_test_scaled, y_test))\n",
        "y_pred = ridge10_scale.predict(X_test_scaled)\n",
        "from sklearn import metrics\n",
        "print(\"MAE:\", metrics.mean_absolute_error(y_test, y_pred))\n",
        "print(\"MSE:\", metrics.mean_squared_error(y_test, y_pred))\n",
        "print(\"RMSE:\", np.sqrt(metrics.mean_squared_error(y_test, y_pred)))"
      ],
      "metadata": {
        "colab": {
          "base_uri": "https://localhost:8080/"
        },
        "id": "H8RzlHlXj_vC",
        "outputId": "6050483b-b45d-4ca6-83cd-de468b80930c"
      },
      "execution_count": 139,
      "outputs": [
        {
          "output_type": "stream",
          "name": "stdout",
          "text": [
            "A ridge regression with lamda 10 and scaled data:\n",
            "         Coefficient\n",
            "CRIM       -0.901965\n",
            "ZN          0.926287\n",
            "INDUS      -0.157051\n",
            "CHAS        0.625918\n",
            "NOX        -1.560302\n",
            "RM          2.653906\n",
            "AGE        -0.146581\n",
            "DIS        -2.588020\n",
            "RAD         1.533846\n",
            "TAS        -1.370452\n",
            "PTRATIO    -2.209979\n",
            "B           0.719940\n",
            "LSTAT      -3.444268\n",
            "R-squared for a training set: 0.7720252703788119\n",
            "R-squared for a test set: 0.5791628807875255\n",
            "MAE: 3.8551745247030866\n",
            "MSE: 34.26810971677822\n",
            "RMSE: 5.853896968411575\n"
          ]
        }
      ]
    },
    {
      "cell_type": "code",
      "source": [
        "# This is ridge regression with scale (hyperparameters alpha = 100)\n",
        "from sklearn.linear_model import Ridge\n",
        "ridge10_scale = Ridge(alpha=100).fit(X_train_scaled, y_train)\n",
        "\n",
        "df_ridge10_scale = pd.DataFrame(ridge10_scale.coef_, X.columns, columns=['Coefficient'])\n",
        "print(\"A ridge regression with lamda 10 and scaled data:\")\n",
        "print(df_ridge10_scale)\n",
        "print(\"R-squared for a training set:\", ridge10_scale.score(X_train_scaled, y_train))\n",
        "print(\"R-squared for a test set:\", ridge10_scale.score(X_test_scaled, y_test))\n",
        "y_pred = ridge10_scale.predict(X_test_scaled)\n",
        "from sklearn import metrics\n",
        "print(\"MAE:\", metrics.mean_absolute_error(y_test, y_pred))\n",
        "print(\"MSE:\", metrics.mean_squared_error(y_test, y_pred))\n",
        "print(\"RMSE:\", np.sqrt(metrics.mean_squared_error(y_test, y_pred)))"
      ],
      "metadata": {
        "colab": {
          "base_uri": "https://localhost:8080/"
        },
        "id": "8diDJTpLwDbs",
        "outputId": "2b331960-db01-450e-a28c-101178c770ff"
      },
      "execution_count": 140,
      "outputs": [
        {
          "output_type": "stream",
          "name": "stdout",
          "text": [
            "A ridge regression with lamda 10 and scaled data:\n",
            "         Coefficient\n",
            "CRIM       -0.708783\n",
            "ZN          0.602925\n",
            "INDUS      -0.481556\n",
            "CHAS        0.662516\n",
            "NOX        -0.702047\n",
            "RM          2.643872\n",
            "AGE        -0.263320\n",
            "DIS        -1.393256\n",
            "RAD         0.322752\n",
            "TAS        -0.612679\n",
            "PTRATIO    -1.846754\n",
            "B           0.695460\n",
            "LSTAT      -2.710461\n",
            "R-squared for a training set: 0.7515163225742546\n",
            "R-squared for a test set: 0.5272685191319559\n",
            "MAE: 4.0449084085274265\n",
            "MSE: 38.49378658250493\n",
            "RMSE: 6.204336111342206\n"
          ]
        }
      ]
    },
    {
      "cell_type": "code",
      "source": [
        "# This is ridge regression with scale (hyperparameters alpha = 1000)\n",
        "from sklearn.linear_model import Ridge\n",
        "ridge10_scale = Ridge(alpha=1000).fit(X_train_scaled, y_train)\n",
        "\n",
        "df_ridge10_scale = pd.DataFrame(ridge10_scale.coef_, X.columns, columns=['Coefficient'])\n",
        "print(\"A ridge regression with lamda 10 and scaled data:\")\n",
        "print(df_ridge10_scale)\n",
        "print(\"R-squared for a training set:\", ridge10_scale.score(X_train_scaled, y_train))\n",
        "print(\"R-squared for a test set:\", ridge10_scale.score(X_test_scaled, y_test))\n",
        "y_pred = ridge10_scale.predict(X_test_scaled)\n",
        "from sklearn import metrics\n",
        "print(\"MAE:\", metrics.mean_absolute_error(y_test, y_pred))\n",
        "print(\"MSE:\", metrics.mean_squared_error(y_test, y_pred))\n",
        "print(\"RMSE:\", np.sqrt(metrics.mean_squared_error(y_test, y_pred)))"
      ],
      "metadata": {
        "colab": {
          "base_uri": "https://localhost:8080/"
        },
        "id": "iEHHNsPHwOw-",
        "outputId": "007fc642-9f32-45da-e02c-ae7183b114c2"
      },
      "execution_count": 157,
      "outputs": [
        {
          "output_type": "stream",
          "name": "stdout",
          "text": [
            "A ridge regression with lamda 10 and scaled data:\n",
            "         Coefficient\n",
            "CRIM       -0.453716\n",
            "ZN          0.416153\n",
            "INDUS      -0.504161\n",
            "CHAS        0.369364\n",
            "NOX        -0.374977\n",
            "RM          1.294925\n",
            "AGE        -0.322093\n",
            "DIS        -0.078157\n",
            "RAD        -0.290222\n",
            "TAS        -0.478899\n",
            "PTRATIO    -0.912526\n",
            "B           0.429030\n",
            "LSTAT      -1.195766\n",
            "R-squared for a training set: 0.5728326430134054\n",
            "R-squared for a test set: 0.3655172284411423\n",
            "MAE: 4.8307676976126395\n",
            "MSE: 51.6649416997054\n",
            "RMSE: 7.187832893140004\n"
          ]
        }
      ]
    },
    {
      "cell_type": "code",
      "source": [
        "# This is ridge regression with scale (hyperparameters alpha = 10000)\n",
        "from sklearn.linear_model import Ridge\n",
        "ridge10_scale = Ridge(alpha=10000).fit(X_train_scaled, y_train)\n",
        "\n",
        "df_ridge10_scale = pd.DataFrame(ridge10_scale.coef_, X.columns, columns=['Coefficient'])\n",
        "print(\"A ridge regression with lamda 10 and scaled data:\")\n",
        "print(df_ridge10_scale)\n",
        "print(\"R-squared for a training set:\", ridge10_scale.score(X_train_scaled, y_train))\n",
        "print(\"R-squared for a test set:\", ridge10_scale.score(X_test_scaled, y_test))\n",
        "y_pred = ridge10_scale.predict(X_test_scaled)\n",
        "from sklearn import metrics\n",
        "print(\"MAE:\", metrics.mean_absolute_error(y_test, y_pred))\n",
        "print(\"MSE:\", metrics.mean_squared_error(y_test, y_pred))\n",
        "print(\"RMSE:\", np.sqrt(metrics.mean_squared_error(y_test, y_pred)))"
      ],
      "metadata": {
        "colab": {
          "base_uri": "https://localhost:8080/"
        },
        "id": "8nxc1HMJwSNJ",
        "outputId": "1a679787-445e-47af-f54b-e817eb2381a5"
      },
      "execution_count": 156,
      "outputs": [
        {
          "output_type": "stream",
          "name": "stdout",
          "text": [
            "A ridge regression with lamda 10 and scaled data:\n",
            "         Coefficient\n",
            "CRIM       -0.123249\n",
            "ZN          0.121509\n",
            "INDUS      -0.154693\n",
            "CHAS        0.061217\n",
            "NOX        -0.131748\n",
            "RM          0.232369\n",
            "AGE        -0.118271\n",
            "DIS         0.069880\n",
            "RAD        -0.121253\n",
            "TAS        -0.150060\n",
            "PTRATIO    -0.181020\n",
            "B           0.107621\n",
            "LSTAT      -0.240157\n",
            "R-squared for a training set: 0.1848284789296245\n",
            "R-squared for a test set: 0.12285509592033172\n",
            "MAE: 5.796599531846102\n",
            "MSE: 71.42454037030674\n",
            "RMSE: 8.451304063297377\n"
          ]
        }
      ]
    },
    {
      "cell_type": "code",
      "source": [
        "# This is lasso regression without scaling\n",
        "from sklearn.linear_model import Lasso\n",
        "lasso01 = Lasso(alpha=0.1).fit(X_train, y_train)\n",
        "\n",
        "df_lasso01 = pd.DataFrame(lasso01.coef_, X.columns, columns=['Coefficient'])\n",
        "print(\"A lasso regression with lamda 0.1 and non-scaled data:\")\n",
        "print(df_lasso01)\n",
        "print(\"R-squared for a training set:\", lasso01.score(X_train, y_train))\n",
        "print(\"R-squared for a test set:\", lasso01.score(X_test, y_test))\n",
        "y_pred = lasso01.predict(X_test)\n",
        "from sklearn import metrics\n",
        "print(\"MAE:\", metrics.mean_absolute_error(y_test, y_pred))\n",
        "print(\"MSE:\", metrics.mean_squared_error(y_test, y_pred))\n",
        "print(\"RMSE:\", np.sqrt(metrics.mean_squared_error(y_test, y_pred)))"
      ],
      "metadata": {
        "colab": {
          "base_uri": "https://localhost:8080/"
        },
        "id": "6J9cFIOVkJfY",
        "outputId": "460ff3d1-784c-46d9-a8f2-7cdaba8cc2d7"
      },
      "execution_count": 126,
      "outputs": [
        {
          "output_type": "stream",
          "name": "stdout",
          "text": [
            "A lasso regression with lamda 0.1 and non-scaled data:\n",
            "         Coefficient\n",
            "CRIM       -0.111247\n",
            "ZN          0.047784\n",
            "INDUS      -0.043241\n",
            "CHAS        0.842320\n",
            "NOX        -0.000000\n",
            "RM          3.594824\n",
            "AGE        -0.014483\n",
            "DIS        -1.111749\n",
            "RAD         0.206671\n",
            "TAS        -0.012868\n",
            "PTRATIO    -0.892662\n",
            "B           0.009120\n",
            "LSTAT      -0.525479\n",
            "R-squared for a training set: 0.7623109288693531\n",
            "R-squared for a test set: 0.5569747742783787\n",
            "MAE: 3.9289202770429967\n",
            "MSE: 36.0748525955572\n",
            "RMSE: 6.006234477237565\n"
          ]
        }
      ]
    },
    {
      "cell_type": "code",
      "source": [
        "# This is lasso regression with scaling\n",
        "from sklearn.linear_model import Lasso\n",
        "lasso01_scale = Lasso(alpha=0.1).fit(X_train_scaled, y_train)\n",
        "\n",
        "df_lasso01_scale = pd.DataFrame(lasso01_scale.coef_, X.columns, columns=['Coefficient'])\n",
        "print(\"A lasso regression with lamda 0.1 and scaled data:\")\n",
        "print(df_lasso01_scale)\n",
        "print(\"R-squared for a training set:\", lasso01_scale.score(X_train_scaled, y_train))\n",
        "print(\"R-squared for a test set:\", lasso01_scale.score(X_test_scaled, y_test))\n",
        "y_pred = lasso01_scale.predict(X_test_scaled)\n",
        "from sklearn import metrics\n",
        "print(\"MAE:\", metrics.mean_absolute_error(y_test, y_pred))\n",
        "print(\"MSE:\", metrics.mean_squared_error(y_test, y_pred))\n",
        "print(\"RMSE:\", np.sqrt(metrics.mean_squared_error(y_test, y_pred)))"
      ],
      "metadata": {
        "colab": {
          "base_uri": "https://localhost:8080/"
        },
        "id": "yggceVc2k_7u",
        "outputId": "07ebbec8-b032-4187-8661-7875b801b4cd"
      },
      "execution_count": 130,
      "outputs": [
        {
          "output_type": "stream",
          "name": "stdout",
          "text": [
            "A lasso regression with lamda 0.1 and scaled data:\n",
            "         Coefficient\n",
            "CRIM       -0.663468\n",
            "ZN          0.701524\n",
            "INDUS      -0.130724\n",
            "CHAS        0.588934\n",
            "NOX        -1.358749\n",
            "RM          2.722754\n",
            "AGE        -0.000000\n",
            "DIS        -2.140932\n",
            "RAD         0.640853\n",
            "TAS        -0.658779\n",
            "PTRATIO    -2.172217\n",
            "B           0.602666\n",
            "LSTAT      -3.615800\n",
            "R-squared for a training set: 0.7676692732920614\n",
            "R-squared for a test set: 0.5663726208397636\n",
            "MAE: 3.8865569410993444\n",
            "MSE: 35.3096006195204\n",
            "RMSE: 5.942188201287502\n"
          ]
        }
      ]
    },
    {
      "cell_type": "code",
      "source": [
        "# This is lasso regression with scaling hyperparamter (alpha = 0.0001)\n",
        "from sklearn.linear_model import Lasso\n",
        "lasso01_scale = Lasso(alpha=0.01).fit(X_train_scaled, y_train)\n",
        "\n",
        "df_lasso01_scale = pd.DataFrame(lasso01_scale.coef_, X.columns, columns=['Coefficient'])\n",
        "print(\"A lasso regression with lamda 0.1 and scaled data:\")\n",
        "print(df_lasso01_scale)\n",
        "print(\"R-squared for a training set:\", lasso01_scale.score(X_train_scaled, y_train))\n",
        "print(\"R-squared for a test set:\", lasso01_scale.score(X_test_scaled, y_test))\n",
        "y_pred = lasso01_scale.predict(X_test_scaled)\n",
        "from sklearn import metrics\n",
        "print(\"MAE:\", metrics.mean_absolute_error(y_test, y_pred))\n",
        "print(\"MSE:\", metrics.mean_squared_error(y_test, y_pred))\n",
        "print(\"RMSE:\", np.sqrt(metrics.mean_squared_error(y_test, y_pred)))"
      ],
      "metadata": {
        "colab": {
          "base_uri": "https://localhost:8080/"
        },
        "id": "zm0Hc6i7lcG5",
        "outputId": "3601940a-abef-4ff1-a9da-23ef1d9bd829"
      },
      "execution_count": 145,
      "outputs": [
        {
          "output_type": "stream",
          "name": "stdout",
          "text": [
            "A lasso regression with lamda 0.1 and scaled data:\n",
            "         Coefficient\n",
            "CRIM       -0.940302\n",
            "ZN          1.021582\n",
            "INDUS      -0.000000\n",
            "CHAS        0.594840\n",
            "NOX        -1.804075\n",
            "RM          2.585398\n",
            "AGE        -0.069486\n",
            "DIS        -2.809365\n",
            "RAD         1.956109\n",
            "TAS        -1.738284\n",
            "PTRATIO    -2.278841\n",
            "B           0.705484\n",
            "LSTAT      -3.596398\n",
            "R-squared for a training set: 0.7729557113377097\n",
            "R-squared for a test set: 0.5874763161420908\n",
            "MAE: 3.843868756386693\n",
            "MSE: 33.59115965261396\n",
            "RMSE: 5.795788095903262\n"
          ]
        }
      ]
    },
    {
      "cell_type": "code",
      "source": [
        "# This is lasso regression with scaling (hyperparamter (alpha = 0.001)\n",
        "from sklearn.linear_model import Lasso\n",
        "lasso01_scale = Lasso(alpha=0.001).fit(X_train_scaled, y_train)\n",
        "\n",
        "df_lasso01_scale = pd.DataFrame(lasso01_scale.coef_, X.columns, columns=['Coefficient'])\n",
        "print(\"A lasso regression with lamda 0.1 and scaled data:\")\n",
        "print(df_lasso01_scale)\n",
        "print(\"R-squared for a training set:\", lasso01_scale.score(X_train_scaled, y_train))\n",
        "print(\"R-squared for a test set:\", lasso01_scale.score(X_test_scaled, y_test))\n",
        "y_pred = lasso01_scale.predict(X_test_scaled)\n",
        "from sklearn import metrics\n",
        "print(\"MAE:\", metrics.mean_absolute_error(y_test, y_pred))\n",
        "print(\"MSE:\", metrics.mean_squared_error(y_test, y_pred))\n",
        "print(\"RMSE:\", np.sqrt(metrics.mean_squared_error(y_test, y_pred)))"
      ],
      "metadata": {
        "colab": {
          "base_uri": "https://localhost:8080/"
        },
        "id": "FmrXzgq1l7c0",
        "outputId": "d314b338-4a4f-42cc-988e-fd2e3d0b7035"
      },
      "execution_count": 146,
      "outputs": [
        {
          "output_type": "stream",
          "name": "stdout",
          "text": [
            "A lasso regression with lamda 0.1 and scaled data:\n",
            "         Coefficient\n",
            "CRIM       -0.967874\n",
            "ZN          1.053234\n",
            "INDUS       0.028566\n",
            "CHAS        0.594814\n",
            "NOX        -1.848201\n",
            "RM          2.574014\n",
            "AGE        -0.085817\n",
            "DIS        -2.874999\n",
            "RAD         2.093952\n",
            "TAS        -1.857546\n",
            "PTRATIO    -2.290700\n",
            "B           0.716796\n",
            "LSTAT      -3.592545\n",
            "R-squared for a training set: 0.7730127295116839\n",
            "R-squared for a test set: 0.5890287763120774\n",
            "MAE: 3.8433271646038483\n",
            "MSE: 33.46474524426618\n",
            "RMSE: 5.784872102671431\n"
          ]
        }
      ]
    },
    {
      "cell_type": "code",
      "source": [
        "# This is lasso regression with scaling hyperparamter (alpha = 0.01)\n",
        "from sklearn.linear_model import Lasso\n",
        "lasso01_scale = Lasso(alpha=0.01).fit(X_train_scaled, y_train)\n",
        "\n",
        "df_lasso01_scale = pd.DataFrame(lasso01_scale.coef_, X.columns, columns=['Coefficient'])\n",
        "print(\"A lasso regression with lamda 0.1 and scaled data:\")\n",
        "print(df_lasso01_scale)\n",
        "print(\"R-squared for a training set:\", lasso01_scale.score(X_train_scaled, y_train))\n",
        "print(\"R-squared for a test set:\", lasso01_scale.score(X_test_scaled, y_test))\n",
        "y_pred = lasso01_scale.predict(X_test_scaled)\n",
        "from sklearn import metrics\n",
        "print(\"MAE:\", metrics.mean_absolute_error(y_test, y_pred))\n",
        "print(\"MSE:\", metrics.mean_squared_error(y_test, y_pred))\n",
        "print(\"RMSE:\", np.sqrt(metrics.mean_squared_error(y_test, y_pred)))"
      ],
      "metadata": {
        "colab": {
          "base_uri": "https://localhost:8080/"
        },
        "id": "hceD8i-zrJ4-",
        "outputId": "988a4944-cfb7-43ec-9642-6c1ad06976df"
      },
      "execution_count": 147,
      "outputs": [
        {
          "output_type": "stream",
          "name": "stdout",
          "text": [
            "A lasso regression with lamda 0.1 and scaled data:\n",
            "         Coefficient\n",
            "CRIM       -0.940302\n",
            "ZN          1.021582\n",
            "INDUS      -0.000000\n",
            "CHAS        0.594840\n",
            "NOX        -1.804075\n",
            "RM          2.585398\n",
            "AGE        -0.069486\n",
            "DIS        -2.809365\n",
            "RAD         1.956109\n",
            "TAS        -1.738284\n",
            "PTRATIO    -2.278841\n",
            "B           0.705484\n",
            "LSTAT      -3.596398\n",
            "R-squared for a training set: 0.7729557113377097\n",
            "R-squared for a test set: 0.5874763161420908\n",
            "MAE: 3.843868756386693\n",
            "MSE: 33.59115965261396\n",
            "RMSE: 5.795788095903262\n"
          ]
        }
      ]
    },
    {
      "cell_type": "code",
      "source": [
        "# This is lasso regression with scaling hyperparamter (alpha = 0.1)\n",
        "from sklearn.linear_model import Lasso\n",
        "lasso01_scale = Lasso(alpha=0.01).fit(X_train_scaled, y_train)\n",
        "\n",
        "df_lasso01_scale = pd.DataFrame(lasso01_scale.coef_, X.columns, columns=['Coefficient'])\n",
        "print(\"A lasso regression with lamda 0.1 and scaled data:\")\n",
        "print(df_lasso01_scale)\n",
        "print(\"R-squared for a training set:\", lasso01_scale.score(X_train_scaled, y_train))\n",
        "print(\"R-squared for a test set:\", lasso01_scale.score(X_test_scaled, y_test))\n",
        "y_pred = lasso01_scale.predict(X_test_scaled)\n",
        "from sklearn import metrics\n",
        "print(\"MAE:\", metrics.mean_absolute_error(y_test, y_pred))\n",
        "print(\"MSE:\", metrics.mean_squared_error(y_test, y_pred))\n",
        "print(\"RMSE:\", np.sqrt(metrics.mean_squared_error(y_test, y_pred)))"
      ],
      "metadata": {
        "colab": {
          "base_uri": "https://localhost:8080/"
        },
        "id": "7mqsyFzorKF5",
        "outputId": "cc9c4621-8167-460a-d969-23fa6115c0e8"
      },
      "execution_count": 148,
      "outputs": [
        {
          "output_type": "stream",
          "name": "stdout",
          "text": [
            "A lasso regression with lamda 0.1 and scaled data:\n",
            "         Coefficient\n",
            "CRIM       -0.940302\n",
            "ZN          1.021582\n",
            "INDUS      -0.000000\n",
            "CHAS        0.594840\n",
            "NOX        -1.804075\n",
            "RM          2.585398\n",
            "AGE        -0.069486\n",
            "DIS        -2.809365\n",
            "RAD         1.956109\n",
            "TAS        -1.738284\n",
            "PTRATIO    -2.278841\n",
            "B           0.705484\n",
            "LSTAT      -3.596398\n",
            "R-squared for a training set: 0.7729557113377097\n",
            "R-squared for a test set: 0.5874763161420908\n",
            "MAE: 3.843868756386693\n",
            "MSE: 33.59115965261396\n",
            "RMSE: 5.795788095903262\n"
          ]
        }
      ]
    },
    {
      "cell_type": "code",
      "source": [
        "# This is lasso regression with scaling hyperparamter (alpha = 1)\n",
        "from sklearn.linear_model import Lasso\n",
        "lasso01_scale = Lasso(alpha=0.01).fit(X_train_scaled, y_train)\n",
        "\n",
        "df_lasso01_scale = pd.DataFrame(lasso01_scale.coef_, X.columns, columns=['Coefficient'])\n",
        "print(\"A lasso regression with lamda 0.1 and scaled data:\")\n",
        "print(df_lasso01_scale)\n",
        "print(\"R-squared for a training set:\", lasso01_scale.score(X_train_scaled, y_train))\n",
        "print(\"R-squared for a test set:\", lasso01_scale.score(X_test_scaled, y_test))\n",
        "y_pred = lasso01_scale.predict(X_test_scaled)\n",
        "from sklearn import metrics\n",
        "print(\"MAE:\", metrics.mean_absolute_error(y_test, y_pred))\n",
        "print(\"MSE:\", metrics.mean_squared_error(y_test, y_pred))\n",
        "print(\"RMSE:\", np.sqrt(metrics.mean_squared_error(y_test, y_pred)))"
      ],
      "metadata": {
        "colab": {
          "base_uri": "https://localhost:8080/"
        },
        "id": "TzwF_2CdrKJE",
        "outputId": "7b0510f6-8d24-48e8-f077-c7516199fbd4"
      },
      "execution_count": 149,
      "outputs": [
        {
          "output_type": "stream",
          "name": "stdout",
          "text": [
            "A lasso regression with lamda 0.1 and scaled data:\n",
            "         Coefficient\n",
            "CRIM       -0.940302\n",
            "ZN          1.021582\n",
            "INDUS      -0.000000\n",
            "CHAS        0.594840\n",
            "NOX        -1.804075\n",
            "RM          2.585398\n",
            "AGE        -0.069486\n",
            "DIS        -2.809365\n",
            "RAD         1.956109\n",
            "TAS        -1.738284\n",
            "PTRATIO    -2.278841\n",
            "B           0.705484\n",
            "LSTAT      -3.596398\n",
            "R-squared for a training set: 0.7729557113377097\n",
            "R-squared for a test set: 0.5874763161420908\n",
            "MAE: 3.843868756386693\n",
            "MSE: 33.59115965261396\n",
            "RMSE: 5.795788095903262\n"
          ]
        }
      ]
    },
    {
      "cell_type": "code",
      "source": [
        "# This is lasso regression with scaling hyperparamter (alpha = 10)\n",
        "from sklearn.linear_model import Lasso\n",
        "lasso01_scale = Lasso(alpha=0.01).fit(X_train_scaled, y_train)\n",
        "\n",
        "df_lasso01_scale = pd.DataFrame(lasso01_scale.coef_, X.columns, columns=['Coefficient'])\n",
        "print(\"A lasso regression with lamda 0.1 and scaled data:\")\n",
        "print(df_lasso01_scale)\n",
        "print(\"R-squared for a training set:\", lasso01_scale.score(X_train_scaled, y_train))\n",
        "print(\"R-squared for a test set:\", lasso01_scale.score(X_test_scaled, y_test))\n",
        "y_pred = lasso01_scale.predict(X_test_scaled)\n",
        "from sklearn import metrics\n",
        "print(\"MAE:\", metrics.mean_absolute_error(y_test, y_pred))\n",
        "print(\"MSE:\", metrics.mean_squared_error(y_test, y_pred))\n",
        "print(\"RMSE:\", np.sqrt(metrics.mean_squared_error(y_test, y_pred)))"
      ],
      "metadata": {
        "colab": {
          "base_uri": "https://localhost:8080/"
        },
        "id": "C7DiA-M9rKPI",
        "outputId": "2ecb7fb2-445a-4bea-ce85-ea6012fd12f0"
      },
      "execution_count": 150,
      "outputs": [
        {
          "output_type": "stream",
          "name": "stdout",
          "text": [
            "A lasso regression with lamda 0.1 and scaled data:\n",
            "         Coefficient\n",
            "CRIM       -0.940302\n",
            "ZN          1.021582\n",
            "INDUS      -0.000000\n",
            "CHAS        0.594840\n",
            "NOX        -1.804075\n",
            "RM          2.585398\n",
            "AGE        -0.069486\n",
            "DIS        -2.809365\n",
            "RAD         1.956109\n",
            "TAS        -1.738284\n",
            "PTRATIO    -2.278841\n",
            "B           0.705484\n",
            "LSTAT      -3.596398\n",
            "R-squared for a training set: 0.7729557113377097\n",
            "R-squared for a test set: 0.5874763161420908\n",
            "MAE: 3.843868756386693\n",
            "MSE: 33.59115965261396\n",
            "RMSE: 5.795788095903262\n"
          ]
        }
      ]
    },
    {
      "cell_type": "code",
      "source": [
        "# This is lasso regression with scaling hyperparamter (alpha = 100)\n",
        "from sklearn.linear_model import Lasso\n",
        "lasso01_scale = Lasso(alpha=0.01).fit(X_train_scaled, y_train)\n",
        "\n",
        "df_lasso01_scale = pd.DataFrame(lasso01_scale.coef_, X.columns, columns=['Coefficient'])\n",
        "print(\"A lasso regression with lamda 0.1 and scaled data:\")\n",
        "print(df_lasso01_scale)\n",
        "print(\"R-squared for a training set:\", lasso01_scale.score(X_train_scaled, y_train))\n",
        "print(\"R-squared for a test set:\", lasso01_scale.score(X_test_scaled, y_test))\n",
        "y_pred = lasso01_scale.predict(X_test_scaled)\n",
        "from sklearn import metrics\n",
        "print(\"MAE:\", metrics.mean_absolute_error(y_test, y_pred))\n",
        "print(\"MSE:\", metrics.mean_squared_error(y_test, y_pred))\n",
        "print(\"RMSE:\", np.sqrt(metrics.mean_squared_error(y_test, y_pred)))"
      ],
      "metadata": {
        "colab": {
          "base_uri": "https://localhost:8080/"
        },
        "id": "q8lg52bSw47d",
        "outputId": "d9a6c152-ea9c-42f3-aa11-9ce3eaa42fa7"
      },
      "execution_count": 151,
      "outputs": [
        {
          "output_type": "stream",
          "name": "stdout",
          "text": [
            "A lasso regression with lamda 0.1 and scaled data:\n",
            "         Coefficient\n",
            "CRIM       -0.940302\n",
            "ZN          1.021582\n",
            "INDUS      -0.000000\n",
            "CHAS        0.594840\n",
            "NOX        -1.804075\n",
            "RM          2.585398\n",
            "AGE        -0.069486\n",
            "DIS        -2.809365\n",
            "RAD         1.956109\n",
            "TAS        -1.738284\n",
            "PTRATIO    -2.278841\n",
            "B           0.705484\n",
            "LSTAT      -3.596398\n",
            "R-squared for a training set: 0.7729557113377097\n",
            "R-squared for a test set: 0.5874763161420908\n",
            "MAE: 3.843868756386693\n",
            "MSE: 33.59115965261396\n",
            "RMSE: 5.795788095903262\n"
          ]
        }
      ]
    },
    {
      "cell_type": "code",
      "source": [
        "# This is lasso regression with scaling hyperparamter (alpha = 1000)\n",
        "from sklearn.linear_model import Lasso\n",
        "lasso01_scale = Lasso(alpha=0.01).fit(X_train_scaled, y_train)\n",
        "\n",
        "df_lasso01_scale = pd.DataFrame(lasso01_scale.coef_, X.columns, columns=['Coefficient'])\n",
        "print(\"A lasso regression with lamda 0.1 and scaled data:\")\n",
        "print(df_lasso01_scale)\n",
        "print(\"R-squared for a training set:\", lasso01_scale.score(X_train_scaled, y_train))\n",
        "print(\"R-squared for a test set:\", lasso01_scale.score(X_test_scaled, y_test))\n",
        "y_pred = lasso01_scale.predict(X_test_scaled)\n",
        "from sklearn import metrics\n",
        "print(\"MAE:\", metrics.mean_absolute_error(y_test, y_pred))\n",
        "print(\"MSE:\", metrics.mean_squared_error(y_test, y_pred))\n",
        "print(\"RMSE:\", np.sqrt(metrics.mean_squared_error(y_test, y_pred)))"
      ],
      "metadata": {
        "colab": {
          "base_uri": "https://localhost:8080/"
        },
        "id": "TeFKtL_ixBZS",
        "outputId": "4e39ad1a-4890-4246-c1fc-b095d1c45dc4"
      },
      "execution_count": 152,
      "outputs": [
        {
          "output_type": "stream",
          "name": "stdout",
          "text": [
            "A lasso regression with lamda 0.1 and scaled data:\n",
            "         Coefficient\n",
            "CRIM       -0.940302\n",
            "ZN          1.021582\n",
            "INDUS      -0.000000\n",
            "CHAS        0.594840\n",
            "NOX        -1.804075\n",
            "RM          2.585398\n",
            "AGE        -0.069486\n",
            "DIS        -2.809365\n",
            "RAD         1.956109\n",
            "TAS        -1.738284\n",
            "PTRATIO    -2.278841\n",
            "B           0.705484\n",
            "LSTAT      -3.596398\n",
            "R-squared for a training set: 0.7729557113377097\n",
            "R-squared for a test set: 0.5874763161420908\n",
            "MAE: 3.843868756386693\n",
            "MSE: 33.59115965261396\n",
            "RMSE: 5.795788095903262\n"
          ]
        }
      ]
    },
    {
      "cell_type": "code",
      "source": [
        ""
      ],
      "metadata": {
        "id": "tYlWomeQxDLd"
      },
      "execution_count": null,
      "outputs": []
    }
  ]
}